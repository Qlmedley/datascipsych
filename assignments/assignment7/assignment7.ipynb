{
 "cells": [
  {
   "cell_type": "markdown",
   "metadata": {},
   "source": [
    "# Assignment 7 draft (NOT FINALIZED)\n",
    "\n",
    "Please fill in blanks in the *Answer* sections of this notebook. To check your answer for a problem, run the Setup, Answer, and Result sections. DO NOT MODIFY SETUP OR RESULT CELLS. See the [README](https://github.com/mortonne/datascipsych) for instructions on setting up a Python environment to run this notebook.\n",
    "\n",
    "Write your answers for each problem. Then restart the kernel, run all cells, and then save the notebook. Upload your notebook to Canvas.\n",
    "\n",
    "If you get stuck, read through the other notebooks in this directory, ask us for help in class, or ask other students for help in class or on the weekly discussion board."
   ]
  },
  {
   "cell_type": "markdown",
   "metadata": {},
   "source": [
    "## Problem: importing a DataFrame (2 points)\n",
    "\n",
    "### Import a CSV file (1 point)\n",
    "\n",
    "Import the `people.csv` file in this directory to a Polars DataFrame called `people`.\n",
    "\n",
    "### Convert a column to a NumPy array (1 point)\n",
    "\n",
    "Convert the `height` column to a NumPy array, stored in a variable called `height`."
   ]
  },
  {
   "cell_type": "markdown",
   "metadata": {},
   "source": [
    "### Setup"
   ]
  },
  {
   "cell_type": "code",
   "execution_count": 1,
   "metadata": {},
   "outputs": [],
   "source": [
    "import numpy as np\n",
    "import polars as pl\n",
    "people = None\n",
    "height = None"
   ]
  },
  {
   "cell_type": "markdown",
   "metadata": {},
   "source": [
    "### Answer"
   ]
  },
  {
   "cell_type": "code",
   "execution_count": 2,
   "metadata": {},
   "outputs": [],
   "source": [
    "# your code here"
   ]
  },
  {
   "cell_type": "markdown",
   "metadata": {},
   "source": [
    "### Result"
   ]
  },
  {
   "cell_type": "code",
   "execution_count": 3,
   "metadata": {},
   "outputs": [],
   "source": [
    "vars = [people, height]\n",
    "if all([v is not None for v in vars]):\n",
    "    # this should print your variables\n",
    "    print(people)\n",
    "    print(height)\n",
    "\n",
    "    # this should not throw any errors\n",
    "    assert people[\"name\"].equals(\n",
    "        pl.Series([\"Alice Archer\", \"Ben Brown\", \"Chloe Cooper\", \"Daniel Donovan\"])\n",
    "    )\n",
    "    assert people[\"weight\"].equals(pl.Series([57.9, 72.5, 53.6, 83.1]))\n",
    "    assert np.array_equal(height, np.array([1.56, 1.77, 1.65, 1.75]))"
   ]
  },
  {
   "cell_type": "markdown",
   "metadata": {},
   "source": [
    "## Problem: creating a DataFrame (2 points)\n",
    "\n",
    "Create the following DataFrame in a variable called `df`. The `trial_type` and `response` columns should be strings, and the `correct` column should have integers.\n",
    "\n",
    "| trial_type | response | correct |\n",
    "| ---------- | -------- | ------- |\n",
    "| target     | old      | 1       |\n",
    "| lure       | old      | 0       |\n",
    "| target     | new      | 0       |\n",
    "| lure       | new      | 1       |"
   ]
  },
  {
   "cell_type": "markdown",
   "metadata": {},
   "source": [
    "### Setup"
   ]
  },
  {
   "cell_type": "code",
   "execution_count": 4,
   "metadata": {},
   "outputs": [],
   "source": [
    "df = None"
   ]
  },
  {
   "cell_type": "markdown",
   "metadata": {},
   "source": [
    "### Answer"
   ]
  },
  {
   "cell_type": "code",
   "execution_count": 5,
   "metadata": {},
   "outputs": [],
   "source": [
    "# your code here"
   ]
  },
  {
   "cell_type": "markdown",
   "metadata": {},
   "source": [
    "### Result"
   ]
  },
  {
   "cell_type": "code",
   "execution_count": 6,
   "metadata": {},
   "outputs": [],
   "source": [
    "vars = [df]\n",
    "if all([v is not None for v in vars]):\n",
    "    # this should print your variables\n",
    "    print(df)\n",
    "\n",
    "    # this should not throw any errors\n",
    "    trial_type = np.array([\"target\", \"lure\", \"target\", \"lure\"])\n",
    "    assert np.array_equal(df[\"trial_type\"].to_numpy(), trial_type)\n",
    "    response = np.array([\"old\", \"old\", \"new\", \"new\"])\n",
    "    assert np.array_equal(df[\"response\"].to_numpy(), response)\n",
    "    assert np.array_equal(df[\"correct\"].to_numpy(), [1, 0, 0, 1])"
   ]
  },
  {
   "cell_type": "markdown",
   "metadata": {},
   "source": [
    "## Problem: using select (2 points)\n",
    "\n",
    "Given the Osth & Fox dataset (loaded below), use the select method to create a dataset called `subset` with these columns (in order): `subj`, `phase`, `cycle`, `type`."
   ]
  },
  {
   "cell_type": "markdown",
   "metadata": {},
   "source": [
    "### Setup"
   ]
  },
  {
   "cell_type": "code",
   "execution_count": 7,
   "metadata": {},
   "outputs": [],
   "source": [
    "df = pl.read_csv(\"exp1.csv\")\n",
    "subset = None"
   ]
  },
  {
   "cell_type": "markdown",
   "metadata": {},
   "source": [
    "### Answer"
   ]
  },
  {
   "cell_type": "code",
   "execution_count": 8,
   "metadata": {},
   "outputs": [],
   "source": [
    "# your code here"
   ]
  },
  {
   "cell_type": "markdown",
   "metadata": {},
   "source": [
    "### Result"
   ]
  },
  {
   "cell_type": "code",
   "execution_count": 9,
   "metadata": {},
   "outputs": [],
   "source": [
    "vars = [subset]\n",
    "if all([v is not None for v in vars]):\n",
    "    # this should print your variables\n",
    "    print(subset)\n",
    "\n",
    "    # this should not throw any errors\n",
    "    assert subset.shape == (107443, 4)\n",
    "    assert subset.columns == [\"subj\", \"phase\", \"cycle\", \"type\"]\n"
   ]
  },
  {
   "cell_type": "markdown",
   "metadata": {},
   "source": [
    "## Problem: using with_columns (2 points)\n",
    "\n",
    "Given the `people` DataFrame (defined below), which has height in meters in the `height_m` column, add another column with height in feet called `height_ft` (1 meter is 3.28 feet). Assign the modified DataFrame to a variable called `converted`."
   ]
  },
  {
   "cell_type": "markdown",
   "metadata": {},
   "source": [
    "### Setup"
   ]
  },
  {
   "cell_type": "code",
   "execution_count": 10,
   "metadata": {},
   "outputs": [],
   "source": [
    "people = pl.DataFrame(\n",
    "    {\n",
    "        \"name\": [\"Alice Archer\", \"Ben Brown\", \"Chloe Cooper\", \"Daniel Donovan\"],\n",
    "        \"height_m\": [1.56, 1.77, 1.65, 1.75],\n",
    "    }\n",
    ")\n",
    "converted = None"
   ]
  },
  {
   "cell_type": "markdown",
   "metadata": {},
   "source": [
    "### Answer"
   ]
  },
  {
   "cell_type": "code",
   "execution_count": 11,
   "metadata": {},
   "outputs": [],
   "source": [
    "# your code here"
   ]
  },
  {
   "cell_type": "markdown",
   "metadata": {},
   "source": [
    "### Result"
   ]
  },
  {
   "cell_type": "code",
   "execution_count": 12,
   "metadata": {},
   "outputs": [],
   "source": [
    "vars = [converted]\n",
    "if all([v is not None for v in vars]):\n",
    "    # this should print your variables\n",
    "    print(converted)\n",
    "\n",
    "    # this should not throw any errors\n",
    "    assert \"name\" in converted\n",
    "    assert \"height_m\" in converted\n",
    "    assert converted[\"height_ft\"].round(2).equals(pl.Series([5.12, 5.81, 5.41, 5.74]))"
   ]
  },
  {
   "cell_type": "markdown",
   "metadata": {},
   "source": [
    "## Problem: using filter (2 points)\n",
    "\n",
    "Given the Osth & Fox dataset (loaded below), use the filter method to get trials where `subj` is `101` (1 point) and `phase` is `\"test\"` (1 point). Assign the filtered DataFrame to a variable called `filtered`."
   ]
  },
  {
   "cell_type": "markdown",
   "metadata": {},
   "source": [
    "### Setup"
   ]
  },
  {
   "cell_type": "code",
   "execution_count": 13,
   "metadata": {},
   "outputs": [],
   "source": [
    "df = pl.read_csv(\"exp1.csv\")\n",
    "filtered = None"
   ]
  },
  {
   "cell_type": "markdown",
   "metadata": {},
   "source": [
    "### Answer"
   ]
  },
  {
   "cell_type": "code",
   "execution_count": 14,
   "metadata": {},
   "outputs": [],
   "source": [
    "# your code here"
   ]
  },
  {
   "cell_type": "markdown",
   "metadata": {},
   "source": [
    "### Result"
   ]
  },
  {
   "cell_type": "code",
   "execution_count": 15,
   "metadata": {},
   "outputs": [],
   "source": [
    "vars = [filtered]\n",
    "if all([v is not None for v in vars]):\n",
    "    # this should print your variables\n",
    "    print(filtered)\n",
    "\n",
    "    # this should not throw any errors\n",
    "    assert filtered.shape == (480, 16)\n",
    "    assert (filtered[\"subj\"] == 101).all()\n",
    "    assert (filtered[\"phase\"] == \"test\").all()"
   ]
  },
  {
   "cell_type": "markdown",
   "metadata": {},
   "source": [
    "## Problem: summary statistics (2 points)\n",
    "\n",
    "Given the `people` DataFrame defined below, create a new DataFrame with one row and two columns that has the mean weight and mean height across people. It should only have a `weight` column and a `height` column, and no other columns. Assign this DataFrame to a variable called `stats`."
   ]
  },
  {
   "cell_type": "markdown",
   "metadata": {},
   "source": [
    "### Setup"
   ]
  },
  {
   "cell_type": "code",
   "execution_count": 16,
   "metadata": {},
   "outputs": [],
   "source": [
    "people = pl.DataFrame(\n",
    "    {\n",
    "        \"name\": [\"Alice Archer\", \"Ben Brown\", \"Chloe Cooper\", \"Daniel Donovan\"],\n",
    "        \"weight\": [57.9, 72.5, 53.6, 83.1],  # (kg)\n",
    "        \"height\": [1.56, 1.77, 1.65, 1.75],  # (m)\n",
    "    }\n",
    ")\n",
    "stats = None"
   ]
  },
  {
   "cell_type": "markdown",
   "metadata": {},
   "source": [
    "### Answer"
   ]
  },
  {
   "cell_type": "code",
   "execution_count": 17,
   "metadata": {},
   "outputs": [],
   "source": [
    "# your code here"
   ]
  },
  {
   "cell_type": "markdown",
   "metadata": {},
   "source": [
    "### Result"
   ]
  },
  {
   "cell_type": "code",
   "execution_count": 18,
   "metadata": {},
   "outputs": [],
   "source": [
    "vars = [stats]\n",
    "if all([v is not None for v in vars]):\n",
    "    # this should print your variables\n",
    "    print(stats)\n",
    "\n",
    "    # this should not throw any errors\n",
    "    assert stats.shape == (1, 2)\n",
    "    assert stats[\"weight\"].equals(pl.Series([66.775]))\n",
    "    assert stats[\"height\"].equals(pl.Series([1.6825]))"
   ]
  },
  {
   "cell_type": "markdown",
   "metadata": {},
   "source": [
    "## Problem (graduate students): working with dates (2 points)\n",
    "\n",
    "Read the `sessions.csv` file in this directory, parsing the dates in the `session1` and `session2` columns. Add a column called `delay` with the number of days separating sessions 1 and 2 (you should get a column with type `duration[ms]`), and a column called `score_change` with the difference between the `score2` and `score1` columns. Assign your new DataFrame to a variable called `result`."
   ]
  },
  {
   "cell_type": "markdown",
   "metadata": {},
   "source": [
    "### Setup"
   ]
  },
  {
   "cell_type": "code",
   "execution_count": 19,
   "metadata": {},
   "outputs": [],
   "source": [
    "result = None"
   ]
  },
  {
   "cell_type": "markdown",
   "metadata": {},
   "source": [
    "### Answer"
   ]
  },
  {
   "cell_type": "code",
   "execution_count": 20,
   "metadata": {},
   "outputs": [],
   "source": [
    "# your code here"
   ]
  },
  {
   "cell_type": "markdown",
   "metadata": {},
   "source": [
    "### Result"
   ]
  },
  {
   "cell_type": "code",
   "execution_count": 21,
   "metadata": {},
   "outputs": [],
   "source": [
    "from datetime import timedelta\n",
    "vars = [result]\n",
    "if all([v is not None for v in vars]):\n",
    "    # this should print your variables\n",
    "    print(result)\n",
    "\n",
    "    # this should not throw any errors\n",
    "    assert \"participant_id\" in result\n",
    "    assert result[\"delay\"].equals(pl.Series([timedelta(days=3), timedelta(days=5), timedelta(days=4)]))\n",
    "    assert result[\"score_change\"].equals(pl.Series([3, 7, 5]))\n"
   ]
  },
  {
   "cell_type": "markdown",
   "metadata": {},
   "source": [
    "## Problem (graduate students): lazy evaluation (2 points)\n",
    "\n",
    "Read about the [lazy API](https://docs.pola.rs/user-guide/concepts/lazy-api/) in Polars. Use the lazy API to scan `exp1.csv`, filter to get trials where `phase` equals `\"test\"`, select the `response` and `RT` columns, and calculate their means. Assign the result to a variable called `lazy_result`."
   ]
  },
  {
   "cell_type": "markdown",
   "metadata": {},
   "source": [
    "### Setup"
   ]
  },
  {
   "cell_type": "code",
   "execution_count": 22,
   "metadata": {},
   "outputs": [],
   "source": [
    "lazy_result = None"
   ]
  },
  {
   "cell_type": "markdown",
   "metadata": {},
   "source": [
    "### Answer"
   ]
  },
  {
   "cell_type": "code",
   "execution_count": 23,
   "metadata": {},
   "outputs": [],
   "source": [
    "# your code here"
   ]
  },
  {
   "cell_type": "markdown",
   "metadata": {},
   "source": [
    "### Result"
   ]
  },
  {
   "cell_type": "code",
   "execution_count": 24,
   "metadata": {},
   "outputs": [],
   "source": [
    "vars = [lazy_result]\n",
    "if all([v is not None for v in vars]):\n",
    "    # this should print your variables\n",
    "    print(lazy_result)\n",
    "\n",
    "    # this should not throw any errors\n",
    "    assert lazy_result.shape == (1, 2)\n",
    "    assert lazy_result[\"response\"].round(2).equals(pl.Series([0.37]))\n",
    "    assert lazy_result[\"RT\"].round(2).equals(pl.Series([1.33]))\n"
   ]
  }
 ],
 "metadata": {
  "kernelspec": {
   "display_name": "datascipsych",
   "language": "python",
   "name": "datascipsych"
  },
  "language_info": {
   "codemirror_mode": {
    "name": "ipython",
    "version": 3
   },
   "file_extension": ".py",
   "mimetype": "text/x-python",
   "name": "python",
   "nbconvert_exporter": "python",
   "pygments_lexer": "ipython3",
   "version": "3.12.8"
  }
 },
 "nbformat": 4,
 "nbformat_minor": 2
}
