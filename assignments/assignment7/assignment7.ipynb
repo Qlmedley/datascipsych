{
 "cells": [
  {
   "cell_type": "markdown",
   "metadata": {},
   "source": [
    "# Assignment 7\n",
    "\n",
    "Please fill in blanks in the *Answer* sections of this notebook. To check your answer for a problem, run the Setup, Answer, and Result sections. DO NOT MODIFY SETUP OR RESULT CELLS. See the [README](https://github.com/mortonne/datascipsych) for instructions on setting up a Python environment to run this notebook.\n",
    "\n",
    "Write your answers for each problem. Then restart the kernel, run all cells, and then save the notebook. Upload your notebook to Canvas.\n",
    "\n",
    "If you get stuck, read through the other notebooks in this directory, ask us for help in class, or ask other students for help in class or on the weekly discussion board."
   ]
  },
  {
   "cell_type": "markdown",
   "metadata": {},
   "source": [
    "## Problem: importing a DataFrame (2 points)\n",
    "\n",
    "Import the `people.csv` file in this directory to a Polars DataFrame called `people`."
   ]
  },
  {
   "cell_type": "markdown",
   "metadata": {},
   "source": [
    "### Setup"
   ]
  },
  {
   "cell_type": "code",
   "execution_count": 1,
   "metadata": {},
   "outputs": [],
   "source": [
    "import numpy as np\n",
    "import polars as pl\n",
    "people = None"
   ]
  },
  {
   "cell_type": "markdown",
   "metadata": {},
   "source": [
    "### Answer"
   ]
  },
  {
   "cell_type": "code",
   "execution_count": 2,
   "metadata": {},
   "outputs": [],
   "source": [
    "# your code here"
   ]
  },
  {
   "cell_type": "markdown",
   "metadata": {},
   "source": [
    "### Result"
   ]
  },
  {
   "cell_type": "code",
   "execution_count": 3,
   "metadata": {},
   "outputs": [],
   "source": [
    "vars = [people]\n",
    "if all([v is not None for v in vars]):\n",
    "    # this should print your variables\n",
    "    print(people)\n",
    "\n",
    "    # this should not throw any errors\n",
    "    name = np.array([\"Alice Archer\", \"Ben Brown\", \"Chloe Cooper\", \"Daniel Donovan\"])\n",
    "    assert np.array_equal(people[\"name\"].to_numpy(), name)"
   ]
  },
  {
   "cell_type": "markdown",
   "metadata": {},
   "source": [
    "## Problem: creating a DataFrame (2 points)\n",
    "\n",
    "Create the following DataFrame in a variable called `df`. The `trial_type` and `response` columns should be strings, and the `correct` column should have integers.\n",
    "\n",
    "| trial_type | response | correct |\n",
    "| ---------- | -------- | ------- |\n",
    "| target     | old      | 1       |\n",
    "| lure       | old      | 0       |\n",
    "| target     | new      | 0       |\n",
    "| lure       | new      | 1       |"
   ]
  },
  {
   "cell_type": "markdown",
   "metadata": {},
   "source": [
    "### Setup"
   ]
  },
  {
   "cell_type": "code",
   "execution_count": 4,
   "metadata": {},
   "outputs": [],
   "source": [
    "df = None"
   ]
  },
  {
   "cell_type": "markdown",
   "metadata": {},
   "source": [
    "### Answer"
   ]
  },
  {
   "cell_type": "code",
   "execution_count": 5,
   "metadata": {},
   "outputs": [],
   "source": [
    "# your code here"
   ]
  },
  {
   "cell_type": "markdown",
   "metadata": {},
   "source": [
    "### Result"
   ]
  },
  {
   "cell_type": "code",
   "execution_count": 6,
   "metadata": {},
   "outputs": [],
   "source": [
    "vars = [df]\n",
    "if all([v is not None for v in vars]):\n",
    "    # this should print your variables\n",
    "    print(df)\n",
    "\n",
    "    # this should not throw any errors\n",
    "    trial_type = np.array([\"target\", \"lure\", \"target\", \"lure\"])\n",
    "    assert np.array_equal(df[\"trial_type\"].to_numpy(), trial_type)\n",
    "    response = np.array([\"old\", \"old\", \"new\", \"new\"])\n",
    "    assert np.array_equal(df[\"response\"].to_numpy(), response)\n",
    "    assert np.array_equal(df[\"correct\"].to_numpy(), [1, 0, 0, 1])"
   ]
  }
 ],
 "metadata": {
  "kernelspec": {
   "display_name": "datascipsych",
   "language": "python",
   "name": "datascipsych"
  },
  "language_info": {
   "codemirror_mode": {
    "name": "ipython",
    "version": 3
   },
   "file_extension": ".py",
   "mimetype": "text/x-python",
   "name": "python",
   "nbconvert_exporter": "python",
   "pygments_lexer": "ipython3",
   "version": "3.12.9"
  }
 },
 "nbformat": 4,
 "nbformat_minor": 2
}
