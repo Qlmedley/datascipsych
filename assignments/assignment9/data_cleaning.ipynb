{
 "cells": [
  {
   "cell_type": "markdown",
   "metadata": {},
   "source": [
    "# Data Cleaning\n",
    "\n",
    "Often, we will have a DataFrame with the information that we need, but the data are not organized in the right way. We may need to substitute variables, handle missing data, calculate summary statistics, and rearrange data to get it in the right shape. Polars has many tools for doing these things."
   ]
  },
  {
   "cell_type": "markdown",
   "metadata": {},
   "source": [
    "## Reading data from the datascipsych package\n",
    "\n",
    "The `datascipsych` package includes a `datasets` module that can be used to access datasets that are included with the package."
   ]
  },
  {
   "cell_type": "markdown",
   "metadata": {},
   "source": [
    "To use the `datascipsych` package, it must be first be installed. \n",
    "\n",
    "To install the package: (1) make sure you have a virtual environment and that it is activated; (2) open a terminal (with the virtual environment activated) and run `pip install -e .`.\n",
    "\n",
    "This will install functions and datasets available in the `datascipsych` package into your environment."
   ]
  },
  {
   "cell_type": "markdown",
   "metadata": {},
   "source": [
    "First, we will use the `datascipsych.datasets` module to access the data for the Osth & Fox (2019) study. Note that the dataset is not stored in the current directory. Instead, we access the dataset from the installed `datascipsych` package. This allows us to access the same dataset, no matter what our current directory is."
   ]
  },
  {
   "cell_type": "code",
   "execution_count": 1,
   "metadata": {},
   "outputs": [
    {
     "name": "stdout",
     "output_type": "stream",
     "text": [
      "/Users/morton/VS Code/datascipsych/src/datascipsych/data/Osth2019.csv\n"
     ]
    }
   ],
   "source": [
    "from datascipsych import datasets\n",
    "dataset_file = datasets.get_dataset_file(\"Osth2019\")\n",
    "print(dataset_file)"
   ]
  },
  {
   "cell_type": "markdown",
   "metadata": {},
   "source": [
    "The `dataset_file` should give the path to the dataset on your system.\n",
    "\n",
    "If you get a `ModuleNotFoundError`, you do not have the `datascipsych` package installed. Follow the instructions given above to install the package."
   ]
  },
  {
   "cell_type": "markdown",
   "metadata": {},
   "source": [
    "Now, we can read the dataset file from the installed package. We'll make things simpler by selecting a subset of columns."
   ]
  },
  {
   "cell_type": "code",
   "execution_count": 2,
   "metadata": {},
   "outputs": [],
   "source": [
    "import polars as pl\n",
    "raw = (\n",
    "    pl.read_csv(dataset_file)\n",
    "    .select(\"phase\", \"type\", \"word1\", \"word2\", \"response\", \"RT\", \"correct\", \"lag\")\n",
    ")"
   ]
  },
  {
   "cell_type": "markdown",
   "metadata": {},
   "source": [
    "## Recoding variables\n",
    "\n",
    "One relatively simple form of data cleaning is to take the data in a column and *recode* it. For example, a spreadsheet may label conditions with numeric codes that are hard to read and remember. Replacing these codes with strings makes the dataset easier to understand."
   ]
  },
  {
   "cell_type": "markdown",
   "metadata": {},
   "source": [
    "The Osth & Fox (2019) dataset has a number of -1 values in it. These -1 values indicate missing or undefined data. For example, during study trials, participants do not make any response. On these trials, the `response` column is set to -1 to indicate that no response was recorded."
   ]
  },
  {
   "cell_type": "code",
   "execution_count": 3,
   "metadata": {},
   "outputs": [
    {
     "data": {
      "text/html": [
       "<div><style>\n",
       ".dataframe > thead > tr,\n",
       ".dataframe > tbody > tr {\n",
       "  text-align: right;\n",
       "  white-space: pre-wrap;\n",
       "}\n",
       "</style>\n",
       "<small>shape: (5, 8)</small><table border=\"1\" class=\"dataframe\"><thead><tr><th>phase</th><th>type</th><th>word1</th><th>word2</th><th>response</th><th>RT</th><th>correct</th><th>lag</th></tr><tr><td>str</td><td>str</td><td>str</td><td>str</td><td>i64</td><td>f64</td><td>i64</td><td>i64</td></tr></thead><tbody><tr><td>&quot;study&quot;</td><td>&quot;intact&quot;</td><td>&quot;formal&quot;</td><td>&quot;positive&quot;</td><td>-1</td><td>-1.0</td><td>-1</td><td>-1</td></tr><tr><td>&quot;study&quot;</td><td>&quot;intact&quot;</td><td>&quot;skin&quot;</td><td>&quot;careful&quot;</td><td>-1</td><td>-1.0</td><td>-1</td><td>-1</td></tr><tr><td>&quot;study&quot;</td><td>&quot;intact&quot;</td><td>&quot;upon&quot;</td><td>&quot;miss&quot;</td><td>-1</td><td>-1.0</td><td>-1</td><td>-1</td></tr><tr><td>&quot;study&quot;</td><td>&quot;intact&quot;</td><td>&quot;single&quot;</td><td>&quot;tradition&quot;</td><td>-1</td><td>-1.0</td><td>-1</td><td>-1</td></tr><tr><td>&quot;study&quot;</td><td>&quot;intact&quot;</td><td>&quot;prove&quot;</td><td>&quot;airport&quot;</td><td>-1</td><td>-1.0</td><td>-1</td><td>-1</td></tr></tbody></table></div>"
      ],
      "text/plain": [
       "shape: (5, 8)\n",
       "┌───────┬────────┬────────┬───────────┬──────────┬──────┬─────────┬─────┐\n",
       "│ phase ┆ type   ┆ word1  ┆ word2     ┆ response ┆ RT   ┆ correct ┆ lag │\n",
       "│ ---   ┆ ---    ┆ ---    ┆ ---       ┆ ---      ┆ ---  ┆ ---     ┆ --- │\n",
       "│ str   ┆ str    ┆ str    ┆ str       ┆ i64      ┆ f64  ┆ i64     ┆ i64 │\n",
       "╞═══════╪════════╪════════╪═══════════╪══════════╪══════╪═════════╪═════╡\n",
       "│ study ┆ intact ┆ formal ┆ positive  ┆ -1       ┆ -1.0 ┆ -1      ┆ -1  │\n",
       "│ study ┆ intact ┆ skin   ┆ careful   ┆ -1       ┆ -1.0 ┆ -1      ┆ -1  │\n",
       "│ study ┆ intact ┆ upon   ┆ miss      ┆ -1       ┆ -1.0 ┆ -1      ┆ -1  │\n",
       "│ study ┆ intact ┆ single ┆ tradition ┆ -1       ┆ -1.0 ┆ -1      ┆ -1  │\n",
       "│ study ┆ intact ┆ prove  ┆ airport   ┆ -1       ┆ -1.0 ┆ -1      ┆ -1  │\n",
       "└───────┴────────┴────────┴───────────┴──────────┴──────┴─────────┴─────┘"
      ]
     },
     "execution_count": 3,
     "metadata": {},
     "output_type": "execute_result"
    }
   ],
   "source": [
    "raw.head()"
   ]
  },
  {
   "cell_type": "markdown",
   "metadata": {},
   "source": [
    "We can replace the -1 values using the `replace` method. Instead of -1, we want missing values to be set to the special value `null`. Polars will automatically exclude those values from calculations. To set a value to `null` in the DataFrame, we can set it to `None` when calling `replace`."
   ]
  },
  {
   "cell_type": "code",
   "execution_count": 4,
   "metadata": {},
   "outputs": [
    {
     "data": {
      "text/html": [
       "<div><style>\n",
       ".dataframe > thead > tr,\n",
       ".dataframe > tbody > tr {\n",
       "  text-align: right;\n",
       "  white-space: pre-wrap;\n",
       "}\n",
       "</style>\n",
       "<small>shape: (5, 8)</small><table border=\"1\" class=\"dataframe\"><thead><tr><th>phase</th><th>type</th><th>word1</th><th>word2</th><th>response</th><th>RT</th><th>correct</th><th>lag</th></tr><tr><td>str</td><td>str</td><td>str</td><td>str</td><td>i64</td><td>f64</td><td>i64</td><td>i64</td></tr></thead><tbody><tr><td>&quot;study&quot;</td><td>&quot;intact&quot;</td><td>&quot;formal&quot;</td><td>&quot;positive&quot;</td><td>null</td><td>-1.0</td><td>-1</td><td>-1</td></tr><tr><td>&quot;study&quot;</td><td>&quot;intact&quot;</td><td>&quot;skin&quot;</td><td>&quot;careful&quot;</td><td>null</td><td>-1.0</td><td>-1</td><td>-1</td></tr><tr><td>&quot;study&quot;</td><td>&quot;intact&quot;</td><td>&quot;upon&quot;</td><td>&quot;miss&quot;</td><td>null</td><td>-1.0</td><td>-1</td><td>-1</td></tr><tr><td>&quot;study&quot;</td><td>&quot;intact&quot;</td><td>&quot;single&quot;</td><td>&quot;tradition&quot;</td><td>null</td><td>-1.0</td><td>-1</td><td>-1</td></tr><tr><td>&quot;study&quot;</td><td>&quot;intact&quot;</td><td>&quot;prove&quot;</td><td>&quot;airport&quot;</td><td>null</td><td>-1.0</td><td>-1</td><td>-1</td></tr></tbody></table></div>"
      ],
      "text/plain": [
       "shape: (5, 8)\n",
       "┌───────┬────────┬────────┬───────────┬──────────┬──────┬─────────┬─────┐\n",
       "│ phase ┆ type   ┆ word1  ┆ word2     ┆ response ┆ RT   ┆ correct ┆ lag │\n",
       "│ ---   ┆ ---    ┆ ---    ┆ ---       ┆ ---      ┆ ---  ┆ ---     ┆ --- │\n",
       "│ str   ┆ str    ┆ str    ┆ str       ┆ i64      ┆ f64  ┆ i64     ┆ i64 │\n",
       "╞═══════╪════════╪════════╪═══════════╪══════════╪══════╪═════════╪═════╡\n",
       "│ study ┆ intact ┆ formal ┆ positive  ┆ null     ┆ -1.0 ┆ -1      ┆ -1  │\n",
       "│ study ┆ intact ┆ skin   ┆ careful   ┆ null     ┆ -1.0 ┆ -1      ┆ -1  │\n",
       "│ study ┆ intact ┆ upon   ┆ miss      ┆ null     ┆ -1.0 ┆ -1      ┆ -1  │\n",
       "│ study ┆ intact ┆ single ┆ tradition ┆ null     ┆ -1.0 ┆ -1      ┆ -1  │\n",
       "│ study ┆ intact ┆ prove  ┆ airport   ┆ null     ┆ -1.0 ┆ -1      ┆ -1  │\n",
       "└───────┴────────┴────────┴───────────┴──────────┴──────┴─────────┴─────┘"
      ]
     },
     "execution_count": 4,
     "metadata": {},
     "output_type": "execute_result"
    }
   ],
   "source": [
    "raw.with_columns(\n",
    "    pl.col(\"response\").replace(-1, None)\n",
    ").head()"
   ]
  },
  {
   "cell_type": "markdown",
   "metadata": {},
   "source": [
    "We used `with_columns` to keep all the existing columns. We used `pl.col(\"response\")` to represent the `response` column, and then called the `replace` method. The first input indicates the value to replace, and the second input indicates the value to replace it with."
   ]
  },
  {
   "cell_type": "markdown",
   "metadata": {},
   "source": [
    "Note that there are multiple columns that follow the same convention, with -1 indicating missing values. We'll want to replace all of them.\n",
    "\n",
    "In Polars, we can carry out the same expression on multiple columns using *expression expansion*. Instead of writing multiple expressions with `replace` (one for each column), we can write just one expression that should be applied to multiple columns."
   ]
  },
  {
   "cell_type": "code",
   "execution_count": 5,
   "metadata": {},
   "outputs": [
    {
     "data": {
      "text/html": [
       "<div><style>\n",
       ".dataframe > thead > tr,\n",
       ".dataframe > tbody > tr {\n",
       "  text-align: right;\n",
       "  white-space: pre-wrap;\n",
       "}\n",
       "</style>\n",
       "<small>shape: (5, 8)</small><table border=\"1\" class=\"dataframe\"><thead><tr><th>phase</th><th>type</th><th>word1</th><th>word2</th><th>response</th><th>RT</th><th>correct</th><th>lag</th></tr><tr><td>str</td><td>str</td><td>str</td><td>str</td><td>i64</td><td>f64</td><td>i64</td><td>i64</td></tr></thead><tbody><tr><td>&quot;study&quot;</td><td>&quot;intact&quot;</td><td>&quot;formal&quot;</td><td>&quot;positive&quot;</td><td>null</td><td>null</td><td>null</td><td>null</td></tr><tr><td>&quot;study&quot;</td><td>&quot;intact&quot;</td><td>&quot;skin&quot;</td><td>&quot;careful&quot;</td><td>null</td><td>null</td><td>null</td><td>null</td></tr><tr><td>&quot;study&quot;</td><td>&quot;intact&quot;</td><td>&quot;upon&quot;</td><td>&quot;miss&quot;</td><td>null</td><td>null</td><td>null</td><td>null</td></tr><tr><td>&quot;study&quot;</td><td>&quot;intact&quot;</td><td>&quot;single&quot;</td><td>&quot;tradition&quot;</td><td>null</td><td>null</td><td>null</td><td>null</td></tr><tr><td>&quot;study&quot;</td><td>&quot;intact&quot;</td><td>&quot;prove&quot;</td><td>&quot;airport&quot;</td><td>null</td><td>null</td><td>null</td><td>null</td></tr></tbody></table></div>"
      ],
      "text/plain": [
       "shape: (5, 8)\n",
       "┌───────┬────────┬────────┬───────────┬──────────┬──────┬─────────┬──────┐\n",
       "│ phase ┆ type   ┆ word1  ┆ word2     ┆ response ┆ RT   ┆ correct ┆ lag  │\n",
       "│ ---   ┆ ---    ┆ ---    ┆ ---       ┆ ---      ┆ ---  ┆ ---     ┆ ---  │\n",
       "│ str   ┆ str    ┆ str    ┆ str       ┆ i64      ┆ f64  ┆ i64     ┆ i64  │\n",
       "╞═══════╪════════╪════════╪═══════════╪══════════╪══════╪═════════╪══════╡\n",
       "│ study ┆ intact ┆ formal ┆ positive  ┆ null     ┆ null ┆ null    ┆ null │\n",
       "│ study ┆ intact ┆ skin   ┆ careful   ┆ null     ┆ null ┆ null    ┆ null │\n",
       "│ study ┆ intact ┆ upon   ┆ miss      ┆ null     ┆ null ┆ null    ┆ null │\n",
       "│ study ┆ intact ┆ single ┆ tradition ┆ null     ┆ null ┆ null    ┆ null │\n",
       "│ study ┆ intact ┆ prove  ┆ airport   ┆ null     ┆ null ┆ null    ┆ null │\n",
       "└───────┴────────┴────────┴───────────┴──────────┴──────┴─────────┴──────┘"
      ]
     },
     "execution_count": 5,
     "metadata": {},
     "output_type": "execute_result"
    }
   ],
   "source": [
    "raw.with_columns(\n",
    "    pl.col(\"response\", \"RT\", \"correct\", \"lag\").replace(-1, None)\n",
    ").head()"
   ]
  },
  {
   "cell_type": "markdown",
   "metadata": {},
   "source": [
    "Sometimes, it's helpful to recode a column to get different labels. The `type` column has two values: `\"intact\"` and `\"rearranged\"`. Say we want to translate this into more standard labels typically used in recognition memory experiments such as this, namely `\"target\"` and `\"lure\"`. We can do this by passing a dictionary to the `replace` method. This time, we'll create a new column called `probe_type` that has this alternate coding."
   ]
  },
  {
   "cell_type": "code",
   "execution_count": 6,
   "metadata": {},
   "outputs": [
    {
     "data": {
      "text/html": [
       "<div><style>\n",
       ".dataframe > thead > tr,\n",
       ".dataframe > tbody > tr {\n",
       "  text-align: right;\n",
       "  white-space: pre-wrap;\n",
       "}\n",
       "</style>\n",
       "<small>shape: (5, 9)</small><table border=\"1\" class=\"dataframe\"><thead><tr><th>phase</th><th>type</th><th>word1</th><th>word2</th><th>response</th><th>RT</th><th>correct</th><th>lag</th><th>probe_type</th></tr><tr><td>str</td><td>str</td><td>str</td><td>str</td><td>i64</td><td>f64</td><td>i64</td><td>i64</td><td>str</td></tr></thead><tbody><tr><td>&quot;study&quot;</td><td>&quot;intact&quot;</td><td>&quot;formal&quot;</td><td>&quot;positive&quot;</td><td>-1</td><td>-1.0</td><td>-1</td><td>-1</td><td>&quot;target&quot;</td></tr><tr><td>&quot;study&quot;</td><td>&quot;intact&quot;</td><td>&quot;skin&quot;</td><td>&quot;careful&quot;</td><td>-1</td><td>-1.0</td><td>-1</td><td>-1</td><td>&quot;target&quot;</td></tr><tr><td>&quot;study&quot;</td><td>&quot;intact&quot;</td><td>&quot;upon&quot;</td><td>&quot;miss&quot;</td><td>-1</td><td>-1.0</td><td>-1</td><td>-1</td><td>&quot;target&quot;</td></tr><tr><td>&quot;study&quot;</td><td>&quot;intact&quot;</td><td>&quot;single&quot;</td><td>&quot;tradition&quot;</td><td>-1</td><td>-1.0</td><td>-1</td><td>-1</td><td>&quot;target&quot;</td></tr><tr><td>&quot;study&quot;</td><td>&quot;intact&quot;</td><td>&quot;prove&quot;</td><td>&quot;airport&quot;</td><td>-1</td><td>-1.0</td><td>-1</td><td>-1</td><td>&quot;target&quot;</td></tr></tbody></table></div>"
      ],
      "text/plain": [
       "shape: (5, 9)\n",
       "┌───────┬────────┬────────┬───────────┬───┬──────┬─────────┬─────┬────────────┐\n",
       "│ phase ┆ type   ┆ word1  ┆ word2     ┆ … ┆ RT   ┆ correct ┆ lag ┆ probe_type │\n",
       "│ ---   ┆ ---    ┆ ---    ┆ ---       ┆   ┆ ---  ┆ ---     ┆ --- ┆ ---        │\n",
       "│ str   ┆ str    ┆ str    ┆ str       ┆   ┆ f64  ┆ i64     ┆ i64 ┆ str        │\n",
       "╞═══════╪════════╪════════╪═══════════╪═══╪══════╪═════════╪═════╪════════════╡\n",
       "│ study ┆ intact ┆ formal ┆ positive  ┆ … ┆ -1.0 ┆ -1      ┆ -1  ┆ target     │\n",
       "│ study ┆ intact ┆ skin   ┆ careful   ┆ … ┆ -1.0 ┆ -1      ┆ -1  ┆ target     │\n",
       "│ study ┆ intact ┆ upon   ┆ miss      ┆ … ┆ -1.0 ┆ -1      ┆ -1  ┆ target     │\n",
       "│ study ┆ intact ┆ single ┆ tradition ┆ … ┆ -1.0 ┆ -1      ┆ -1  ┆ target     │\n",
       "│ study ┆ intact ┆ prove  ┆ airport   ┆ … ┆ -1.0 ┆ -1      ┆ -1  ┆ target     │\n",
       "└───────┴────────┴────────┴───────────┴───┴──────┴─────────┴─────┴────────────┘"
      ]
     },
     "execution_count": 6,
     "metadata": {},
     "output_type": "execute_result"
    }
   ],
   "source": [
    "raw.with_columns(\n",
    "    probe_type=pl.col(\"type\").replace({\"intact\": \"target\", \"rearranged\": \"lure\"})\n",
    ").head()"
   ]
  },
  {
   "cell_type": "markdown",
   "metadata": {},
   "source": [
    "Now that we have tested out the commands we want to run, let's put them all together to get a set of commands that will run all our recoding and assign the output to a new variable called `data`."
   ]
  },
  {
   "cell_type": "code",
   "execution_count": 7,
   "metadata": {},
   "outputs": [
    {
     "data": {
      "text/html": [
       "<div><style>\n",
       ".dataframe > thead > tr,\n",
       ".dataframe > tbody > tr {\n",
       "  text-align: right;\n",
       "  white-space: pre-wrap;\n",
       "}\n",
       "</style>\n",
       "<small>shape: (5, 9)</small><table border=\"1\" class=\"dataframe\"><thead><tr><th>phase</th><th>type</th><th>word1</th><th>word2</th><th>response</th><th>RT</th><th>correct</th><th>lag</th><th>probe_type</th></tr><tr><td>str</td><td>str</td><td>str</td><td>str</td><td>i64</td><td>f64</td><td>i64</td><td>i64</td><td>str</td></tr></thead><tbody><tr><td>&quot;study&quot;</td><td>&quot;intact&quot;</td><td>&quot;formal&quot;</td><td>&quot;positive&quot;</td><td>null</td><td>null</td><td>null</td><td>null</td><td>&quot;target&quot;</td></tr><tr><td>&quot;study&quot;</td><td>&quot;intact&quot;</td><td>&quot;skin&quot;</td><td>&quot;careful&quot;</td><td>null</td><td>null</td><td>null</td><td>null</td><td>&quot;target&quot;</td></tr><tr><td>&quot;study&quot;</td><td>&quot;intact&quot;</td><td>&quot;upon&quot;</td><td>&quot;miss&quot;</td><td>null</td><td>null</td><td>null</td><td>null</td><td>&quot;target&quot;</td></tr><tr><td>&quot;study&quot;</td><td>&quot;intact&quot;</td><td>&quot;single&quot;</td><td>&quot;tradition&quot;</td><td>null</td><td>null</td><td>null</td><td>null</td><td>&quot;target&quot;</td></tr><tr><td>&quot;study&quot;</td><td>&quot;intact&quot;</td><td>&quot;prove&quot;</td><td>&quot;airport&quot;</td><td>null</td><td>null</td><td>null</td><td>null</td><td>&quot;target&quot;</td></tr></tbody></table></div>"
      ],
      "text/plain": [
       "shape: (5, 9)\n",
       "┌───────┬────────┬────────┬───────────┬───┬──────┬─────────┬──────┬────────────┐\n",
       "│ phase ┆ type   ┆ word1  ┆ word2     ┆ … ┆ RT   ┆ correct ┆ lag  ┆ probe_type │\n",
       "│ ---   ┆ ---    ┆ ---    ┆ ---       ┆   ┆ ---  ┆ ---     ┆ ---  ┆ ---        │\n",
       "│ str   ┆ str    ┆ str    ┆ str       ┆   ┆ f64  ┆ i64     ┆ i64  ┆ str        │\n",
       "╞═══════╪════════╪════════╪═══════════╪═══╪══════╪═════════╪══════╪════════════╡\n",
       "│ study ┆ intact ┆ formal ┆ positive  ┆ … ┆ null ┆ null    ┆ null ┆ target     │\n",
       "│ study ┆ intact ┆ skin   ┆ careful   ┆ … ┆ null ┆ null    ┆ null ┆ target     │\n",
       "│ study ┆ intact ┆ upon   ┆ miss      ┆ … ┆ null ┆ null    ┆ null ┆ target     │\n",
       "│ study ┆ intact ┆ single ┆ tradition ┆ … ┆ null ┆ null    ┆ null ┆ target     │\n",
       "│ study ┆ intact ┆ prove  ┆ airport   ┆ … ┆ null ┆ null    ┆ null ┆ target     │\n",
       "└───────┴────────┴────────┴───────────┴───┴──────┴─────────┴──────┴────────────┘"
      ]
     },
     "execution_count": 7,
     "metadata": {},
     "output_type": "execute_result"
    }
   ],
   "source": [
    "data = raw.with_columns(\n",
    "    pl.col(\"response\", \"RT\", \"correct\", \"lag\").replace(-1, None),\n",
    "    probe_type=pl.col(\"type\").replace({\"intact\": \"target\", \"rearranged\": \"lure\"})\n",
    ")\n",
    "data.head()"
   ]
  },
  {
   "cell_type": "markdown",
   "metadata": {},
   "source": [
    "Sometimes, a raw data file may code conditions as integers, but we want to convert the numeric condition codes into string labels."
   ]
  },
  {
   "cell_type": "code",
   "execution_count": 8,
   "metadata": {},
   "outputs": [
    {
     "data": {
      "text/html": [
       "<div><style>\n",
       ".dataframe > thead > tr,\n",
       ".dataframe > tbody > tr {\n",
       "  text-align: right;\n",
       "  white-space: pre-wrap;\n",
       "}\n",
       "</style>\n",
       "<small>shape: (4, 2)</small><table border=\"1\" class=\"dataframe\"><thead><tr><th>trial</th><th>condition</th></tr><tr><td>i64</td><td>i64</td></tr></thead><tbody><tr><td>1</td><td>1</td></tr><tr><td>2</td><td>1</td></tr><tr><td>3</td><td>2</td></tr><tr><td>4</td><td>2</td></tr></tbody></table></div>"
      ],
      "text/plain": [
       "shape: (4, 2)\n",
       "┌───────┬───────────┐\n",
       "│ trial ┆ condition │\n",
       "│ ---   ┆ ---       │\n",
       "│ i64   ┆ i64       │\n",
       "╞═══════╪═══════════╡\n",
       "│ 1     ┆ 1         │\n",
       "│ 2     ┆ 1         │\n",
       "│ 3     ┆ 2         │\n",
       "│ 4     ┆ 2         │\n",
       "└───────┴───────────┘"
      ]
     },
     "execution_count": 8,
     "metadata": {},
     "output_type": "execute_result"
    }
   ],
   "source": [
    "simple = pl.DataFrame(\n",
    "    {\n",
    "        \"trial\": [1, 2, 3, 4],\n",
    "        \"condition\": [1, 1, 2, 2],\n",
    "    }\n",
    ")\n",
    "simple"
   ]
  },
  {
   "cell_type": "markdown",
   "metadata": {},
   "source": [
    "We cannot use `replace` to change the type of a column. To recode integers as strings, we can first `cast` the integers as strings, using `.cast(pl.String)`. The `pl.String` attribute represents the string format that Polars uses."
   ]
  },
  {
   "cell_type": "code",
   "execution_count": 9,
   "metadata": {},
   "outputs": [
    {
     "data": {
      "text/html": [
       "<div><style>\n",
       ".dataframe > thead > tr,\n",
       ".dataframe > tbody > tr {\n",
       "  text-align: right;\n",
       "  white-space: pre-wrap;\n",
       "}\n",
       "</style>\n",
       "<small>shape: (4, 2)</small><table border=\"1\" class=\"dataframe\"><thead><tr><th>trial</th><th>condition</th></tr><tr><td>i64</td><td>str</td></tr></thead><tbody><tr><td>1</td><td>&quot;target&quot;</td></tr><tr><td>2</td><td>&quot;target&quot;</td></tr><tr><td>3</td><td>&quot;lure&quot;</td></tr><tr><td>4</td><td>&quot;lure&quot;</td></tr></tbody></table></div>"
      ],
      "text/plain": [
       "shape: (4, 2)\n",
       "┌───────┬───────────┐\n",
       "│ trial ┆ condition │\n",
       "│ ---   ┆ ---       │\n",
       "│ i64   ┆ str       │\n",
       "╞═══════╪═══════════╡\n",
       "│ 1     ┆ target    │\n",
       "│ 2     ┆ target    │\n",
       "│ 3     ┆ lure      │\n",
       "│ 4     ┆ lure      │\n",
       "└───────┴───────────┘"
      ]
     },
     "execution_count": 9,
     "metadata": {},
     "output_type": "execute_result"
    }
   ],
   "source": [
    "simple.with_columns(\n",
    "    condition=pl.col(\"condition\").cast(pl.String).replace({\"1\": \"target\", \"2\": \"lure\"})\n",
    ")"
   ]
  },
  {
   "cell_type": "markdown",
   "metadata": {},
   "source": [
    "## Handling missing data\n",
    "\n",
    "Sometimes, observations will be missing, for example the response on a trial may be undefined if the participant did not make a response."
   ]
  },
  {
   "cell_type": "markdown",
   "metadata": {},
   "source": [
    "Let's set up an example DataFrame with some missing responses."
   ]
  },
  {
   "cell_type": "code",
   "execution_count": 10,
   "metadata": {},
   "outputs": [
    {
     "data": {
      "text/html": [
       "<div><style>\n",
       ".dataframe > thead > tr,\n",
       ".dataframe > tbody > tr {\n",
       "  text-align: right;\n",
       "  white-space: pre-wrap;\n",
       "}\n",
       "</style>\n",
       "<small>shape: (9, 2)</small><table border=\"1\" class=\"dataframe\"><thead><tr><th>correct</th><th>response_time</th></tr><tr><td>i64</td><td>f64</td></tr></thead><tbody><tr><td>1</td><td>1.2</td></tr><tr><td>0</td><td>2.1</td></tr><tr><td>1</td><td>1.4</td></tr><tr><td>null</td><td>null</td></tr><tr><td>0</td><td>1.8</td></tr><tr><td>0</td><td>1.6</td></tr><tr><td>1</td><td>1.4</td></tr><tr><td>null</td><td>null</td></tr><tr><td>1</td><td>1.6</td></tr></tbody></table></div>"
      ],
      "text/plain": [
       "shape: (9, 2)\n",
       "┌─────────┬───────────────┐\n",
       "│ correct ┆ response_time │\n",
       "│ ---     ┆ ---           │\n",
       "│ i64     ┆ f64           │\n",
       "╞═════════╪═══════════════╡\n",
       "│ 1       ┆ 1.2           │\n",
       "│ 0       ┆ 2.1           │\n",
       "│ 1       ┆ 1.4           │\n",
       "│ null    ┆ null          │\n",
       "│ 0       ┆ 1.8           │\n",
       "│ 0       ┆ 1.6           │\n",
       "│ 1       ┆ 1.4           │\n",
       "│ null    ┆ null          │\n",
       "│ 1       ┆ 1.6           │\n",
       "└─────────┴───────────────┘"
      ]
     },
     "execution_count": 10,
     "metadata": {},
     "output_type": "execute_result"
    }
   ],
   "source": [
    "responses = pl.DataFrame(\n",
    "    {\n",
    "        \"correct\": [1, 0, 1, None, 0, 0, 1, None, 1],\n",
    "        \"response_time\": [1.2, 2.1, 1.4, None, 1.8, 1.6, 1.4, None, 1.6],\n",
    "    }\n",
    ")\n",
    "responses"
   ]
  },
  {
   "cell_type": "markdown",
   "metadata": {},
   "source": [
    "We can calculate the mean accuracy and response time using the `mean` function."
   ]
  },
  {
   "cell_type": "code",
   "execution_count": 11,
   "metadata": {},
   "outputs": [
    {
     "data": {
      "text/html": [
       "<div><style>\n",
       ".dataframe > thead > tr,\n",
       ".dataframe > tbody > tr {\n",
       "  text-align: right;\n",
       "  white-space: pre-wrap;\n",
       "}\n",
       "</style>\n",
       "<small>shape: (1, 2)</small><table border=\"1\" class=\"dataframe\"><thead><tr><th>correct</th><th>response_time</th></tr><tr><td>f64</td><td>f64</td></tr></thead><tbody><tr><td>0.571429</td><td>1.585714</td></tr></tbody></table></div>"
      ],
      "text/plain": [
       "shape: (1, 2)\n",
       "┌──────────┬───────────────┐\n",
       "│ correct  ┆ response_time │\n",
       "│ ---      ┆ ---           │\n",
       "│ f64      ┆ f64           │\n",
       "╞══════════╪═══════════════╡\n",
       "│ 0.571429 ┆ 1.585714      │\n",
       "└──────────┴───────────────┘"
      ]
     },
     "execution_count": 11,
     "metadata": {},
     "output_type": "execute_result"
    }
   ],
   "source": [
    "responses.mean()"
   ]
  },
  {
   "cell_type": "markdown",
   "metadata": {},
   "source": [
    "However, we might want to count missing responses as incorrect by coding them as 0. We can recode `null` values as something else using `fill_null`."
   ]
  },
  {
   "cell_type": "code",
   "execution_count": 12,
   "metadata": {},
   "outputs": [
    {
     "data": {
      "text/html": [
       "<div><style>\n",
       ".dataframe > thead > tr,\n",
       ".dataframe > tbody > tr {\n",
       "  text-align: right;\n",
       "  white-space: pre-wrap;\n",
       "}\n",
       "</style>\n",
       "<small>shape: (1, 3)</small><table border=\"1\" class=\"dataframe\"><thead><tr><th>correct</th><th>response_time</th><th>correct_missing</th></tr><tr><td>f64</td><td>f64</td><td>f64</td></tr></thead><tbody><tr><td>0.571429</td><td>1.585714</td><td>0.444444</td></tr></tbody></table></div>"
      ],
      "text/plain": [
       "shape: (1, 3)\n",
       "┌──────────┬───────────────┬─────────────────┐\n",
       "│ correct  ┆ response_time ┆ correct_missing │\n",
       "│ ---      ┆ ---           ┆ ---             │\n",
       "│ f64      ┆ f64           ┆ f64             │\n",
       "╞══════════╪═══════════════╪═════════════════╡\n",
       "│ 0.571429 ┆ 1.585714      ┆ 0.444444        │\n",
       "└──────────┴───────────────┴─────────────────┘"
      ]
     },
     "execution_count": 12,
     "metadata": {},
     "output_type": "execute_result"
    }
   ],
   "source": [
    "missing = responses.with_columns(\n",
    "    correct_missing=pl.col(\"correct\").fill_null(0)\n",
    ")\n",
    "missing.mean()"
   ]
  },
  {
   "cell_type": "markdown",
   "metadata": {},
   "source": [
    "Note that the accuracy is lower when we count missing responses as incorrect."
   ]
  },
  {
   "cell_type": "markdown",
   "metadata": {},
   "source": [
    "We can also use `filter` together with `is_not_null` to remove rows where a column is `null`."
   ]
  },
  {
   "cell_type": "code",
   "execution_count": 13,
   "metadata": {},
   "outputs": [
    {
     "data": {
      "text/html": [
       "<div><style>\n",
       ".dataframe > thead > tr,\n",
       ".dataframe > tbody > tr {\n",
       "  text-align: right;\n",
       "  white-space: pre-wrap;\n",
       "}\n",
       "</style>\n",
       "<small>shape: (7, 2)</small><table border=\"1\" class=\"dataframe\"><thead><tr><th>correct</th><th>response_time</th></tr><tr><td>i64</td><td>f64</td></tr></thead><tbody><tr><td>1</td><td>1.2</td></tr><tr><td>0</td><td>2.1</td></tr><tr><td>1</td><td>1.4</td></tr><tr><td>0</td><td>1.8</td></tr><tr><td>0</td><td>1.6</td></tr><tr><td>1</td><td>1.4</td></tr><tr><td>1</td><td>1.6</td></tr></tbody></table></div>"
      ],
      "text/plain": [
       "shape: (7, 2)\n",
       "┌─────────┬───────────────┐\n",
       "│ correct ┆ response_time │\n",
       "│ ---     ┆ ---           │\n",
       "│ i64     ┆ f64           │\n",
       "╞═════════╪═══════════════╡\n",
       "│ 1       ┆ 1.2           │\n",
       "│ 0       ┆ 2.1           │\n",
       "│ 1       ┆ 1.4           │\n",
       "│ 0       ┆ 1.8           │\n",
       "│ 0       ┆ 1.6           │\n",
       "│ 1       ┆ 1.4           │\n",
       "│ 1       ┆ 1.6           │\n",
       "└─────────┴───────────────┘"
      ]
     },
     "execution_count": 13,
     "metadata": {},
     "output_type": "execute_result"
    }
   ],
   "source": [
    "included = responses.filter(pl.col(\"correct\").is_not_null())\n",
    "included"
   ]
  },
  {
   "cell_type": "markdown",
   "metadata": {},
   "source": [
    "## Grouping and aggregation\n",
    "\n",
    "When we are analyzing a dataset, we usually don't just want to calculate summary statistics for a whole column of data. Often we will instead want to break the dataset into groups, and calculate the summary statistics for each group."
   ]
  },
  {
   "cell_type": "markdown",
   "metadata": {},
   "source": [
    "Grouping and aggregation allow us to calculate summary statistics for groups within our data using very little code. Here, we'll calculate the mean response time for correct trials (where `correct == 1`) and incorrect trials (where `correct == 0`)."
   ]
  },
  {
   "cell_type": "code",
   "execution_count": 14,
   "metadata": {},
   "outputs": [
    {
     "data": {
      "text/html": [
       "<div><style>\n",
       ".dataframe > thead > tr,\n",
       ".dataframe > tbody > tr {\n",
       "  text-align: right;\n",
       "  white-space: pre-wrap;\n",
       "}\n",
       "</style>\n",
       "<small>shape: (2, 2)</small><table border=\"1\" class=\"dataframe\"><thead><tr><th>correct</th><th>response_time</th></tr><tr><td>i64</td><td>f64</td></tr></thead><tbody><tr><td>0</td><td>1.833333</td></tr><tr><td>1</td><td>1.4</td></tr></tbody></table></div>"
      ],
      "text/plain": [
       "shape: (2, 2)\n",
       "┌─────────┬───────────────┐\n",
       "│ correct ┆ response_time │\n",
       "│ ---     ┆ ---           │\n",
       "│ i64     ┆ f64           │\n",
       "╞═════════╪═══════════════╡\n",
       "│ 0       ┆ 1.833333      │\n",
       "│ 1       ┆ 1.4           │\n",
       "└─────────┴───────────────┘"
      ]
     },
     "execution_count": 14,
     "metadata": {},
     "output_type": "execute_result"
    }
   ],
   "source": [
    "included.group_by(\"correct\").agg(pl.col(\"response_time\").mean())"
   ]
  },
  {
   "cell_type": "markdown",
   "metadata": {},
   "source": [
    "We first grouped the data to make a group for each value of the `correct` column. We then aggregated the data in the `response_time` column by calculating the mean within each group.\n",
    "\n",
    "Let's break down this code to see how it works."
   ]
  },
  {
   "cell_type": "markdown",
   "metadata": {},
   "source": [
    "To perform aggregation, we start by calling `group_by`. Here, we give the name of the `correct` column to indicate that we want to make one group for each value of that column. There will be one group for `correct == 0` and one group for `correct == 1`."
   ]
  },
  {
   "cell_type": "code",
   "execution_count": 15,
   "metadata": {},
   "outputs": [],
   "source": [
    "g = included.group_by(\"correct\")"
   ]
  },
  {
   "cell_type": "markdown",
   "metadata": {},
   "source": [
    "Normally, we would next call the `agg` method to calculate some aggregation wtihin each group. Instead, we'll convert the `GroupBy` object into a list so we can look at it."
   ]
  },
  {
   "cell_type": "code",
   "execution_count": 16,
   "metadata": {},
   "outputs": [],
   "source": [
    "g = list(g)"
   ]
  },
  {
   "cell_type": "markdown",
   "metadata": {},
   "source": [
    "Each group includes a `name` (the value for each group, which here is 0 or 1) and a DataFrame that just has the rows that match that value.\n",
    "\n",
    "First, we have all the incorrect trials where `correct == 0`."
   ]
  },
  {
   "cell_type": "code",
   "execution_count": 17,
   "metadata": {},
   "outputs": [
    {
     "name": "stdout",
     "output_type": "stream",
     "text": [
      "(0,)\n"
     ]
    },
    {
     "data": {
      "text/html": [
       "<div><style>\n",
       ".dataframe > thead > tr,\n",
       ".dataframe > tbody > tr {\n",
       "  text-align: right;\n",
       "  white-space: pre-wrap;\n",
       "}\n",
       "</style>\n",
       "<small>shape: (3, 2)</small><table border=\"1\" class=\"dataframe\"><thead><tr><th>correct</th><th>response_time</th></tr><tr><td>i64</td><td>f64</td></tr></thead><tbody><tr><td>0</td><td>2.1</td></tr><tr><td>0</td><td>1.8</td></tr><tr><td>0</td><td>1.6</td></tr></tbody></table></div>"
      ],
      "text/plain": [
       "shape: (3, 2)\n",
       "┌─────────┬───────────────┐\n",
       "│ correct ┆ response_time │\n",
       "│ ---     ┆ ---           │\n",
       "│ i64     ┆ f64           │\n",
       "╞═════════╪═══════════════╡\n",
       "│ 0       ┆ 2.1           │\n",
       "│ 0       ┆ 1.8           │\n",
       "│ 0       ┆ 1.6           │\n",
       "└─────────┴───────────────┘"
      ]
     },
     "execution_count": 17,
     "metadata": {},
     "output_type": "execute_result"
    }
   ],
   "source": [
    "name, data = g[0]\n",
    "print(name)\n",
    "data"
   ]
  },
  {
   "cell_type": "markdown",
   "metadata": {},
   "source": [
    "Next, we have all the correct trials where `correct == 1`."
   ]
  },
  {
   "cell_type": "code",
   "execution_count": 18,
   "metadata": {},
   "outputs": [
    {
     "name": "stdout",
     "output_type": "stream",
     "text": [
      "(1,)\n"
     ]
    },
    {
     "data": {
      "text/html": [
       "<div><style>\n",
       ".dataframe > thead > tr,\n",
       ".dataframe > tbody > tr {\n",
       "  text-align: right;\n",
       "  white-space: pre-wrap;\n",
       "}\n",
       "</style>\n",
       "<small>shape: (4, 2)</small><table border=\"1\" class=\"dataframe\"><thead><tr><th>correct</th><th>response_time</th></tr><tr><td>i64</td><td>f64</td></tr></thead><tbody><tr><td>1</td><td>1.2</td></tr><tr><td>1</td><td>1.4</td></tr><tr><td>1</td><td>1.4</td></tr><tr><td>1</td><td>1.6</td></tr></tbody></table></div>"
      ],
      "text/plain": [
       "shape: (4, 2)\n",
       "┌─────────┬───────────────┐\n",
       "│ correct ┆ response_time │\n",
       "│ ---     ┆ ---           │\n",
       "│ i64     ┆ f64           │\n",
       "╞═════════╪═══════════════╡\n",
       "│ 1       ┆ 1.2           │\n",
       "│ 1       ┆ 1.4           │\n",
       "│ 1       ┆ 1.4           │\n",
       "│ 1       ┆ 1.6           │\n",
       "└─────────┴───────────────┘"
      ]
     },
     "execution_count": 18,
     "metadata": {},
     "output_type": "execute_result"
    }
   ],
   "source": [
    "name, data = g[1]\n",
    "print(name)\n",
    "data"
   ]
  },
  {
   "cell_type": "markdown",
   "metadata": {},
   "source": [
    "We can aggregate the data within each group through multiple different methods. One simple method is to just pass the name of a column to the `agg` function. This will give us a column that has a list of all the observations that were in each group."
   ]
  },
  {
   "cell_type": "code",
   "execution_count": 19,
   "metadata": {},
   "outputs": [
    {
     "data": {
      "text/html": [
       "<div><style>\n",
       ".dataframe > thead > tr,\n",
       ".dataframe > tbody > tr {\n",
       "  text-align: right;\n",
       "  white-space: pre-wrap;\n",
       "}\n",
       "</style>\n",
       "<small>shape: (2, 2)</small><table border=\"1\" class=\"dataframe\"><thead><tr><th>correct</th><th>response_time</th></tr><tr><td>i64</td><td>list[f64]</td></tr></thead><tbody><tr><td>1</td><td>[1.2, 1.4, … 1.6]</td></tr><tr><td>0</td><td>[2.1, 1.8, 1.6]</td></tr></tbody></table></div>"
      ],
      "text/plain": [
       "shape: (2, 2)\n",
       "┌─────────┬───────────────────┐\n",
       "│ correct ┆ response_time     │\n",
       "│ ---     ┆ ---               │\n",
       "│ i64     ┆ list[f64]         │\n",
       "╞═════════╪═══════════════════╡\n",
       "│ 1       ┆ [1.2, 1.4, … 1.6] │\n",
       "│ 0       ┆ [2.1, 1.8, 1.6]   │\n",
       "└─────────┴───────────────────┘"
      ]
     },
     "execution_count": 19,
     "metadata": {},
     "output_type": "execute_result"
    }
   ],
   "source": [
    "included.group_by(\"correct\").agg(pl.col(\"response_time\"))"
   ]
  },
  {
   "cell_type": "markdown",
   "metadata": {},
   "source": [
    "Often, we'll want to calculate a summary statistic, like the mean, for each group. We can do that by specifying the column to aggregate and calling the `mean` function."
   ]
  },
  {
   "cell_type": "code",
   "execution_count": 20,
   "metadata": {},
   "outputs": [
    {
     "data": {
      "text/html": [
       "<div><style>\n",
       ".dataframe > thead > tr,\n",
       ".dataframe > tbody > tr {\n",
       "  text-align: right;\n",
       "  white-space: pre-wrap;\n",
       "}\n",
       "</style>\n",
       "<small>shape: (2, 2)</small><table border=\"1\" class=\"dataframe\"><thead><tr><th>correct</th><th>response_time</th></tr><tr><td>i64</td><td>f64</td></tr></thead><tbody><tr><td>0</td><td>1.833333</td></tr><tr><td>1</td><td>1.4</td></tr></tbody></table></div>"
      ],
      "text/plain": [
       "shape: (2, 2)\n",
       "┌─────────┬───────────────┐\n",
       "│ correct ┆ response_time │\n",
       "│ ---     ┆ ---           │\n",
       "│ i64     ┆ f64           │\n",
       "╞═════════╪═══════════════╡\n",
       "│ 0       ┆ 1.833333      │\n",
       "│ 1       ┆ 1.4           │\n",
       "└─────────┴───────────────┘"
      ]
     },
     "execution_count": 20,
     "metadata": {},
     "output_type": "execute_result"
    }
   ],
   "source": [
    "included.group_by(\"correct\").agg(pl.col(\"response_time\").mean())"
   ]
  },
  {
   "cell_type": "markdown",
   "metadata": {},
   "source": [
    "We can also use calculate other summary statistics, like the standard deviation."
   ]
  },
  {
   "cell_type": "code",
   "execution_count": 21,
   "metadata": {},
   "outputs": [
    {
     "data": {
      "text/html": [
       "<div><style>\n",
       ".dataframe > thead > tr,\n",
       ".dataframe > tbody > tr {\n",
       "  text-align: right;\n",
       "  white-space: pre-wrap;\n",
       "}\n",
       "</style>\n",
       "<small>shape: (2, 2)</small><table border=\"1\" class=\"dataframe\"><thead><tr><th>correct</th><th>response_time</th></tr><tr><td>i64</td><td>f64</td></tr></thead><tbody><tr><td>1</td><td>0.163299</td></tr><tr><td>0</td><td>0.251661</td></tr></tbody></table></div>"
      ],
      "text/plain": [
       "shape: (2, 2)\n",
       "┌─────────┬───────────────┐\n",
       "│ correct ┆ response_time │\n",
       "│ ---     ┆ ---           │\n",
       "│ i64     ┆ f64           │\n",
       "╞═════════╪═══════════════╡\n",
       "│ 1       ┆ 0.163299      │\n",
       "│ 0       ┆ 0.251661      │\n",
       "└─────────┴───────────────┘"
      ]
     },
     "execution_count": 21,
     "metadata": {},
     "output_type": "execute_result"
    }
   ],
   "source": [
    "included.group_by(\"correct\").agg(pl.col(\"response_time\").std())"
   ]
  },
  {
   "cell_type": "markdown",
   "metadata": {},
   "source": [
    "We can even calculate multiple summary statistics at the same time. In this case, we must give the columns different names to avoid getting an error. Like in `select` and `with_columns`, we can assign names using keyword arguments to `agg`."
   ]
  },
  {
   "cell_type": "code",
   "execution_count": 22,
   "metadata": {},
   "outputs": [
    {
     "data": {
      "text/html": [
       "<div><style>\n",
       ".dataframe > thead > tr,\n",
       ".dataframe > tbody > tr {\n",
       "  text-align: right;\n",
       "  white-space: pre-wrap;\n",
       "}\n",
       "</style>\n",
       "<small>shape: (2, 3)</small><table border=\"1\" class=\"dataframe\"><thead><tr><th>correct</th><th>mean</th><th>std</th></tr><tr><td>i64</td><td>f64</td><td>f64</td></tr></thead><tbody><tr><td>1</td><td>1.4</td><td>0.163299</td></tr><tr><td>0</td><td>1.833333</td><td>0.251661</td></tr></tbody></table></div>"
      ],
      "text/plain": [
       "shape: (2, 3)\n",
       "┌─────────┬──────────┬──────────┐\n",
       "│ correct ┆ mean     ┆ std      │\n",
       "│ ---     ┆ ---      ┆ ---      │\n",
       "│ i64     ┆ f64      ┆ f64      │\n",
       "╞═════════╪══════════╪══════════╡\n",
       "│ 1       ┆ 1.4      ┆ 0.163299 │\n",
       "│ 0       ┆ 1.833333 ┆ 0.251661 │\n",
       "└─────────┴──────────┴──────────┘"
      ]
     },
     "execution_count": 22,
     "metadata": {},
     "output_type": "execute_result"
    }
   ],
   "source": [
    "(\n",
    "    included.group_by(\"correct\")\n",
    "    .agg(\n",
    "        mean=pl.col(\"response_time\").mean(),\n",
    "        std=pl.col(\"response_time\").std(),\n",
    "    )\n",
    ")"
   ]
  },
  {
   "cell_type": "markdown",
   "metadata": {},
   "source": [
    "## Reshaping data\n",
    "\n",
    "Sometimes, we need to transform our dataset to a different shape to make it easier to work with."
   ]
  },
  {
   "cell_type": "markdown",
   "metadata": {},
   "source": [
    "Say that we have data in a study where trials are split into blocks. Each block is represented by one row in the DataFrame. The `1` column indicates if trial 1 was correct, the `2` column indicates if trial 2 was correct, and the `3` column indicates if trial 3 was correct.\n",
    "\n",
    "| block | 1 | 2 | 3 |\n",
    "| ----- | - | - | - |\n",
    "| 1     | 1 | 0 | 0 |\n",
    "| 2     | 0 | 1 | 0 |\n",
    "\n",
    "This is called a *wide* format table. If we want to analyze the accuracy of trials within each block, we will have to access the correct column."
   ]
  },
  {
   "cell_type": "markdown",
   "metadata": {},
   "source": [
    "Often it is easier to work with *long* format instead. In a long-format DataFRame, there is one row for each set of observations. Here, that means there is one row for each trial.\n",
    "\n",
    "| block | trial | correct |\n",
    "| ----- | ----- | ------- |\n",
    "| 1     | 1     | 1       |\n",
    "| 1     | 2     | 0       |\n",
    "| 1     | 3     | 0       |\n",
    "| 2     | 1     | 0       |\n",
    "| 2     | 2     | 1       |\n",
    "| 2     | 3     | 0       |"
   ]
  },
  {
   "cell_type": "code",
   "execution_count": 23,
   "metadata": {},
   "outputs": [
    {
     "data": {
      "text/html": [
       "<div><style>\n",
       ".dataframe > thead > tr,\n",
       ".dataframe > tbody > tr {\n",
       "  text-align: right;\n",
       "  white-space: pre-wrap;\n",
       "}\n",
       "</style>\n",
       "<small>shape: (2, 4)</small><table border=\"1\" class=\"dataframe\"><thead><tr><th>block</th><th>1</th><th>2</th><th>3</th></tr><tr><td>i64</td><td>i64</td><td>i64</td><td>i64</td></tr></thead><tbody><tr><td>1</td><td>1</td><td>0</td><td>0</td></tr><tr><td>2</td><td>0</td><td>1</td><td>0</td></tr></tbody></table></div>"
      ],
      "text/plain": [
       "shape: (2, 4)\n",
       "┌───────┬─────┬─────┬─────┐\n",
       "│ block ┆ 1   ┆ 2   ┆ 3   │\n",
       "│ ---   ┆ --- ┆ --- ┆ --- │\n",
       "│ i64   ┆ i64 ┆ i64 ┆ i64 │\n",
       "╞═══════╪═════╪═════╪═════╡\n",
       "│ 1     ┆ 1   ┆ 0   ┆ 0   │\n",
       "│ 2     ┆ 0   ┆ 1   ┆ 0   │\n",
       "└───────┴─────┴─────┴─────┘"
      ]
     },
     "execution_count": 23,
     "metadata": {},
     "output_type": "execute_result"
    }
   ],
   "source": [
    "df = pl.DataFrame(\n",
    "    {\n",
    "        \"block\": [1, 2],\n",
    "        \"1\": [1, 0],\n",
    "        \"2\": [0, 1],\n",
    "        \"3\": [0, 0],\n",
    "    }\n",
    ")\n",
    "df"
   ]
  },
  {
   "cell_type": "code",
   "execution_count": 24,
   "metadata": {},
   "outputs": [
    {
     "data": {
      "text/html": [
       "<div><style>\n",
       ".dataframe > thead > tr,\n",
       ".dataframe > tbody > tr {\n",
       "  text-align: right;\n",
       "  white-space: pre-wrap;\n",
       "}\n",
       "</style>\n",
       "<small>shape: (6, 3)</small><table border=\"1\" class=\"dataframe\"><thead><tr><th>block</th><th>trial</th><th>correct</th></tr><tr><td>i64</td><td>i64</td><td>i64</td></tr></thead><tbody><tr><td>1</td><td>1</td><td>1</td></tr><tr><td>1</td><td>2</td><td>0</td></tr><tr><td>1</td><td>3</td><td>0</td></tr><tr><td>2</td><td>1</td><td>0</td></tr><tr><td>2</td><td>2</td><td>1</td></tr><tr><td>2</td><td>3</td><td>0</td></tr></tbody></table></div>"
      ],
      "text/plain": [
       "shape: (6, 3)\n",
       "┌───────┬───────┬─────────┐\n",
       "│ block ┆ trial ┆ correct │\n",
       "│ ---   ┆ ---   ┆ ---     │\n",
       "│ i64   ┆ i64   ┆ i64     │\n",
       "╞═══════╪═══════╪═════════╡\n",
       "│ 1     ┆ 1     ┆ 1       │\n",
       "│ 1     ┆ 2     ┆ 0       │\n",
       "│ 1     ┆ 3     ┆ 0       │\n",
       "│ 2     ┆ 1     ┆ 0       │\n",
       "│ 2     ┆ 2     ┆ 1       │\n",
       "│ 2     ┆ 3     ┆ 0       │\n",
       "└───────┴───────┴─────────┘"
      ]
     },
     "execution_count": 24,
     "metadata": {},
     "output_type": "execute_result"
    }
   ],
   "source": [
    "df.unpivot(\n",
    "    [\"1\", \"2\", \"3\"], \n",
    "    index=\"block\",\n",
    "    variable_name=\"trial\",\n",
    "    value_name=\"correct\",\n",
    ").with_columns(pl.col(\"trial\").cast(pl.Int64)).sort(\"block\")"
   ]
  }
 ],
 "metadata": {
  "kernelspec": {
   "display_name": "datascipsych",
   "language": "python",
   "name": "datascipsych"
  },
  "language_info": {
   "codemirror_mode": {
    "name": "ipython",
    "version": 3
   },
   "file_extension": ".py",
   "mimetype": "text/x-python",
   "name": "python",
   "nbconvert_exporter": "python",
   "pygments_lexer": "ipython3",
   "version": "3.12.8"
  }
 },
 "nbformat": 4,
 "nbformat_minor": 2
}
