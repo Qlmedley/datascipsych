{
 "cells": [
  {
   "cell_type": "markdown",
   "id": "5a112266",
   "metadata": {},
   "source": [
    "# Assignment 12 draft (NOT FINALIZED)\n",
    "\n",
    "Please fill in blanks in the *Answer* sections of this notebook. To check your answer for a problem, run the Setup, Answer, and Result sections. DO NOT MODIFY SETUP OR RESULT CELLS. See the [README](https://github.com/mortonne/datascipsych) for instructions on setting up a Python environment to run this notebook.\n",
    "\n",
    "Write your answers for each problem. Then restart the kernel, run all cells, and then save the notebook. Upload your notebook to Canvas.\n",
    "\n",
    "If you get stuck, read through the other notebooks in this directory, ask us for help in class, or ask other students for help in class or on the weekly discussion board."
   ]
  },
  {
   "cell_type": "markdown",
   "id": "9bd9f8cc",
   "metadata": {},
   "source": [
    "## Problem: comparing two conditions (6 points)\n",
    "\n",
    "Given the recognition memory dataset (defined below) in `data`, test whether there is a difference in response between targets and lures. \n",
    "\n",
    "The code below carries out the first step of this analysis, by calculating the mean for each subject and trial type. \n",
    "\n",
    "The sub-problems go through the remaining steps of visualizing the data in each condition, calculating summary statistics, and running a t-test to test for a significant effect of trial type. Finally, the last sub-problem involves writing text to describe the results of your analysis. See the sub-problems below for directions."
   ]
  },
  {
   "cell_type": "markdown",
   "id": "b9c119e6",
   "metadata": {},
   "source": [
    "### Setup"
   ]
  },
  {
   "cell_type": "code",
   "execution_count": 1,
   "id": "339b1849",
   "metadata": {},
   "outputs": [
    {
     "data": {
      "text/html": [
       "<div><style>\n",
       ".dataframe > thead > tr,\n",
       ".dataframe > tbody > tr {\n",
       "  text-align: right;\n",
       "  white-space: pre-wrap;\n",
       "}\n",
       "</style>\n",
       "<small>shape: (5, 3)</small><table border=\"1\" class=\"dataframe\"><thead><tr><th>subject</th><th>trial_type</th><th>response</th></tr><tr><td>str</td><td>str</td><td>f64</td></tr></thead><tbody><tr><td>&quot;subj01&quot;</td><td>&quot;lure&quot;</td><td>0.35</td></tr><tr><td>&quot;subj01&quot;</td><td>&quot;target&quot;</td><td>0.566667</td></tr><tr><td>&quot;subj02&quot;</td><td>&quot;lure&quot;</td><td>0.333333</td></tr><tr><td>&quot;subj02&quot;</td><td>&quot;target&quot;</td><td>0.566667</td></tr><tr><td>&quot;subj03&quot;</td><td>&quot;lure&quot;</td><td>0.3</td></tr></tbody></table></div>"
      ],
      "text/plain": [
       "shape: (5, 3)\n",
       "┌─────────┬────────────┬──────────┐\n",
       "│ subject ┆ trial_type ┆ response │\n",
       "│ ---     ┆ ---        ┆ ---      │\n",
       "│ str     ┆ str        ┆ f64      │\n",
       "╞═════════╪════════════╪══════════╡\n",
       "│ subj01  ┆ lure       ┆ 0.35     │\n",
       "│ subj01  ┆ target     ┆ 0.566667 │\n",
       "│ subj02  ┆ lure       ┆ 0.333333 │\n",
       "│ subj02  ┆ target     ┆ 0.566667 │\n",
       "│ subj03  ┆ lure       ┆ 0.3      │\n",
       "└─────────┴────────────┴──────────┘"
      ]
     },
     "execution_count": 1,
     "metadata": {},
     "output_type": "execute_result"
    }
   ],
   "source": [
    "import polars as pl\n",
    "import seaborn as sns\n",
    "import pingouin as pg\n",
    "from IPython.display import display\n",
    "data = pl.read_csv(\"gen_recog2.csv\")\n",
    "mean_trial_type = (\n",
    "    data.group_by(\"subject\", \"trial_type\")\n",
    "    .agg(pl.col(\"response\").mean())\n",
    "    .sort(\"subject\", \"trial_type\")\n",
    ")\n",
    "g1 = None\n",
    "stats_trial_type = None\n",
    "ttest_trial_type = None\n",
    "mean_trial_type.head()"
   ]
  },
  {
   "cell_type": "markdown",
   "id": "0fd6764b",
   "metadata": {},
   "source": [
    "### Answer"
   ]
  },
  {
   "cell_type": "markdown",
   "id": "6c636d9c",
   "metadata": {},
   "source": [
    "#### Visualize means in each condition (2 points)\n",
    "\n",
    "Use the `mean_trial_type` DataFrame to make a bar plot with error bars showing the mean response for targets and lures (1 point). Assign the output from Seaborn to a variable called `g1`.\n",
    "\n",
    "Write a caption in a Markdown cell under the plot (1 point)."
   ]
  },
  {
   "cell_type": "code",
   "execution_count": 2,
   "id": "9a9b1b50",
   "metadata": {},
   "outputs": [],
   "source": [
    "# your code here\n",
    "\n",
    "# this should print your variables\n",
    "if g1 is not None:\n",
    "    print(g1)"
   ]
  },
  {
   "cell_type": "markdown",
   "id": "60caaa14",
   "metadata": {},
   "source": [
    "> Write a caption for your figure. Explain what variables are shown and what the error bars represent.\n",
    "\n",
    "[answer here]"
   ]
  },
  {
   "cell_type": "markdown",
   "id": "872aa31a",
   "metadata": {},
   "source": [
    "#### Calculate summary statistics (1 point)\n",
    "\n",
    "Use the `mean_study_time` DataFrame to calculate the mean and SEM for the responses in the target and lure conditions. In the DataFrame with the statistics, there should be two columns named `mean` and `sem`. Assign the output to a variable called `stats_trial_type`."
   ]
  },
  {
   "cell_type": "code",
   "execution_count": 3,
   "id": "f9f2cb72",
   "metadata": {},
   "outputs": [],
   "source": [
    "# your code here\n",
    "\n",
    "# this should print your variables\n",
    "if stats_trial_type is not None:\n",
    "    display(stats_trial_type.sort(\"trial_type\"))"
   ]
  },
  {
   "cell_type": "markdown",
   "id": "a584f072",
   "metadata": {},
   "source": [
    "#### Test for a significant difference (1 point)\n",
    "\n",
    "Use the data in the `mean_trial_type` DataFrame to run a paired t-test to test whether there is a significant difference in response between the target and lure conditions. Assign the result to a variable called `ttest_trial_type`. Hint: you will need to make a pivoted DataFrame before running the t-test."
   ]
  },
  {
   "cell_type": "code",
   "execution_count": 4,
   "id": "12502ba9",
   "metadata": {},
   "outputs": [],
   "source": [
    "# your code here\n",
    "\n",
    "# this should print out your variables\n",
    "if ttest_trial_type is not None:\n",
    "    display(ttest_trial_type)"
   ]
  },
  {
   "cell_type": "markdown",
   "id": "1a640772",
   "metadata": {},
   "source": [
    "#### Report the results (2 points)\n",
    "\n",
    "Write text describing the results. Report the mean and SEM for each trial type (targets and lures) (0.5 points), the results of the t-test (1 point), and your conclusion about whether there is an effect of trial type on response (0.5 points). See the [Reporting](https://mortonne.github.io/datascipsych/assignments/assignment12/reporting.html) lecture for example text."
   ]
  },
  {
   "cell_type": "markdown",
   "id": "3fba719d",
   "metadata": {},
   "source": [
    "> Please describe your results below.\n",
    "\n",
    "[answer here]"
   ]
  },
  {
   "cell_type": "markdown",
   "id": "61b2ae82",
   "metadata": {},
   "source": [
    "### Result"
   ]
  },
  {
   "cell_type": "code",
   "execution_count": 5,
   "id": "76ddb49c",
   "metadata": {},
   "outputs": [],
   "source": [
    "vars = [g1, stats_trial_type, ttest_trial_type]\n",
    "if all([v is not None for v in vars]):\n",
    "    # this should print your variables\n",
    "    print(g1)\n",
    "    display(stats_trial_type.sort(\"trial_type\"))\n",
    "    display(ttest_trial_type)\n",
    "    \n",
    "    # this should not throw any errors\n",
    "    assert isinstance(g1, sns.FacetGrid)\n",
    "    assert stats_trial_type[\"mean\"].round(3).equals(pl.Series([0.374, 0.611]))\n",
    "    assert stats_trial_type[\"sem\"].round(3).equals(pl.Series([0.013, 0.015]))\n",
    "    assert round(ttest_trial_type.loc[\"T-test\", \"T\"], 3) == 11.354\n",
    "    assert ttest_trial_type.loc[\"T-test\", \"dof\"] == 29\n",
    "    assert ttest_trial_type.loc[\"T-test\", \"alternative\"] == \"two-sided\""
   ]
  },
  {
   "cell_type": "markdown",
   "id": "82dd06c8",
   "metadata": {},
   "source": [
    "## Problem: comparing three conditions (6 points)\n",
    "\n",
    "Given the recognition memory dataset (defined below) in `data`, test whether there is responses for target trials depend on study time (1, 2, or 4 seconds).\n",
    "\n",
    "The code below carries out the first step of this analysis, by calculating the mean response for target trials, for each subject and study time.\n",
    "\n",
    "The sub-problems go through the remaining steps of visualizing the data in each condition, calculating summary statistics, and running a t-test to test for a significant effect of study time. Finally, the last sub-problem involves writing text to describe the results of your analysis. See the sub-problems below for directions."
   ]
  },
  {
   "cell_type": "markdown",
   "id": "755d7d86",
   "metadata": {},
   "source": [
    "### Setup"
   ]
  },
  {
   "cell_type": "code",
   "execution_count": 6,
   "id": "2a0631c7",
   "metadata": {},
   "outputs": [
    {
     "data": {
      "text/html": [
       "<div><style>\n",
       ".dataframe > thead > tr,\n",
       ".dataframe > tbody > tr {\n",
       "  text-align: right;\n",
       "  white-space: pre-wrap;\n",
       "}\n",
       "</style>\n",
       "<small>shape: (5, 3)</small><table border=\"1\" class=\"dataframe\"><thead><tr><th>subject</th><th>study_time</th><th>response</th></tr><tr><td>str</td><td>i64</td><td>f64</td></tr></thead><tbody><tr><td>&quot;subj01&quot;</td><td>1</td><td>0.6</td></tr><tr><td>&quot;subj01&quot;</td><td>2</td><td>0.5</td></tr><tr><td>&quot;subj01&quot;</td><td>4</td><td>0.6</td></tr><tr><td>&quot;subj02&quot;</td><td>1</td><td>0.55</td></tr><tr><td>&quot;subj02&quot;</td><td>2</td><td>0.45</td></tr></tbody></table></div>"
      ],
      "text/plain": [
       "shape: (5, 3)\n",
       "┌─────────┬────────────┬──────────┐\n",
       "│ subject ┆ study_time ┆ response │\n",
       "│ ---     ┆ ---        ┆ ---      │\n",
       "│ str     ┆ i64        ┆ f64      │\n",
       "╞═════════╪════════════╪══════════╡\n",
       "│ subj01  ┆ 1          ┆ 0.6      │\n",
       "│ subj01  ┆ 2          ┆ 0.5      │\n",
       "│ subj01  ┆ 4          ┆ 0.6      │\n",
       "│ subj02  ┆ 1          ┆ 0.55     │\n",
       "│ subj02  ┆ 2          ┆ 0.45     │\n",
       "└─────────┴────────────┴──────────┘"
      ]
     },
     "execution_count": 6,
     "metadata": {},
     "output_type": "execute_result"
    }
   ],
   "source": [
    "import polars as pl\n",
    "import seaborn as sns\n",
    "import pingouin as pg\n",
    "from IPython.display import display\n",
    "data = pl.read_csv(\"gen_recog2.csv\")\n",
    "mean_study_time = (\n",
    "    data.filter(pl.col(\"trial_type\") == \"target\")\n",
    "    .group_by(\"subject\", \"study_time\")\n",
    "    .agg(pl.col(\"response\").mean())\n",
    "    .sort(\"subject\", \"study_time\")\n",
    ")\n",
    "g2 = None\n",
    "stats_study_time = None\n",
    "anova_study_time = None\n",
    "mean_study_time.head()"
   ]
  },
  {
   "cell_type": "markdown",
   "id": "8ed87f92",
   "metadata": {},
   "source": [
    "### Answer"
   ]
  },
  {
   "cell_type": "markdown",
   "id": "e93c6ec8",
   "metadata": {},
   "source": [
    "#### Visualize means in each condition (2 points)\n",
    "\n",
    "Use the `mean_study_time` DataFrame to make a line plot with error bands showing how the mean response varies with study time (1 point). Assign the output from Seaborn to a variable called `g2`.\n",
    "\n",
    "Write a caption in a Markdown cell under the plot (1 point)."
   ]
  },
  {
   "cell_type": "code",
   "execution_count": 7,
   "id": "568945ab",
   "metadata": {},
   "outputs": [],
   "source": [
    "# your code here\n",
    "\n",
    "# this should print your variables\n",
    "if g2 is not None:\n",
    "    print(g2)"
   ]
  },
  {
   "cell_type": "markdown",
   "id": "f72e99c0",
   "metadata": {},
   "source": [
    "> Write a caption for your figure. Explain what variables are shown and what the error bands represent.\n",
    "\n",
    "[answer here]"
   ]
  },
  {
   "cell_type": "markdown",
   "id": "220f90c5",
   "metadata": {},
   "source": [
    "#### Calculate summary statistics (1 point)\n",
    "\n",
    "Use the `mean_study_time` DataFrame to calculate the mean and SEM for the responses in the target and lure conditions. In the DataFrame with the statistics, there should be two columns named `mean` and `sem`. Assign the output to a variable called `stats_study_time`."
   ]
  },
  {
   "cell_type": "code",
   "execution_count": 8,
   "id": "89acd5c3",
   "metadata": {},
   "outputs": [],
   "source": [
    "# your code here\n",
    "\n",
    "# this should print your variables\n",
    "if stats_study_time is not None:\n",
    "    display(stats_study_time.sort(\"study_time\"))"
   ]
  },
  {
   "cell_type": "markdown",
   "id": "9609af26",
   "metadata": {},
   "source": [
    "#### Test for a significant difference (1 point)\n",
    "\n",
    "Use the data in the `mean_study_time` DataFrame to run a one-way repeated-measures ANOVA to test whether there is a significant difference in response depending on study time. Assign the result to a variable called `anova_study_time`. Hint: you will need to convert the DataFrame to Pandas format."
   ]
  },
  {
   "cell_type": "code",
   "execution_count": 9,
   "id": "6cce950a",
   "metadata": {},
   "outputs": [],
   "source": [
    "# your code here\n",
    "\n",
    "# this should print out your variables\n",
    "if anova_study_time is not None:\n",
    "    display(anova_study_time)"
   ]
  },
  {
   "cell_type": "markdown",
   "id": "bbfc640f",
   "metadata": {},
   "source": [
    "#### Report the results (2 points)\n",
    "\n",
    "Write text describing the results. Report the mean and SEM for each study time (0.5 points), the results of the ANOVA (1 point), and your conclusion about whether there is an effect of study time on response (0.5 points). See the [Reporting](https://mortonne.github.io/datascipsych/assignments/assignment12/reporting.html) lecture for example text."
   ]
  },
  {
   "cell_type": "markdown",
   "id": "a2248243",
   "metadata": {},
   "source": [
    "> Please describe your results below.\n",
    "\n",
    "[answer here]"
   ]
  },
  {
   "cell_type": "markdown",
   "id": "3a6944a8",
   "metadata": {},
   "source": [
    "### Result"
   ]
  },
  {
   "cell_type": "code",
   "execution_count": 10,
   "id": "a0f64a2a",
   "metadata": {},
   "outputs": [],
   "source": [
    "vars = [g2, stats_study_time, anova_study_time]\n",
    "if all([v is not None for v in vars]):\n",
    "    # this should print your variables\n",
    "    print(g2)\n",
    "    stats_study_time = stats_study_time.sort(\"study_time\")\n",
    "    display(stats_study_time)\n",
    "    display(anova_study_time)\n",
    "    \n",
    "    # this should not throw any errors\n",
    "    assert isinstance(g2, sns.FacetGrid)\n",
    "    assert stats_study_time[\"mean\"].round(3).equals(pl.Series([0.562, 0.618, 0.652]))\n",
    "    assert stats_study_time[\"sem\"].round(3).equals(pl.Series([0.022, 0.022, 0.022]))\n",
    "    assert round(anova_study_time.loc[0, \"F\"], 3) == 5.578\n",
    "    assert anova_study_time.loc[0, \"ddof1\"] == 2\n",
    "    assert anova_study_time.loc[0, \"ddof2\"] == 58"
   ]
  }
 ],
 "metadata": {
  "kernelspec": {
   "display_name": "datascipsych",
   "language": "python",
   "name": "datascipsych"
  },
  "language_info": {
   "codemirror_mode": {
    "name": "ipython",
    "version": 3
   },
   "file_extension": ".py",
   "mimetype": "text/x-python",
   "name": "python",
   "nbconvert_exporter": "python",
   "pygments_lexer": "ipython3",
   "version": "3.12.10"
  }
 },
 "nbformat": 4,
 "nbformat_minor": 5
}
