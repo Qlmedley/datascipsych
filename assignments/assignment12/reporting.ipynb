{
 "cells": [
  {
   "cell_type": "markdown",
   "metadata": {},
   "source": [
    "# Reporting\n",
    "\n",
    "After calculating summary statistics, visualizing them, and testing for significant effects using inferential statistics, we must put these results together to form a narrative that explains what we have found. When reporting results, it is important to describe the results thoroughly and accurately, and in a way that is understandable to a relatively wide audience."
   ]
  },
  {
   "cell_type": "markdown",
   "metadata": {},
   "source": [
    "There are many different kinds of analyses that we may want to explore when analyzing a dataset. We will use examples from analysis of the Morton et al. (2013) dataset, to illustrate how to run and report different analyses. We will use Polars, Seaborn, and Pingouin to get the plots and statistics we need to make conclusions about the dataset."
   ]
  },
  {
   "cell_type": "code",
   "execution_count": 1,
   "metadata": {},
   "outputs": [
    {
     "data": {
      "text/html": [
       "<div><style>\n",
       ".dataframe > thead > tr,\n",
       ".dataframe > tbody > tr {\n",
       "  text-align: right;\n",
       "  white-space: pre-wrap;\n",
       "}\n",
       "</style>\n",
       "<small>shape: (5, 15)</small><table border=\"1\" class=\"dataframe\"><thead><tr><th>subject</th><th>session</th><th>list</th><th>item</th><th>input</th><th>output</th><th>study</th><th>recall</th><th>repeat</th><th>intrusion</th><th>list_type</th><th>list_category</th><th>category</th><th>response</th><th>response_time</th></tr><tr><td>i64</td><td>i64</td><td>i64</td><td>str</td><td>i64</td><td>i64</td><td>bool</td><td>bool</td><td>i64</td><td>bool</td><td>str</td><td>str</td><td>str</td><td>i64</td><td>f64</td></tr></thead><tbody><tr><td>1</td><td>1</td><td>1</td><td>&quot;TOWEL&quot;</td><td>1</td><td>13</td><td>true</td><td>true</td><td>0</td><td>false</td><td>&quot;pure&quot;</td><td>&quot;obj&quot;</td><td>&quot;obj&quot;</td><td>3</td><td>1.517</td></tr><tr><td>1</td><td>1</td><td>1</td><td>&quot;LADLE&quot;</td><td>2</td><td>null</td><td>true</td><td>false</td><td>0</td><td>false</td><td>&quot;pure&quot;</td><td>&quot;obj&quot;</td><td>&quot;obj&quot;</td><td>3</td><td>1.404</td></tr><tr><td>1</td><td>1</td><td>1</td><td>&quot;THERMOS&quot;</td><td>3</td><td>null</td><td>true</td><td>false</td><td>0</td><td>false</td><td>&quot;pure&quot;</td><td>&quot;obj&quot;</td><td>&quot;obj&quot;</td><td>3</td><td>0.911</td></tr><tr><td>1</td><td>1</td><td>1</td><td>&quot;LEGO&quot;</td><td>4</td><td>18</td><td>true</td><td>true</td><td>0</td><td>false</td><td>&quot;pure&quot;</td><td>&quot;obj&quot;</td><td>&quot;obj&quot;</td><td>3</td><td>0.883</td></tr><tr><td>1</td><td>1</td><td>1</td><td>&quot;BACKPACK&quot;</td><td>5</td><td>10</td><td>true</td><td>true</td><td>0</td><td>false</td><td>&quot;pure&quot;</td><td>&quot;obj&quot;</td><td>&quot;obj&quot;</td><td>3</td><td>0.819</td></tr></tbody></table></div>"
      ],
      "text/plain": [
       "shape: (5, 15)\n",
       "┌─────────┬─────────┬──────┬──────────┬───┬───────────────┬──────────┬──────────┬───────────────┐\n",
       "│ subject ┆ session ┆ list ┆ item     ┆ … ┆ list_category ┆ category ┆ response ┆ response_time │\n",
       "│ ---     ┆ ---     ┆ ---  ┆ ---      ┆   ┆ ---           ┆ ---      ┆ ---      ┆ ---           │\n",
       "│ i64     ┆ i64     ┆ i64  ┆ str      ┆   ┆ str           ┆ str      ┆ i64      ┆ f64           │\n",
       "╞═════════╪═════════╪══════╪══════════╪═══╪═══════════════╪══════════╪══════════╪═══════════════╡\n",
       "│ 1       ┆ 1       ┆ 1    ┆ TOWEL    ┆ … ┆ obj           ┆ obj      ┆ 3        ┆ 1.517         │\n",
       "│ 1       ┆ 1       ┆ 1    ┆ LADLE    ┆ … ┆ obj           ┆ obj      ┆ 3        ┆ 1.404         │\n",
       "│ 1       ┆ 1       ┆ 1    ┆ THERMOS  ┆ … ┆ obj           ┆ obj      ┆ 3        ┆ 0.911         │\n",
       "│ 1       ┆ 1       ┆ 1    ┆ LEGO     ┆ … ┆ obj           ┆ obj      ┆ 3        ┆ 0.883         │\n",
       "│ 1       ┆ 1       ┆ 1    ┆ BACKPACK ┆ … ┆ obj           ┆ obj      ┆ 3        ┆ 0.819         │\n",
       "└─────────┴─────────┴──────┴──────────┴───┴───────────────┴──────────┴──────────┴───────────────┘"
      ]
     },
     "execution_count": 1,
     "metadata": {},
     "output_type": "execute_result"
    }
   ],
   "source": [
    "import polars as pl\n",
    "import seaborn as sns\n",
    "import pingouin as pg\n",
    "from datascipsych import datasets\n",
    "data_file = datasets.get_dataset_file(\"Morton2013\")\n",
    "raw = pl.read_csv(data_file, null_values=\"n/a\")\n",
    "data = raw.filter(pl.col(\"study\"))  # remove invalid recall attempts\n",
    "data.head()"
   ]
  },
  {
   "cell_type": "markdown",
   "metadata": {},
   "source": [
    "In this study, participants studied lists of 24 items, which were celebrities, famous locations, or common objects. After each list, participants were asked to freely recall the items from that list in whatever order they wanted. In the dataset, trials where the `recall` column is `true` indicate that the participant did successfully recall that item. There were two types of list: *pure* lists (all the same category) and *mixed* lists (drawn from different categories)."
   ]
  },
  {
   "cell_type": "markdown",
   "metadata": {},
   "source": [
    "Next, we will demonstrate a series of analysis types using this dataset. In each case, reporting results of an analysis involves *visualizing* an effect of a variable (or lack of effect), *summarizing* the effect using summary statistics, and *testing* to see if the effect is statistically significant."
   ]
  },
  {
   "cell_type": "markdown",
   "metadata": {},
   "source": [
    "## Comparing two conditions\n",
    "\n",
    "If we have some variable that was measured in different conditions, we may want to know if that variable changes reliably depending on the condition. We will first analyze whether recall accuracy on pure lists is different from recall accuracy on mixed lists."
   ]
  },
  {
   "cell_type": "markdown",
   "metadata": {},
   "source": [
    "### Calculating measures\n",
    "\n",
    "We first need to calculate the mean for each condition, separately for each subject."
   ]
  },
  {
   "cell_type": "code",
   "execution_count": 2,
   "metadata": {},
   "outputs": [
    {
     "data": {
      "text/html": [
       "<div><style>\n",
       ".dataframe > thead > tr,\n",
       ".dataframe > tbody > tr {\n",
       "  text-align: right;\n",
       "  white-space: pre-wrap;\n",
       "}\n",
       "</style>\n",
       "<small>shape: (5, 3)</small><table border=\"1\" class=\"dataframe\"><thead><tr><th>subject</th><th>list_type</th><th>recall</th></tr><tr><td>i64</td><td>str</td><td>f64</td></tr></thead><tbody><tr><td>1</td><td>&quot;mixed&quot;</td><td>0.476389</td></tr><tr><td>1</td><td>&quot;pure&quot;</td><td>0.564815</td></tr><tr><td>2</td><td>&quot;mixed&quot;</td><td>0.55</td></tr><tr><td>2</td><td>&quot;pure&quot;</td><td>0.555556</td></tr><tr><td>3</td><td>&quot;mixed&quot;</td><td>0.484722</td></tr></tbody></table></div>"
      ],
      "text/plain": [
       "shape: (5, 3)\n",
       "┌─────────┬───────────┬──────────┐\n",
       "│ subject ┆ list_type ┆ recall   │\n",
       "│ ---     ┆ ---       ┆ ---      │\n",
       "│ i64     ┆ str       ┆ f64      │\n",
       "╞═════════╪═══════════╪══════════╡\n",
       "│ 1       ┆ mixed     ┆ 0.476389 │\n",
       "│ 1       ┆ pure      ┆ 0.564815 │\n",
       "│ 2       ┆ mixed     ┆ 0.55     │\n",
       "│ 2       ┆ pure      ┆ 0.555556 │\n",
       "│ 3       ┆ mixed     ┆ 0.484722 │\n",
       "└─────────┴───────────┴──────────┘"
      ]
     },
     "execution_count": 2,
     "metadata": {},
     "output_type": "execute_result"
    }
   ],
   "source": [
    "lt = (\n",
    "    data.group_by(\"subject\", \"list_type\")\n",
    "    .agg(pl.col(\"recall\").mean())\n",
    "    .sort(\"subject\", \"list_type\")\n",
    ")\n",
    "lt.head()"
   ]
  },
  {
   "cell_type": "markdown",
   "metadata": {},
   "source": [
    "We don't really need to sort the data, but it makes the result easier to understand."
   ]
  },
  {
   "cell_type": "markdown",
   "metadata": {},
   "source": [
    "### Visualization\n",
    "\n",
    " Next, we can visualize the means and uncertainty in the means using a bar plot with error bars. Seaborn will automatically calculate the means across subjects, and use a bootstrap method to determine error bars around the means."
   ]
  },
  {
   "cell_type": "code",
   "execution_count": 18,
   "metadata": {},
   "outputs": [
    {
     "data": {
      "image/png": "[encoded data removed]",
      "text/plain": [
       "<Figure size 520x500 with 1 Axes>"
      ]
     },
     "metadata": {},
     "output_type": "display_data"
    }
   ],
   "source": [
    "(\n",
    "    sns.catplot(data=lt, x=\"list_type\", y=\"recall\", kind=\"bar\")\n",
    "    .set_axis_labels(\"List type\", \"Recall probability\")\n",
    ");"
   ]
  },
  {
   "cell_type": "markdown",
   "metadata": {},
   "source": [
    "By default, Seaborn will label axes with the names of the columns we used, but those names aren't always the best for making a visualization; for example, they may have things like underscores in the names. We can use the `set_axis_labels` method to change the x-axis and y-axis labels to something that is easier to read."
   ]
  },
  {
   "cell_type": "markdown",
   "metadata": {},
   "source": [
    "In our report, we must include a figure *caption* to explain what's in the figure.\n",
    "\n",
    "> Recall, measured as the fraction of items recalled in each list, was similar for pure and mixed lists. Error bars indicate 95% bootstrap confidence intervals."
   ]
  },
  {
   "cell_type": "markdown",
   "metadata": {},
   "source": [
    "### Summary statistics\n",
    "\n",
    "In addition to having a plot showing the means, it's helpful to include the mean of each condition in the text of a report also. The standard error of the mean (SEM), which indicates uncertainty in the estimate of the mean, gives a sense of how reliable our estimate of the mean is. The SEM is defined as:\n",
    "\n",
    "$$\n",
    "\\mathrm{SEM} = \\frac{\\sigma}{\\sqrt{n}}\n",
    "$$\n",
    "\n",
    "Note that, for a given standard deviation $\\sigma$, increasing the number of samples $n$ will decrease the SEM. The more samples we have, the more confident we can be in our estimate of the mean. Lower SEM indicates less *error*, or greater confidence."
   ]
  },
  {
   "cell_type": "markdown",
   "metadata": {},
   "source": [
    "In Polars, we can calculate the SEM by taking the standard deviation and dividing by the sqrt of the length of the group. We will use another pair of `group_by` and `agg` calls to get the mean and SEM for each list type."
   ]
  },
  {
   "cell_type": "code",
   "execution_count": 4,
   "metadata": {},
   "outputs": [
    {
     "data": {
      "text/html": [
       "<div><style>\n",
       ".dataframe > thead > tr,\n",
       ".dataframe > tbody > tr {\n",
       "  text-align: right;\n",
       "  white-space: pre-wrap;\n",
       "}\n",
       "</style>\n",
       "<small>shape: (2, 3)</small><table border=\"1\" class=\"dataframe\"><thead><tr><th>list_type</th><th>mean</th><th>sem</th></tr><tr><td>str</td><td>f64</td><td>f64</td></tr></thead><tbody><tr><td>&quot;mixed&quot;</td><td>0.514097</td><td>0.014944</td></tr><tr><td>&quot;pure&quot;</td><td>0.520718</td><td>0.013915</td></tr></tbody></table></div>"
      ],
      "text/plain": [
       "shape: (2, 3)\n",
       "┌───────────┬──────────┬──────────┐\n",
       "│ list_type ┆ mean     ┆ sem      │\n",
       "│ ---       ┆ ---      ┆ ---      │\n",
       "│ str       ┆ f64      ┆ f64      │\n",
       "╞═══════════╪══════════╪══════════╡\n",
       "│ mixed     ┆ 0.514097 ┆ 0.014944 │\n",
       "│ pure      ┆ 0.520718 ┆ 0.013915 │\n",
       "└───────────┴──────────┴──────────┘"
      ]
     },
     "execution_count": 4,
     "metadata": {},
     "output_type": "execute_result"
    }
   ],
   "source": [
    "(\n",
    "    lt.group_by(\"list_type\")\n",
    "    .agg(\n",
    "        mean=pl.col(\"recall\").mean(),\n",
    "        sem=pl.col(\"recall\").std() / pl.col(\"recall\").len().sqrt(),\n",
    "    )\n",
    ")"
   ]
  },
  {
   "cell_type": "markdown",
   "metadata": {},
   "source": [
    "### Inferential statistics\n",
    "\n",
    "Finally, we use a t-test to see if there is a significant difference between conditions. We can use a pivot table to access recall for the mixed and pure lists separately."
   ]
  },
  {
   "cell_type": "code",
   "execution_count": 5,
   "metadata": {},
   "outputs": [
    {
     "data": {
      "text/html": [
       "<div>\n",
       "<style scoped>\n",
       "    .dataframe tbody tr th:only-of-type {\n",
       "        vertical-align: middle;\n",
       "    }\n",
       "\n",
       "    .dataframe tbody tr th {\n",
       "        vertical-align: top;\n",
       "    }\n",
       "\n",
       "    .dataframe thead th {\n",
       "        text-align: right;\n",
       "    }\n",
       "</style>\n",
       "<table border=\"1\" class=\"dataframe\">\n",
       "  <thead>\n",
       "    <tr style=\"text-align: right;\">\n",
       "      <th></th>\n",
       "      <th>T</th>\n",
       "      <th>dof</th>\n",
       "      <th>alternative</th>\n",
       "      <th>p-val</th>\n",
       "      <th>CI95%</th>\n",
       "      <th>cohen-d</th>\n",
       "      <th>BF10</th>\n",
       "      <th>power</th>\n",
       "    </tr>\n",
       "  </thead>\n",
       "  <tbody>\n",
       "    <tr>\n",
       "      <th>T-test</th>\n",
       "      <td>-0.997508</td>\n",
       "      <td>39</td>\n",
       "      <td>two-sided</td>\n",
       "      <td>0.324667</td>\n",
       "      <td>[-0.02, 0.01]</td>\n",
       "      <td>0.072498</td>\n",
       "      <td>0.271</td>\n",
       "      <td>0.073222</td>\n",
       "    </tr>\n",
       "  </tbody>\n",
       "</table>\n",
       "</div>"
      ],
      "text/plain": [
       "               T  dof alternative     p-val          CI95%   cohen-d   BF10  \\\n",
       "T-test -0.997508   39   two-sided  0.324667  [-0.02, 0.01]  0.072498  0.271   \n",
       "\n",
       "           power  \n",
       "T-test  0.073222  "
      ]
     },
     "execution_count": 5,
     "metadata": {},
     "output_type": "execute_result"
    }
   ],
   "source": [
    "p = lt.pivot(\"list_type\", index=\"subject\", values=\"recall\")\n",
    "pg.ttest(p[\"mixed\"], p[\"pure\"], paired=True)"
   ]
  },
  {
   "cell_type": "markdown",
   "metadata": {},
   "source": [
    "Because list type is a within-subjects condition, we use a paired t-test."
   ]
  },
  {
   "cell_type": "markdown",
   "metadata": {},
   "source": [
    "### Results\n",
    "\n",
    "We can report our findings using the figure and something like the following text.\n",
    "\n",
    "> We examined whether there was a difference in recall between the different list types. We found that there was similar recall in the mixed (mean=0.514, SEM=0.081) and pure (mean=0.521, SEM=0.082) lists. There was not a significant difference in recall based on list type (t(39)=1.00, p=0.33, Cohen's d=0.072)."
   ]
  },
  {
   "cell_type": "markdown",
   "metadata": {},
   "source": [
    "When reporting statistics, we give the mean and SEM for each condition, while providing text to help explain the results. We then report the results of the hypothesis test, giving the statistic, the degrees of freedom, the p-value, and a measure of effect size (here, Cohen's d is commonly used for t-tests)."
   ]
  },
  {
   "cell_type": "markdown",
   "metadata": {},
   "source": [
    "The sign of the t-statistic is usually discarded. It depends on whether we test (mixed - pure) or (pure - mixed), but we just care about whether there is a difference. The reader can tell the direction of the (non-significant) effect by looking at the means, rather than the sign of the t-statistic."
   ]
  },
  {
   "cell_type": "markdown",
   "metadata": {},
   "source": [
    "## Comparing multiple conditions\n",
    "\n",
    "If we have more than two conditions, we can use a one-way ANOVA to test for differences. In this example, we will examine whether recall varies depending on the *serial position* of an item. We will split up items by whether they were studied in an early position in the list (1-8), a middle position (9-16), or a late position (17-24)."
   ]
  },
  {
   "cell_type": "markdown",
   "metadata": {},
   "source": [
    "### Calculating measures\n",
    "\n",
    "First, we will have to add a new column that indicates serial position group. We can use the `cut` method, which divides a column into bins based on the boundaries we indicate. We can provide a label for each bin."
   ]
  },
  {
   "cell_type": "code",
   "execution_count": 6,
   "metadata": {},
   "outputs": [
    {
     "data": {
      "text/html": [
       "<div><style>\n",
       ".dataframe > thead > tr,\n",
       ".dataframe > tbody > tr {\n",
       "  text-align: right;\n",
       "  white-space: pre-wrap;\n",
       "}\n",
       "</style>\n",
       "<small>shape: (10, 16)</small><table border=\"1\" class=\"dataframe\"><thead><tr><th>subject</th><th>session</th><th>list</th><th>item</th><th>input</th><th>output</th><th>study</th><th>recall</th><th>repeat</th><th>intrusion</th><th>list_type</th><th>list_category</th><th>category</th><th>response</th><th>response_time</th><th>serial_position</th></tr><tr><td>i64</td><td>i64</td><td>i64</td><td>str</td><td>i64</td><td>i64</td><td>bool</td><td>bool</td><td>i64</td><td>bool</td><td>str</td><td>str</td><td>str</td><td>i64</td><td>f64</td><td>cat</td></tr></thead><tbody><tr><td>1</td><td>1</td><td>1</td><td>&quot;TOWEL&quot;</td><td>1</td><td>13</td><td>true</td><td>true</td><td>0</td><td>false</td><td>&quot;pure&quot;</td><td>&quot;obj&quot;</td><td>&quot;obj&quot;</td><td>3</td><td>1.517</td><td>&quot;early&quot;</td></tr><tr><td>1</td><td>1</td><td>1</td><td>&quot;LADLE&quot;</td><td>2</td><td>null</td><td>true</td><td>false</td><td>0</td><td>false</td><td>&quot;pure&quot;</td><td>&quot;obj&quot;</td><td>&quot;obj&quot;</td><td>3</td><td>1.404</td><td>&quot;early&quot;</td></tr><tr><td>1</td><td>1</td><td>1</td><td>&quot;THERMOS&quot;</td><td>3</td><td>null</td><td>true</td><td>false</td><td>0</td><td>false</td><td>&quot;pure&quot;</td><td>&quot;obj&quot;</td><td>&quot;obj&quot;</td><td>3</td><td>0.911</td><td>&quot;early&quot;</td></tr><tr><td>1</td><td>1</td><td>1</td><td>&quot;LEGO&quot;</td><td>4</td><td>18</td><td>true</td><td>true</td><td>0</td><td>false</td><td>&quot;pure&quot;</td><td>&quot;obj&quot;</td><td>&quot;obj&quot;</td><td>3</td><td>0.883</td><td>&quot;early&quot;</td></tr><tr><td>1</td><td>1</td><td>1</td><td>&quot;BACKPACK&quot;</td><td>5</td><td>10</td><td>true</td><td>true</td><td>0</td><td>false</td><td>&quot;pure&quot;</td><td>&quot;obj&quot;</td><td>&quot;obj&quot;</td><td>3</td><td>0.819</td><td>&quot;early&quot;</td></tr><tr><td>1</td><td>1</td><td>1</td><td>&quot;JACKHAMMER&quot;</td><td>6</td><td>7</td><td>true</td><td>true</td><td>0</td><td>false</td><td>&quot;pure&quot;</td><td>&quot;obj&quot;</td><td>&quot;obj&quot;</td><td>1</td><td>1.212</td><td>&quot;early&quot;</td></tr><tr><td>1</td><td>1</td><td>1</td><td>&quot;LANTERN&quot;</td><td>7</td><td>null</td><td>true</td><td>false</td><td>0</td><td>false</td><td>&quot;pure&quot;</td><td>&quot;obj&quot;</td><td>&quot;obj&quot;</td><td>2</td><td>0.888</td><td>&quot;early&quot;</td></tr><tr><td>1</td><td>1</td><td>1</td><td>&quot;DOORKNOB&quot;</td><td>8</td><td>11</td><td>true</td><td>true</td><td>0</td><td>false</td><td>&quot;pure&quot;</td><td>&quot;obj&quot;</td><td>&quot;obj&quot;</td><td>3</td><td>0.915</td><td>&quot;early&quot;</td></tr><tr><td>1</td><td>1</td><td>1</td><td>&quot;SHOVEL&quot;</td><td>9</td><td>9</td><td>true</td><td>true</td><td>0</td><td>false</td><td>&quot;pure&quot;</td><td>&quot;obj&quot;</td><td>&quot;obj&quot;</td><td>1</td><td>1.287</td><td>&quot;early&quot;</td></tr><tr><td>1</td><td>1</td><td>1</td><td>&quot;WATER GUN&quot;</td><td>10</td><td>null</td><td>true</td><td>false</td><td>0</td><td>false</td><td>&quot;pure&quot;</td><td>&quot;obj&quot;</td><td>&quot;obj&quot;</td><td>1</td><td>0.839</td><td>&quot;middle&quot;</td></tr></tbody></table></div>"
      ],
      "text/plain": [
       "shape: (10, 16)\n",
       "┌─────────┬─────────┬──────┬────────────┬───┬──────────┬──────────┬───────────────┬────────────────┐\n",
       "│ subject ┆ session ┆ list ┆ item       ┆ … ┆ category ┆ response ┆ response_time ┆ serial_positio │\n",
       "│ ---     ┆ ---     ┆ ---  ┆ ---        ┆   ┆ ---      ┆ ---      ┆ ---           ┆ n              │\n",
       "│ i64     ┆ i64     ┆ i64  ┆ str        ┆   ┆ str      ┆ i64      ┆ f64           ┆ ---            │\n",
       "│         ┆         ┆      ┆            ┆   ┆          ┆          ┆               ┆ cat            │\n",
       "╞═════════╪═════════╪══════╪════════════╪═══╪══════════╪══════════╪═══════════════╪════════════════╡\n",
       "│ 1       ┆ 1       ┆ 1    ┆ TOWEL      ┆ … ┆ obj      ┆ 3        ┆ 1.517         ┆ early          │\n",
       "│ 1       ┆ 1       ┆ 1    ┆ LADLE      ┆ … ┆ obj      ┆ 3        ┆ 1.404         ┆ early          │\n",
       "│ 1       ┆ 1       ┆ 1    ┆ THERMOS    ┆ … ┆ obj      ┆ 3        ┆ 0.911         ┆ early          │\n",
       "│ 1       ┆ 1       ┆ 1    ┆ LEGO       ┆ … ┆ obj      ┆ 3        ┆ 0.883         ┆ early          │\n",
       "│ 1       ┆ 1       ┆ 1    ┆ BACKPACK   ┆ … ┆ obj      ┆ 3        ┆ 0.819         ┆ early          │\n",
       "│ 1       ┆ 1       ┆ 1    ┆ JACKHAMMER ┆ … ┆ obj      ┆ 1        ┆ 1.212         ┆ early          │\n",
       "│ 1       ┆ 1       ┆ 1    ┆ LANTERN    ┆ … ┆ obj      ┆ 2        ┆ 0.888         ┆ early          │\n",
       "│ 1       ┆ 1       ┆ 1    ┆ DOORKNOB   ┆ … ┆ obj      ┆ 3        ┆ 0.915         ┆ early          │\n",
       "│ 1       ┆ 1       ┆ 1    ┆ SHOVEL     ┆ … ┆ obj      ┆ 1        ┆ 1.287         ┆ early          │\n",
       "│ 1       ┆ 1       ┆ 1    ┆ WATER GUN  ┆ … ┆ obj      ┆ 1        ┆ 0.839         ┆ middle         │\n",
       "└─────────┴─────────┴──────┴────────────┴───┴──────────┴──────────┴───────────────┴────────────────┘"
      ]
     },
     "execution_count": 6,
     "metadata": {},
     "output_type": "execute_result"
    }
   ],
   "source": [
    "sp = data.with_columns(\n",
    "    serial_position=pl.col(\"input\").cut([9, 17], labels=[\"early\", \"middle\", \"late\"])\n",
    ")\n",
    "sp.head(10)"
   ]
  },
  {
   "cell_type": "markdown",
   "metadata": {},
   "source": [
    "Next, we calculate the mean for each subject and serial position group."
   ]
  },
  {
   "cell_type": "code",
   "execution_count": 7,
   "metadata": {},
   "outputs": [],
   "source": [
    "recency = (\n",
    "    sp.group_by(\"subject\", \"serial_position\")\n",
    "    .agg(pl.col(\"recall\").mean())\n",
    ")"
   ]
  },
  {
   "cell_type": "markdown",
   "metadata": {},
   "source": [
    "### Visualization\n",
    "\n",
    "Now we can visualize the effect of serial position on recall. Because serial position is an ordered variable, we'll use a line plot, which connects data points instead of a bar plot, which treats conditions as having no particular order."
   ]
  },
  {
   "cell_type": "code",
   "execution_count": 17,
   "metadata": {},
   "outputs": [
    {
     "data": {
      "image/png": "[encoded data removed]",
      "text/plain": [
       "<Figure size 500x500 with 1 Axes>"
      ]
     },
     "metadata": {},
     "output_type": "display_data"
    }
   ],
   "source": [
    "(\n",
    "    sns.relplot(data=recency, x=\"serial_position\", y=\"recall\", kind=\"line\")\n",
    "    .set(ylim=(0, 1), xlabel=\"Serial position\", ylabel=\"Recall probability\")\n",
    ");"
   ]
  },
  {
   "cell_type": "markdown",
   "metadata": {},
   "source": [
    "### Summary statistics\n",
    "\n",
    "We also calculate summary statistics, including the mean and SEM."
   ]
  },
  {
   "cell_type": "code",
   "execution_count": 9,
   "metadata": {},
   "outputs": [
    {
     "data": {
      "text/html": [
       "<div><style>\n",
       ".dataframe > thead > tr,\n",
       ".dataframe > tbody > tr {\n",
       "  text-align: right;\n",
       "  white-space: pre-wrap;\n",
       "}\n",
       "</style>\n",
       "<small>shape: (3, 3)</small><table border=\"1\" class=\"dataframe\"><thead><tr><th>serial_position</th><th>mean</th><th>sem</th></tr><tr><td>cat</td><td>f64</td><td>f64</td></tr></thead><tbody><tr><td>&quot;early&quot;</td><td>0.466146</td><td>0.073704</td></tr><tr><td>&quot;late&quot;</td><td>0.655208</td><td>0.103598</td></tr><tr><td>&quot;middle&quot;</td><td>0.452018</td><td>0.07147</td></tr></tbody></table></div>"
      ],
      "text/plain": [
       "shape: (3, 3)\n",
       "┌─────────────────┬──────────┬──────────┐\n",
       "│ serial_position ┆ mean     ┆ sem      │\n",
       "│ ---             ┆ ---      ┆ ---      │\n",
       "│ cat             ┆ f64      ┆ f64      │\n",
       "╞═════════════════╪══════════╪══════════╡\n",
       "│ early           ┆ 0.466146 ┆ 0.073704 │\n",
       "│ late            ┆ 0.655208 ┆ 0.103598 │\n",
       "│ middle          ┆ 0.452018 ┆ 0.07147  │\n",
       "└─────────────────┴──────────┴──────────┘"
      ]
     },
     "execution_count": 9,
     "metadata": {},
     "output_type": "execute_result"
    }
   ],
   "source": [
    "(\n",
    "    recency.group_by(\"serial_position\")\n",
    "    .agg(\n",
    "        mean=pl.col(\"recall\").mean(),\n",
    "        sem=pl.col(\"recall\").mean() / pl.col(\"recall\").len().sqrt(),\n",
    "    )\n",
    ")"
   ]
  },
  {
   "cell_type": "markdown",
   "metadata": {},
   "source": [
    "### Inferential statistics\n",
    "\n",
    "Finally, we test whether recall varies by serial position group. Because we have more than two groups, we have to use an ANOVA instead of a t-test."
   ]
  },
  {
   "cell_type": "code",
   "execution_count": 10,
   "metadata": {},
   "outputs": [
    {
     "data": {
      "text/html": [
       "<div>\n",
       "<style scoped>\n",
       "    .dataframe tbody tr th:only-of-type {\n",
       "        vertical-align: middle;\n",
       "    }\n",
       "\n",
       "    .dataframe tbody tr th {\n",
       "        vertical-align: top;\n",
       "    }\n",
       "\n",
       "    .dataframe thead th {\n",
       "        text-align: right;\n",
       "    }\n",
       "</style>\n",
       "<table border=\"1\" class=\"dataframe\">\n",
       "  <thead>\n",
       "    <tr style=\"text-align: right;\">\n",
       "      <th></th>\n",
       "      <th>Source</th>\n",
       "      <th>ddof1</th>\n",
       "      <th>ddof2</th>\n",
       "      <th>F</th>\n",
       "      <th>p-unc</th>\n",
       "      <th>ng2</th>\n",
       "      <th>eps</th>\n",
       "    </tr>\n",
       "  </thead>\n",
       "  <tbody>\n",
       "    <tr>\n",
       "      <th>0</th>\n",
       "      <td>serial_position</td>\n",
       "      <td>2</td>\n",
       "      <td>78</td>\n",
       "      <td>265.498022</td>\n",
       "      <td>1.554981e-35</td>\n",
       "      <td>0.490107</td>\n",
       "      <td>0.728722</td>\n",
       "    </tr>\n",
       "  </tbody>\n",
       "</table>\n",
       "</div>"
      ],
      "text/plain": [
       "            Source  ddof1  ddof2           F         p-unc       ng2       eps\n",
       "0  serial_position      2     78  265.498022  1.554981e-35  0.490107  0.728722"
      ]
     },
     "execution_count": 10,
     "metadata": {},
     "output_type": "execute_result"
    }
   ],
   "source": [
    "pg.rm_anova(data=recency.to_pandas(), dv=\"recall\", within=\"serial_position\", subject=\"subject\")"
   ]
  },
  {
   "cell_type": "markdown",
   "metadata": {},
   "source": [
    "### Results\n",
    "\n",
    "We can report our results with text like this:\n",
    "\n",
    "> We examined whether there was a difference in recall based on serial position group (early positions: 1-8; middle: 9-16; late: 17-24). Late serial positions were recalled best (mean=0.655, SEM=0.104), followed by early serial positions (mean=0.466, SEM=0.074), with the worst recall for middle positions (mean=0.452, SEM=0.071). A one-way repeated measures ANOVA found a significant effect of serial position group (F(2,78)=265.5, p=1.6x10^-35, ng2=0.49).\n",
    "\n",
    "This follows the same basic pattern as reporting a comparison of two conditions, but now we report the results of the ANOVA. The ANOVA has a different measure of effect size called general eta squared, which measures the size of the effect of serial position group on recall."
   ]
  },
  {
   "cell_type": "markdown",
   "metadata": {},
   "source": [
    "## Testing for an interaction between conditions\n",
    "\n",
    "Sometimes, the effect of one variable will depend on another variable. For example, someone's height does not usually correlate much with their income. But if you split people up by whether or not they are professional basketball players, you will find an *interaction*: height predicts income for professional basketball players, but not for non-basketball players."
   ]
  },
  {
   "cell_type": "markdown",
   "metadata": {},
   "source": [
    "### Calculating measures\n",
    "\n",
    "We will examine whether the relationship between category and recall depends on whether the list was pure (all the same category) or mixed (including 8 items from each of the 3 categories). First, we calculate the mean recall for each combination of conditions."
   ]
  },
  {
   "cell_type": "code",
   "execution_count": 13,
   "metadata": {},
   "outputs": [
    {
     "data": {
      "text/html": [
       "<div><style>\n",
       ".dataframe > thead > tr,\n",
       ".dataframe > tbody > tr {\n",
       "  text-align: right;\n",
       "  white-space: pre-wrap;\n",
       "}\n",
       "</style>\n",
       "<small>shape: (6, 4)</small><table border=\"1\" class=\"dataframe\"><thead><tr><th>subject</th><th>list_type</th><th>category</th><th>recall</th></tr><tr><td>i64</td><td>str</td><td>str</td><td>f64</td></tr></thead><tbody><tr><td>1</td><td>&quot;mixed&quot;</td><td>&quot;cel&quot;</td><td>0.5875</td></tr><tr><td>1</td><td>&quot;mixed&quot;</td><td>&quot;loc&quot;</td><td>0.433333</td></tr><tr><td>1</td><td>&quot;mixed&quot;</td><td>&quot;obj&quot;</td><td>0.408333</td></tr><tr><td>1</td><td>&quot;pure&quot;</td><td>&quot;cel&quot;</td><td>0.625</td></tr><tr><td>1</td><td>&quot;pure&quot;</td><td>&quot;loc&quot;</td><td>0.5625</td></tr><tr><td>1</td><td>&quot;pure&quot;</td><td>&quot;obj&quot;</td><td>0.506944</td></tr></tbody></table></div>"
      ],
      "text/plain": [
       "shape: (6, 4)\n",
       "┌─────────┬───────────┬──────────┬──────────┐\n",
       "│ subject ┆ list_type ┆ category ┆ recall   │\n",
       "│ ---     ┆ ---       ┆ ---      ┆ ---      │\n",
       "│ i64     ┆ str       ┆ str      ┆ f64      │\n",
       "╞═════════╪═══════════╪══════════╪══════════╡\n",
       "│ 1       ┆ mixed     ┆ cel      ┆ 0.5875   │\n",
       "│ 1       ┆ mixed     ┆ loc      ┆ 0.433333 │\n",
       "│ 1       ┆ mixed     ┆ obj      ┆ 0.408333 │\n",
       "│ 1       ┆ pure      ┆ cel      ┆ 0.625    │\n",
       "│ 1       ┆ pure      ┆ loc      ┆ 0.5625   │\n",
       "│ 1       ┆ pure      ┆ obj      ┆ 0.506944 │\n",
       "└─────────┴───────────┴──────────┴──────────┘"
      ]
     },
     "execution_count": 13,
     "metadata": {},
     "output_type": "execute_result"
    }
   ],
   "source": [
    "lt_cat = (\n",
    "    data.group_by(\"subject\", \"list_type\", \"category\")\n",
    "    .agg(pl.col(\"recall\").mean())\n",
    "    .sort(\"subject\", \"list_type\", \"category\")\n",
    ")\n",
    "lt_cat.head(6)"
   ]
  },
  {
   "cell_type": "markdown",
   "metadata": {},
   "source": [
    "### Visualization\n",
    "\n",
    "We can visualize how recall varies with list type and category using a bar plot that uses a different hue for each category."
   ]
  },
  {
   "cell_type": "code",
   "execution_count": 21,
   "metadata": {},
   "outputs": [
    {
     "data": {
      "image/png": "[encoded data removed]",
      "text/plain": [
       "<Figure size 622.875x500 with 1 Axes>"
      ]
     },
     "metadata": {},
     "output_type": "display_data"
    }
   ],
   "source": [
    "(\n",
    "    sns.catplot(lt_cat, x=\"list_type\", y=\"recall\", hue=\"category\", kind=\"bar\", palette=\"colorblind\")\n",
    "    .set_axis_labels(\"List type\", \"Recall probability\")\n",
    ");"
   ]
  },
  {
   "cell_type": "markdown",
   "metadata": {},
   "source": [
    "### Summary statistics\n",
    "\n",
    "We also calculate summary statistics, including mean and SEM."
   ]
  },
  {
   "cell_type": "code",
   "execution_count": 23,
   "metadata": {},
   "outputs": [
    {
     "data": {
      "text/html": [
       "<div><style>\n",
       ".dataframe > thead > tr,\n",
       ".dataframe > tbody > tr {\n",
       "  text-align: right;\n",
       "  white-space: pre-wrap;\n",
       "}\n",
       "</style>\n",
       "<small>shape: (6, 4)</small><table border=\"1\" class=\"dataframe\"><thead><tr><th>list_type</th><th>category</th><th>mean</th><th>sem</th></tr><tr><td>str</td><td>str</td><td>f64</td><td>f64</td></tr></thead><tbody><tr><td>&quot;mixed&quot;</td><td>&quot;cel&quot;</td><td>0.567604</td><td>0.014506</td></tr><tr><td>&quot;mixed&quot;</td><td>&quot;loc&quot;</td><td>0.516771</td><td>0.01691</td></tr><tr><td>&quot;mixed&quot;</td><td>&quot;obj&quot;</td><td>0.457917</td><td>0.020252</td></tr><tr><td>&quot;pure&quot;</td><td>&quot;cel&quot;</td><td>0.516319</td><td>0.013552</td></tr><tr><td>&quot;pure&quot;</td><td>&quot;loc&quot;</td><td>0.518403</td><td>0.016545</td></tr><tr><td>&quot;pure&quot;</td><td>&quot;obj&quot;</td><td>0.527431</td><td>0.017991</td></tr></tbody></table></div>"
      ],
      "text/plain": [
       "shape: (6, 4)\n",
       "┌───────────┬──────────┬──────────┬──────────┐\n",
       "│ list_type ┆ category ┆ mean     ┆ sem      │\n",
       "│ ---       ┆ ---      ┆ ---      ┆ ---      │\n",
       "│ str       ┆ str      ┆ f64      ┆ f64      │\n",
       "╞═══════════╪══════════╪══════════╪══════════╡\n",
       "│ mixed     ┆ cel      ┆ 0.567604 ┆ 0.014506 │\n",
       "│ mixed     ┆ loc      ┆ 0.516771 ┆ 0.01691  │\n",
       "│ mixed     ┆ obj      ┆ 0.457917 ┆ 0.020252 │\n",
       "│ pure      ┆ cel      ┆ 0.516319 ┆ 0.013552 │\n",
       "│ pure      ┆ loc      ┆ 0.518403 ┆ 0.016545 │\n",
       "│ pure      ┆ obj      ┆ 0.527431 ┆ 0.017991 │\n",
       "└───────────┴──────────┴──────────┴──────────┘"
      ]
     },
     "execution_count": 23,
     "metadata": {},
     "output_type": "execute_result"
    }
   ],
   "source": [
    "(\n",
    "    lt_cat.group_by(\"list_type\", \"category\")\n",
    "    .agg(\n",
    "        mean=pl.col(\"recall\").mean(),\n",
    "        sem=pl.col(\"recall\").std() / pl.col(\"recall\").len().sqrt(),\n",
    "    )\n",
    "    .sort(\"list_type\", \"category\")\n",
    ")"
   ]
  },
  {
   "cell_type": "markdown",
   "metadata": {},
   "source": [
    "### Inferential statistics\n",
    "\n",
    "To test whether list type and category, or some combination of list type and category, affects recall, we can use a two-way ANOVA. If there is a significant list type x category interaction, that means that the effect of category depends on list type (and vice-versa).\n",
    "\n",
    "Because the list type and category variables are within-subject variables, we calculate a *repeated-measures ANOVA* using the `rm_anova` function from Pingouin. This function does not yet support Polars DataFrames, so we must first convert to Pandas format using `to_pandas`."
   ]
  },
  {
   "cell_type": "code",
   "execution_count": 27,
   "metadata": {},
   "outputs": [
    {
     "name": "stderr",
     "output_type": "stream",
     "text": [
      "/Users/morton/VS Code/datascipsych/.venv/lib/python3.12/site-packages/pingouin/distribution.py:507: FutureWarning: DataFrame.groupby with axis=1 is deprecated. Do `frame.T.groupby(...)` without axis instead.\n",
      "  data.groupby(level=1, axis=1, observed=True, group_keys=False)\n",
      "/Users/morton/VS Code/datascipsych/.venv/lib/python3.12/site-packages/pingouin/distribution.py:508: FutureWarning: DataFrameGroupBy.diff with axis=1 is deprecated and will be removed in a future version. Operate on the un-grouped DataFrame instead\n",
      "  .diff(axis=1)\n"
     ]
    },
    {
     "data": {
      "text/html": [
       "<div>\n",
       "<style scoped>\n",
       "    .dataframe tbody tr th:only-of-type {\n",
       "        vertical-align: middle;\n",
       "    }\n",
       "\n",
       "    .dataframe tbody tr th {\n",
       "        vertical-align: top;\n",
       "    }\n",
       "\n",
       "    .dataframe thead th {\n",
       "        text-align: right;\n",
       "    }\n",
       "</style>\n",
       "<table border=\"1\" class=\"dataframe\">\n",
       "  <thead>\n",
       "    <tr style=\"text-align: right;\">\n",
       "      <th></th>\n",
       "      <th>Source</th>\n",
       "      <th>SS</th>\n",
       "      <th>ddof1</th>\n",
       "      <th>ddof2</th>\n",
       "      <th>MS</th>\n",
       "      <th>F</th>\n",
       "      <th>p-unc</th>\n",
       "      <th>p-GG-corr</th>\n",
       "      <th>ng2</th>\n",
       "      <th>eps</th>\n",
       "    </tr>\n",
       "  </thead>\n",
       "  <tbody>\n",
       "    <tr>\n",
       "      <th>0</th>\n",
       "      <td>list_type</td>\n",
       "      <td>0.002630</td>\n",
       "      <td>1</td>\n",
       "      <td>39</td>\n",
       "      <td>0.002630</td>\n",
       "      <td>0.995022</td>\n",
       "      <td>3.246672e-01</td>\n",
       "      <td>3.246672e-01</td>\n",
       "      <td>0.000998</td>\n",
       "      <td>1.000000</td>\n",
       "    </tr>\n",
       "    <tr>\n",
       "      <th>1</th>\n",
       "      <td>category</td>\n",
       "      <td>0.097177</td>\n",
       "      <td>2</td>\n",
       "      <td>78</td>\n",
       "      <td>0.048588</td>\n",
       "      <td>6.690909</td>\n",
       "      <td>2.080452e-03</td>\n",
       "      <td>3.945953e-03</td>\n",
       "      <td>0.035599</td>\n",
       "      <td>0.828202</td>\n",
       "    </tr>\n",
       "    <tr>\n",
       "      <th>2</th>\n",
       "      <td>list_type * category</td>\n",
       "      <td>0.146670</td>\n",
       "      <td>2</td>\n",
       "      <td>78</td>\n",
       "      <td>0.073335</td>\n",
       "      <td>49.788702</td>\n",
       "      <td>1.162971e-14</td>\n",
       "      <td>2.748265e-14</td>\n",
       "      <td>0.052772</td>\n",
       "      <td>0.969714</td>\n",
       "    </tr>\n",
       "  </tbody>\n",
       "</table>\n",
       "</div>"
      ],
      "text/plain": [
       "                 Source        SS  ddof1  ddof2        MS          F  \\\n",
       "0             list_type  0.002630      1     39  0.002630   0.995022   \n",
       "1              category  0.097177      2     78  0.048588   6.690909   \n",
       "2  list_type * category  0.146670      2     78  0.073335  49.788702   \n",
       "\n",
       "          p-unc     p-GG-corr       ng2       eps  \n",
       "0  3.246672e-01  3.246672e-01  0.000998  1.000000  \n",
       "1  2.080452e-03  3.945953e-03  0.035599  0.828202  \n",
       "2  1.162971e-14  2.748265e-14  0.052772  0.969714  "
      ]
     },
     "execution_count": 27,
     "metadata": {},
     "output_type": "execute_result"
    }
   ],
   "source": [
    "df = lt_cat.to_pandas()\n",
    "pg.rm_anova(df, dv=\"recall\", within=[\"list_type\", \"category\"], subject=\"subject\")"
   ]
  },
  {
   "cell_type": "markdown",
   "metadata": {},
   "source": [
    "These results show that there is not a significant main effect of list type. There is a main effect of category. As we can tell from the bar plot, there is a large interaction effect, where category affects recall on mixed lists much more than on pure lists."
   ]
  },
  {
   "cell_type": "markdown",
   "metadata": {},
   "source": [
    "### Results\n",
    "\n",
    "We can report our results using text like this:\n",
    "\n",
    "> We examined whether recall varies based on list type and category using a two-way repeated-measures ANOVA with a Greenhouse-Geisser correction for non-sphericity. We found that recall varied between categories on the mixed lists, with the best recall for celebrities (mean=0.568, SEM=0.015), followed by locations (mean=0.517, SEM=0.017), then objects (mean=0.458, SEM=0.020). On pure lists, recall was similar for the different categories, with the greatest recall for objects (mean=0.527, SEM=0.018), followed by locations (mean=0.518, SEM=0.017), then celebrities (mean=0.516, SEM=0.014). There was no main effect of list type (F(1,39)=1.00, p=0.33, ng2=0.001). There was a main effect of category (F(2,78)=6.69, p=0.004, ng2=0.036). There was also a significant interaction between list type and category (F(2,78)=49.8, p=2.8x10^-14, ng2=0.053).\n",
    "\n",
    "The Greenhouse-Geisser correction is used to avoid an assumption of standard ANOVAs that different conditions will be equally correlated with one another. In this case, the three categories may not be equally correlated, and the `p-GG-corr` column has a p-value that is corrected for this possibility."
   ]
  },
  {
   "cell_type": "markdown",
   "metadata": {},
   "source": [
    "## Correlating measures\n",
    "\n",
    "Sometimes we have two measures that may or may not be related, and we want to examine how they *co-vary* with each other. For example, we might want to know whether differences in education tend to correlate with differences in income, or whether short-term memory capacity is related to IQ. We cannot use statistics to determine whether two variables are *causally* related, but we can check to see if they are at least *correlated*."
   ]
  },
  {
   "cell_type": "markdown",
   "metadata": {},
   "source": [
    "### Calculating measures\n",
    "\n",
    "During the study period, participants had to make a judgment about each item when it appeared. They were asked to make a different rating depending on whether the item was a celebrity (\"how much do you love or hate this person?\"), a famous landmark (\"how much would you like to visit this place?\"), or an object (\"how often do you encounter this object in your daily life?\"). Say that we think participants who take longer to make responses might be processing the items more deeply, and therefore end up having better memory for those items. If our hypothesis is correct, then response time should be correlated with recall."
   ]
  },
  {
   "cell_type": "markdown",
   "metadata": {},
   "source": [
    "To test our hypothesis, let's get the mean recall and mean response time for each subject."
   ]
  },
  {
   "cell_type": "code",
   "execution_count": 30,
   "metadata": {},
   "outputs": [
    {
     "data": {
      "text/html": [
       "<div><style>\n",
       ".dataframe > thead > tr,\n",
       ".dataframe > tbody > tr {\n",
       "  text-align: right;\n",
       "  white-space: pre-wrap;\n",
       "}\n",
       "</style>\n",
       "<small>shape: (5, 3)</small><table border=\"1\" class=\"dataframe\"><thead><tr><th>subject</th><th>recall</th><th>response_time</th></tr><tr><td>i64</td><td>f64</td><td>f64</td></tr></thead><tbody><tr><td>1</td><td>0.509549</td><td>0.792333</td></tr><tr><td>2</td><td>0.552083</td><td>1.659799</td></tr><tr><td>3</td><td>0.480903</td><td>1.536678</td></tr><tr><td>4</td><td>0.547743</td><td>1.67389</td></tr><tr><td>5</td><td>0.6484375</td><td>2.307194</td></tr></tbody></table></div>"
      ],
      "text/plain": [
       "shape: (5, 3)\n",
       "┌─────────┬───────────┬───────────────┐\n",
       "│ subject ┆ recall    ┆ response_time │\n",
       "│ ---     ┆ ---       ┆ ---           │\n",
       "│ i64     ┆ f64       ┆ f64           │\n",
       "╞═════════╪═══════════╪═══════════════╡\n",
       "│ 1       ┆ 0.509549  ┆ 0.792333      │\n",
       "│ 2       ┆ 0.552083  ┆ 1.659799      │\n",
       "│ 3       ┆ 0.480903  ┆ 1.536678      │\n",
       "│ 4       ┆ 0.547743  ┆ 1.67389       │\n",
       "│ 5       ┆ 0.6484375 ┆ 2.307194      │\n",
       "└─────────┴───────────┴───────────────┘"
      ]
     },
     "execution_count": 30,
     "metadata": {},
     "output_type": "execute_result"
    }
   ],
   "source": [
    "indiv = (\n",
    "    data.group_by(\"subject\")\n",
    "    .agg(\n",
    "        pl.col(\"recall\").mean(),\n",
    "        pl.col(\"response_time\").mean(),\n",
    "    )\n",
    "    .sort(\"subject\")\n",
    ")\n",
    "indiv.head()"
   ]
  },
  {
   "cell_type": "markdown",
   "metadata": {},
   "source": [
    "### Visualization\n",
    "\n",
    "We can use a scatter plot to visualize the relationship between response time and recall, along with a fit to a linear model, using `lmplot`."
   ]
  },
  {
   "cell_type": "code",
   "execution_count": 34,
   "metadata": {},
   "outputs": [
    {
     "data": {
      "text/plain": [
       "<seaborn.axisgrid.FacetGrid at 0x12eab6510>"
      ]
     },
     "execution_count": 34,
     "metadata": {},
     "output_type": "execute_result"
    },
    {
     "data": {
      "image/png": "[encoded data removed]",
      "text/plain": [
       "<Figure size 500x500 with 1 Axes>"
      ]
     },
     "metadata": {},
     "output_type": "display_data"
    }
   ],
   "source": [
    "(\n",
    "    sns.lmplot(indiv, x=\"response_time\", y=\"recall\")\n",
    "    .set_axis_labels(\"Response time (s)\", \"Recall probability\")\n",
    ")"
   ]
  },
  {
   "cell_type": "markdown",
   "metadata": {},
   "source": [
    "It seems like there might be a slight positive correlation. But is it real, or just due to chance?"
   ]
  },
  {
   "cell_type": "markdown",
   "metadata": {},
   "source": [
    "### Inferential statistics\n",
    "\n",
    "We can calculate a correlation to measure the strength of relationship between two variables. The p-value will estimate the probability of having observed a relationship at least this strong due to chance."
   ]
  },
  {
   "cell_type": "code",
   "execution_count": 32,
   "metadata": {},
   "outputs": [
    {
     "data": {
      "text/html": [
       "<div>\n",
       "<style scoped>\n",
       "    .dataframe tbody tr th:only-of-type {\n",
       "        vertical-align: middle;\n",
       "    }\n",
       "\n",
       "    .dataframe tbody tr th {\n",
       "        vertical-align: top;\n",
       "    }\n",
       "\n",
       "    .dataframe thead th {\n",
       "        text-align: right;\n",
       "    }\n",
       "</style>\n",
       "<table border=\"1\" class=\"dataframe\">\n",
       "  <thead>\n",
       "    <tr style=\"text-align: right;\">\n",
       "      <th></th>\n",
       "      <th>n</th>\n",
       "      <th>r</th>\n",
       "      <th>CI95%</th>\n",
       "      <th>p-val</th>\n",
       "      <th>BF10</th>\n",
       "      <th>power</th>\n",
       "    </tr>\n",
       "  </thead>\n",
       "  <tbody>\n",
       "    <tr>\n",
       "      <th>pearson</th>\n",
       "      <td>40</td>\n",
       "      <td>0.253136</td>\n",
       "      <td>[-0.06, 0.52]</td>\n",
       "      <td>0.115026</td>\n",
       "      <td>0.653</td>\n",
       "      <td>0.356031</td>\n",
       "    </tr>\n",
       "  </tbody>\n",
       "</table>\n",
       "</div>"
      ],
      "text/plain": [
       "          n         r          CI95%     p-val   BF10     power\n",
       "pearson  40  0.253136  [-0.06, 0.52]  0.115026  0.653  0.356031"
      ]
     },
     "execution_count": 32,
     "metadata": {},
     "output_type": "execute_result"
    }
   ],
   "source": [
    "pg.corr(indiv[\"response_time\"], indiv[\"recall\"])"
   ]
  },
  {
   "cell_type": "markdown",
   "metadata": {},
   "source": [
    "We find that p is greater than 0.05 and conclude that we cannot reject the null hypothesis that the relationship is due to chance."
   ]
  },
  {
   "cell_type": "markdown",
   "metadata": {},
   "source": [
    "### Results\n",
    "\n",
    "We can use the following text to report our results:\n",
    "\n",
    "> We examined whether response time on the encoding task was related to subsequent recall probability. We found that there was not a significant correlation (r=0.253, p=0.12)."
   ]
  },
  {
   "cell_type": "markdown",
   "metadata": {},
   "source": [
    "## Summary\n",
    "\n",
    "We demonstrated different kinds of common analyses and how they should be reported.\n",
    "\n",
    "t-test\n",
    ": compare two conditions\n",
    "\n",
    "One-way ANOVA\n",
    ": compare three or more conditions\n",
    "\n",
    "Two-way ANOVA\n",
    ": test for an interaction between two variables\n",
    "\n",
    "Correlation\n",
    ": test whether two variables co-vary\n",
    "\n",
    "Each type of analysis involves calculating the measure(s) of interest, visualizing the results, calculating summary statistics, and calculating inferential statistics. Finally, this information is put together to write a report of the results."
   ]
  }
 ],
 "metadata": {
  "kernelspec": {
   "display_name": "datascipsych",
   "language": "python",
   "name": "datascipsych"
  },
  "language_info": {
   "codemirror_mode": {
    "name": "ipython",
    "version": 3
   },
   "file_extension": ".py",
   "mimetype": "text/x-python",
   "name": "python",
   "nbconvert_exporter": "python",
   "pygments_lexer": "ipython3",
   "version": "3.12.8"
  }
 },
 "nbformat": 4,
 "nbformat_minor": 2
}
