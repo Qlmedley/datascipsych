{
 "cells": [
  {
   "cell_type": "markdown",
   "metadata": {},
   "source": [
    "# Project Iteration\n",
    "\n",
    "Real code projects change over time as developers add features, refactor code to improve organization, and write tests to make sure their code is working as intended. These iterative changes can make the difference between projects delivering reliable results or being abandoned."
   ]
  },
  {
   "cell_type": "markdown",
   "metadata": {},
   "source": [
    "## Python scripts"
   ]
  },
  {
   "cell_type": "markdown",
   "metadata": {},
   "source": [
    "## Using unit tests to ensure code correctness"
   ]
  },
  {
   "cell_type": "markdown",
   "metadata": {},
   "source": [
    "## Sharing Python packages\n",
    "\n",
    "Python packages can be shared with others through PyPI and GitHub. Both methods make it possible for others to install your package using Pip."
   ]
  },
  {
   "cell_type": "markdown",
   "metadata": {},
   "source": [
    "### Sharing through the Python Package Index\n",
    "\n",
    "Python packages can be published to the official Python Package Index (PyPI) to make them easily accessible to users. Packages hosted there can be installed by just running `pip install [packagename]`, where `[packagename]` is the name of your package. For example, my package for analysis of free-recall data, Psifr, can be installed by running `pip install psifr`. If you have followed the directions in this course for setting up an installable package with a `pyproject.toml` file, you have already done most of the work necessary to host a package on PyPI. See the [Python Packaging User Guide](https://packaging.python.org/en/latest/tutorials/packaging-projects/) for details."
   ]
  },
  {
   "cell_type": "markdown",
   "metadata": {},
   "source": [
    "### Sharing through GitHub\n",
    "\n",
    "Users can also install packages from GitHub. For example, to install Psifr from the latest code on GitHub:\n",
    "\n",
    "```bash\n",
    "pip install git+https://github.com/mortonne/psifr\n",
    "```"
   ]
  },
  {
   "cell_type": "markdown",
   "metadata": {},
   "source": [
    "Running the command above makes it so we can now run code from modules in the Psifr package. For example, this code will load some sample data and convert it to a Polars DataFrame. After installing Psifr, uncomment the code to run it. In Visual Studio Code, you can uncomment a block of code by highlighting the code and running `Edit > Toggle Line Comment`."
   ]
  },
  {
   "cell_type": "code",
   "execution_count": null,
   "metadata": {},
   "outputs": [
    {
     "data": {
      "text/html": [
       "<div><style>\n",
       ".dataframe > thead > tr,\n",
       ".dataframe > tbody > tr {\n",
       "  text-align: right;\n",
       "  white-space: pre-wrap;\n",
       "}\n",
       "</style>\n",
       "<small>shape: (5, 11)</small><table border=\"1\" class=\"dataframe\"><thead><tr><th>subject</th><th>list</th><th>item</th><th>input</th><th>output</th><th>study</th><th>recall</th><th>repeat</th><th>intrusion</th><th>prior_list</th><th>prior_input</th></tr><tr><td>i64</td><td>i64</td><td>str</td><td>f64</td><td>f64</td><td>bool</td><td>bool</td><td>i64</td><td>bool</td><td>f64</td><td>f64</td></tr></thead><tbody><tr><td>1</td><td>1</td><td>&quot;TOWEL&quot;</td><td>1.0</td><td>13.0</td><td>true</td><td>true</td><td>0</td><td>false</td><td>null</td><td>null</td></tr><tr><td>1</td><td>1</td><td>&quot;LADLE&quot;</td><td>2.0</td><td>null</td><td>true</td><td>false</td><td>0</td><td>false</td><td>null</td><td>null</td></tr><tr><td>1</td><td>1</td><td>&quot;THERMOS&quot;</td><td>3.0</td><td>null</td><td>true</td><td>false</td><td>0</td><td>false</td><td>null</td><td>null</td></tr><tr><td>1</td><td>1</td><td>&quot;LEGO&quot;</td><td>4.0</td><td>18.0</td><td>true</td><td>true</td><td>0</td><td>false</td><td>null</td><td>null</td></tr><tr><td>1</td><td>1</td><td>&quot;BACKPACK&quot;</td><td>5.0</td><td>10.0</td><td>true</td><td>true</td><td>0</td><td>false</td><td>null</td><td>null</td></tr></tbody></table></div>"
      ],
      "text/plain": [
       "shape: (5, 11)\n",
       "┌─────────┬──────┬──────────┬───────┬───┬────────┬───────────┬────────────┬─────────────┐\n",
       "│ subject ┆ list ┆ item     ┆ input ┆ … ┆ repeat ┆ intrusion ┆ prior_list ┆ prior_input │\n",
       "│ ---     ┆ ---  ┆ ---      ┆ ---   ┆   ┆ ---    ┆ ---       ┆ ---        ┆ ---         │\n",
       "│ i64     ┆ i64  ┆ str      ┆ f64   ┆   ┆ i64    ┆ bool      ┆ f64        ┆ f64         │\n",
       "╞═════════╪══════╪══════════╪═══════╪═══╪════════╪═══════════╪════════════╪═════════════╡\n",
       "│ 1       ┆ 1    ┆ TOWEL    ┆ 1.0   ┆ … ┆ 0      ┆ false     ┆ null       ┆ null        │\n",
       "│ 1       ┆ 1    ┆ LADLE    ┆ 2.0   ┆ … ┆ 0      ┆ false     ┆ null       ┆ null        │\n",
       "│ 1       ┆ 1    ┆ THERMOS  ┆ 3.0   ┆ … ┆ 0      ┆ false     ┆ null       ┆ null        │\n",
       "│ 1       ┆ 1    ┆ LEGO     ┆ 4.0   ┆ … ┆ 0      ┆ false     ┆ null       ┆ null        │\n",
       "│ 1       ┆ 1    ┆ BACKPACK ┆ 5.0   ┆ … ┆ 0      ┆ false     ┆ null       ┆ null        │\n",
       "└─────────┴──────┴──────────┴───────┴───┴────────┴───────────┴────────────┴─────────────┘"
      ]
     },
     "execution_count": 5,
     "metadata": {},
     "output_type": "execute_result"
    }
   ],
   "source": [
    "# import polars as pl\n",
    "# from psifr import fr\n",
    "# df = fr.sample_data(\"Morton2013\")\n",
    "# data = pl.DataFrame(fr.merge_free_recall(df))\n",
    "# data.head()"
   ]
  },
  {
   "cell_type": "markdown",
   "metadata": {},
   "source": [
    "See the Pip documentation page on [VCS support](https://pip.pypa.io/en/stable/topics/vcs-support/) for details."
   ]
  },
  {
   "cell_type": "markdown",
   "metadata": {},
   "source": [
    "## Sharing Jupyter notebooks"
   ]
  },
  {
   "cell_type": "markdown",
   "metadata": {},
   "source": [
    "## Soliciting bug reports and improvements"
   ]
  }
 ],
 "metadata": {
  "kernelspec": {
   "display_name": "datascipsych",
   "language": "python",
   "name": "datascipsych"
  },
  "language_info": {
   "codemirror_mode": {
    "name": "ipython",
    "version": 3
   },
   "file_extension": ".py",
   "mimetype": "text/x-python",
   "name": "python",
   "nbconvert_exporter": "python",
   "pygments_lexer": "ipython3",
   "version": "3.12.10"
  }
 },
 "nbformat": 4,
 "nbformat_minor": 2
}
