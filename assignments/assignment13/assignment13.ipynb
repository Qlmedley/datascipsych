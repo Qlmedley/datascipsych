{
 "cells": [
  {
   "cell_type": "markdown",
   "id": "23cabc7a",
   "metadata": {},
   "source": [
    "# Assignment 13 draft (NOT FINALIZED)\n",
    "\n",
    "Please fill in blanks in the *Answer* sections of this notebook. To check your answer for a problem, run the Setup, Answer, and Result sections. DO NOT MODIFY SETUP OR RESULT CELLS. See the [README](https://github.com/mortonne/datascipsych) for instructions on setting up a Python environment to run this notebook.\n",
    "\n",
    "Write your answers for each problem. Then restart the kernel, run all cells, and then save the notebook. Upload your notebook to Canvas.\n",
    "\n",
    "If you get stuck, read through the other notebooks in this directory, ask us for help in class, or ask other students for help in class or on the weekly discussion board."
   ]
  },
  {
   "cell_type": "markdown",
   "id": "ddb2c661",
   "metadata": {},
   "source": [
    "## Problem: code style (2 points)\n",
    "\n",
    "Change the following code to meet the guidelines described in the [Coding Best Practices](https://mortonne.github.io/datascipsych/assignments/assignment13/coding_best_practices.html#use-consistent-code-style) lecture. Edit the code in the Modified section.\n",
    "\n",
    "### Standardize import statements (1 point)\n",
    "\n",
    "Move the import statements to the top of the code cell (0.5 points) and use standard names for each of the packages (0.5 points).\n",
    "\n",
    "### Apply Black formatting (1 point)\n",
    "\n",
    "Apply Black-style formatting to the code."
   ]
  },
  {
   "cell_type": "markdown",
   "id": "024d2cb2",
   "metadata": {},
   "source": [
    "### Original"
   ]
  },
  {
   "cell_type": "code",
   "execution_count": 1,
   "id": "3586a51d",
   "metadata": {},
   "outputs": [],
   "source": [
    "from datascipsych import datasets\n",
    "file = datasets.get_dataset_file('Osth2019')\n",
    "\n",
    "import polars as pl\n",
    "data = pl.read_csv( file )\n",
    "targets = data.filter(pl.col(\"type\") == \"intact\").group_by(\"subj\").agg(pl.col(\"response\").mean())\n",
    "import numpy as N\n",
    "x = N.arange(10)\n",
    "y = N.sum(x)"
   ]
  },
  {
   "cell_type": "markdown",
   "id": "cd7adc7f",
   "metadata": {},
   "source": [
    "### Modified"
   ]
  },
  {
   "cell_type": "code",
   "execution_count": 2,
   "id": "7cab4c51",
   "metadata": {},
   "outputs": [],
   "source": [
    "# your modified version of the code here"
   ]
  },
  {
   "cell_type": "markdown",
   "id": "a1d43b15",
   "metadata": {},
   "source": [
    "## Problem: variable names (2 points)\n",
    "\n",
    "The code below uses very generic variable names that are not very informative. Rename the variables to describe what they refer to. There isn't a specific right answer, but try to choose names that are descriptive but not too long."
   ]
  },
  {
   "cell_type": "markdown",
   "id": "78e60704",
   "metadata": {},
   "source": [
    "### Original"
   ]
  },
  {
   "cell_type": "code",
   "execution_count": 3,
   "id": "f8eeeca0",
   "metadata": {},
   "outputs": [],
   "source": [
    "import polars as pl\n",
    "from datascipsych import datasets\n",
    "\n",
    "a = datasets.get_dataset_file(\"Osth2019\")\n",
    "b = datasets.clean_osth(pl.read_csv(a))\n",
    "c = b.filter(pl.col(\"phase\") == \"test\")\n",
    "d = c.drop_nulls().group_by(\"response\").agg(pl.col(\"RT\").mean())"
   ]
  },
  {
   "cell_type": "markdown",
   "id": "e327ed46",
   "metadata": {},
   "source": [
    "### Modified"
   ]
  },
  {
   "cell_type": "code",
   "execution_count": 4,
   "id": "29a01bb1",
   "metadata": {},
   "outputs": [],
   "source": [
    "# your modified version of the code here"
   ]
  },
  {
   "cell_type": "markdown",
   "id": "5e766e75",
   "metadata": {},
   "source": [
    "## Problem: code comments (2 points)\n",
    "\n",
    "The code below has good variable names, but could still use a little clarification. Add one comment to describe what is happening in each of the two code blocks."
   ]
  },
  {
   "cell_type": "markdown",
   "id": "3826bf7b",
   "metadata": {},
   "source": [
    "### Original"
   ]
  },
  {
   "cell_type": "code",
   "execution_count": 5,
   "id": "9ff42d31",
   "metadata": {},
   "outputs": [],
   "source": [
    "import numpy as np\n",
    "\n",
    "trial_number = np.array([1, 2, 3, 4, 5, 6])\n",
    "trial_type = np.array([\"target\", \"lure\", \"lure\", \"lure\", \"target\", \"target\"])\n",
    "old_response = np.array([1, 0, 1, 0, 0, 1])\n",
    "\n",
    "hit_rate = np.mean(old_response[trial_type == \"target\"])\n",
    "false_alarm_rate = np.mean(old_response[trial_type == \"lure\"])"
   ]
  },
  {
   "cell_type": "markdown",
   "id": "76796545",
   "metadata": {},
   "source": [
    "### Modified"
   ]
  },
  {
   "cell_type": "code",
   "execution_count": 6,
   "id": "52eb460f",
   "metadata": {},
   "outputs": [],
   "source": [
    "# your modified version of the code here"
   ]
  },
  {
   "cell_type": "markdown",
   "id": "bf1b51ea",
   "metadata": {},
   "source": [
    "## Problem: using loops (2 points)\n",
    "\n",
    "The code below reads in CSV files for each subject, calculates the total number of correct trials for that subject, and then adds the correct trials across subjects.\n",
    "\n",
    "Change the code to calculate the same sum using a `for` loop instead."
   ]
  },
  {
   "cell_type": "markdown",
   "id": "4b5fe5c5",
   "metadata": {},
   "source": [
    "### Original"
   ]
  },
  {
   "cell_type": "code",
   "execution_count": 7,
   "id": "c7857001",
   "metadata": {},
   "outputs": [
    {
     "name": "stdout",
     "output_type": "stream",
     "text": [
      "48\n"
     ]
    }
   ],
   "source": [
    "import polars as pl\n",
    "\n",
    "n1 = pl.read_csv(\"data/sub-01_beh.csv\")[\"correct\"].sum()\n",
    "n2 = pl.read_csv(\"data/sub-02_beh.csv\")[\"correct\"].sum()\n",
    "n3 = pl.read_csv(\"data/sub-03_beh.csv\")[\"correct\"].sum()\n",
    "n4 = pl.read_csv(\"data/sub-04_beh.csv\")[\"correct\"].sum()\n",
    "n5 = pl.read_csv(\"data/sub-05_beh.csv\")[\"correct\"].sum()\n",
    "n6 = pl.read_csv(\"data/sub-06_beh.csv\")[\"correct\"].sum()\n",
    "n7 = pl.read_csv(\"data/sub-07_beh.csv\")[\"correct\"].sum()\n",
    "n8 = pl.read_csv(\"data/sub-08_beh.csv\")[\"correct\"].sum()\n",
    "total = n1 + n2 + n3 + n4 + n5 + n6 + n7 + n8\n",
    "print(total)"
   ]
  },
  {
   "cell_type": "markdown",
   "id": "a86ee237",
   "metadata": {},
   "source": [
    "### Modified"
   ]
  },
  {
   "cell_type": "code",
   "execution_count": 8,
   "id": "f6ee2a86",
   "metadata": {},
   "outputs": [],
   "source": [
    "# your modified version of the code here"
   ]
  },
  {
   "cell_type": "markdown",
   "id": "4e22e3e9",
   "metadata": {},
   "source": [
    "## Problem: using functions (2 points)\n",
    "\n",
    "The code in the Original section uses a Polars expression to calculate mean and SEM for conditions in two DataFrames. Write two functions called `mean_expr` and `sem_expr` that take a column name and return a Polars expression to calculate the given statistic. Rewrite the original code to use your functions."
   ]
  },
  {
   "cell_type": "markdown",
   "id": "4e4a8284",
   "metadata": {},
   "source": [
    "### Setup"
   ]
  },
  {
   "cell_type": "code",
   "execution_count": 9,
   "id": "b2c91388",
   "metadata": {},
   "outputs": [],
   "source": [
    "import polars as pl\n",
    "from datascipsych import datasets\n",
    "\n",
    "dataset_file = datasets.get_dataset_file(\"Osth2019\")\n",
    "df_osth = datasets.clean_osth(pl.read_csv(dataset_file))\n",
    "mean_response_type = (\n",
    "    df_osth.filter(pl.col(\"phase\") == \"test\")\n",
    "    .group_by(\"subj\", \"probe_type\")\n",
    "    .agg(pl.col(\"response\").mean())\n",
    "    .sort(\"subj\", \"probe_type\")\n",
    ")\n",
    "mean_response_lag = (\n",
    "    df_osth.filter((pl.col(\"phase\") == \"test\") & (pl.col(\"probe_type\") == \"lure\"))\n",
    "    .group_by(\"subj\", \"lag\")\n",
    "    .agg(pl.col(\"response\").mean())\n",
    "    .sort(\"subj\", \"lag\")\n",
    ")"
   ]
  },
  {
   "cell_type": "markdown",
   "id": "0b494d15",
   "metadata": {},
   "source": [
    "### Original"
   ]
  },
  {
   "cell_type": "code",
   "execution_count": 10,
   "id": "6d3d55ba",
   "metadata": {},
   "outputs": [],
   "source": [
    "stats_response_type = (\n",
    "    mean_response_type.group_by(\"probe_type\")\n",
    "    .agg(\n",
    "        mean=pl.col(\"response\").mean(),\n",
    "        sem=pl.col(\"response\").std() / pl.col(\"response\").len().sqrt()\n",
    "    )\n",
    ")\n",
    "stats_response_lag = (\n",
    "    mean_response_lag.group_by(\"lag\")\n",
    "    .agg(\n",
    "        mean=pl.col(\"response\").mean(),\n",
    "        sem=pl.col(\"response\").std() / pl.col(\"response\").len().sqrt()\n",
    "    )\n",
    ")"
   ]
  },
  {
   "cell_type": "markdown",
   "id": "ae7d1a1b",
   "metadata": {},
   "source": [
    "### Modified"
   ]
  },
  {
   "cell_type": "code",
   "execution_count": 11,
   "id": "9d1a0657",
   "metadata": {},
   "outputs": [],
   "source": [
    "# your modified version of the code here"
   ]
  },
  {
   "cell_type": "markdown",
   "id": "1a41c67b",
   "metadata": {},
   "source": [
    "## Problem: make a function more flexible (2 points)\n",
    "\n",
    "The `subject_mean_response` function defined in the Original section can be used to calculate the mean response for each combination of subject and probe type. Rewrite the function to be more flexible. Your modified version should take a `subject` input, which indicates the name of the column with subject labels, and a `condition` input, which indicates the name of the column with conditions that we want to split up. It should work the same as the original function when `subject=\"subj\"` and `condition=\"probe_type\"`."
   ]
  },
  {
   "cell_type": "markdown",
   "id": "e49bd4c3",
   "metadata": {},
   "source": [
    "### Setup"
   ]
  },
  {
   "cell_type": "code",
   "execution_count": 12,
   "id": "5f3abb0d",
   "metadata": {},
   "outputs": [],
   "source": [
    "import polars as pl\n",
    "from datascipsych import datasets\n",
    "\n",
    "dataset_file = datasets.get_dataset_file(\"Osth2019\")\n",
    "df_osth = datasets.clean_osth(pl.read_csv(dataset_file))\n",
    "df_test = df_osth.filter(pl.col(\"phase\") == \"test\")\n",
    "df_test_lures = df_osth.filter((pl.col(\"phase\") == \"test\") & (pl.col(\"probe_type\") == \"lure\"))"
   ]
  },
  {
   "cell_type": "markdown",
   "id": "7e3eb466",
   "metadata": {},
   "source": [
    "### Original"
   ]
  },
  {
   "cell_type": "code",
   "execution_count": 13,
   "id": "9fd949b4",
   "metadata": {},
   "outputs": [],
   "source": [
    "def subject_mean_response(df):\n",
    "    means = (\n",
    "        df.group_by(\"subj\", \"probe_type\")\n",
    "        .agg(pl.col(\"response\").mean())\n",
    "        .sort(\"subj\", \"probe_type\")\n",
    "    )\n",
    "    return means\n",
    "\n",
    "\n",
    "mean_probe_type = subject_mean_response(df_test)"
   ]
  },
  {
   "cell_type": "markdown",
   "id": "4045901a",
   "metadata": {},
   "source": [
    "### Modified"
   ]
  },
  {
   "cell_type": "code",
   "execution_count": 14,
   "id": "e4457b50",
   "metadata": {},
   "outputs": [],
   "source": [
    "# your modified version of the code here\n",
    "\n",
    "# uncomment the lines below to test your function\n",
    "# mean_probe_type = subject_mean_response(df_test, \"subj\", \"probe_type\")\n",
    "# mean_lure_lag = subject_mean_response(df_test_lures, \"subj\", \"lag\")"
   ]
  }
 ],
 "metadata": {
  "kernelspec": {
   "display_name": "datascipsych",
   "language": "python",
   "name": "datascipsych"
  },
  "language_info": {
   "codemirror_mode": {
    "name": "ipython",
    "version": 3
   },
   "file_extension": ".py",
   "mimetype": "text/x-python",
   "name": "python",
   "nbconvert_exporter": "python",
   "pygments_lexer": "ipython3",
   "version": "3.12.10"
  }
 },
 "nbformat": 4,
 "nbformat_minor": 5
}
