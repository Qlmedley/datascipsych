{
 "cells": [
  {
   "cell_type": "markdown",
   "metadata": {},
   "source": [
    "# Python Packages\n",
    "\n",
    "Python packages are used for functionality that is not included in the Python standard library. Anyone can write and share Python packages through the Python Package Index (PyPI) or other repositories like GitHub."
   ]
  },
  {
   "cell_type": "markdown",
   "metadata": {},
   "source": [
    "## Python modules\n",
    "\n",
    "Python modules are `.py` files that contain functions and attributes. They can be accessed by importing them. We can import the `analysis` module because it is in the same directory as this notebook."
   ]
  },
  {
   "cell_type": "code",
   "execution_count": 1,
   "metadata": {},
   "outputs": [],
   "source": [
    "import analysis"
   ]
  },
  {
   "cell_type": "markdown",
   "metadata": {},
   "source": [
    "For example, we have a function that can be used to take trial types and responses and calculate d-prime, as measure of response accuracy."
   ]
  },
  {
   "cell_type": "code",
   "execution_count": 2,
   "metadata": {},
   "outputs": [
    {
     "data": {
      "text/plain": [
       "np.float64(0.967421566101701)"
      ]
     },
     "execution_count": 2,
     "metadata": {},
     "output_type": "execute_result"
    }
   ],
   "source": [
    "trial_type = [\"target\", \"lure\", \"lure\", \"target\", \"target\", \"target\"]\n",
    "response = [\"old\", \"old\", \"new\", \"new\", \"old\", \"old\"]\n",
    "analysis.dprime(trial_type, response)"
   ]
  },
  {
   "cell_type": "markdown",
   "metadata": {},
   "source": [
    "We can use help to see docstrings for the module and each function, just like we can do for built-in modules like `math` and third-party modules like `numpy`."
   ]
  },
  {
   "cell_type": "code",
   "execution_count": 3,
   "metadata": {},
   "outputs": [
    {
     "name": "stdout",
     "output_type": "stream",
     "text": [
      "Help on module analysis:\n",
      "\n",
      "NAME\n",
      "    analysis - Sample module with some sample functions for data analysis.\n",
      "\n",
      "FUNCTIONS\n",
      "    dprime(trial_type, response)\n",
      "        Calculate d-prime for recognition memory task responses.\n",
      "\n",
      "        Args:\n",
      "          trial_type:\n",
      "            An iterable with strings, indicating whether each trial is a \"target\"\n",
      "            or \"lure\".\n",
      "          response:\n",
      "            An iterable with strings, indicating whether the response on each trial\n",
      "            was \"old\" or \"new\".\n",
      "\n",
      "        Returns:\n",
      "          The d-prime measure of recognition accuracy.\n",
      "\n",
      "    exclude_fast_responses(response_times, threshold)\n",
      "        Exclude response times that are too fast.\n",
      "\n",
      "        Args:\n",
      "          response_times:\n",
      "            An iterable with response times.\n",
      "          threshold:\n",
      "            Threshold for marking response times. Response times less than or equal\n",
      "            to the threshold will be marked False.\n",
      "\n",
      "        Returns:\n",
      "          filtered:\n",
      "            An array with only the included response times.\n",
      "          is_included:\n",
      "            A boolean array that is False for responses less than the threshold,\n",
      "            and True otherwise.\n",
      "\n",
      "FILE\n",
      "    /Users/morton/VS Code/datascipsych/assignments/assignment8/analysis.py\n",
      "\n",
      "\n"
     ]
    }
   ],
   "source": [
    "help(analysis)"
   ]
  },
  {
   "cell_type": "markdown",
   "metadata": {},
   "source": [
    "Let's try adding a new function. Edit `analysis.py` to add a function called `hello` that takes no inputs and just prints `\"hello world\"` when called. Add a docstring that says `\"Print 'hello world'\"`. Try calling it using `analysis.hello()`."
   ]
  },
  {
   "cell_type": "code",
   "execution_count": 4,
   "metadata": {},
   "outputs": [],
   "source": [
    "# analysis.hello()  # uncommment to try running the new function"
   ]
  },
  {
   "cell_type": "markdown",
   "metadata": {},
   "source": [
    "You probably got an error saying `AttributeError: module 'analysis' has no attribute 'hello'`. This is because Python does not automatically update a module when you change the code. Try importing the module again using `import analysis`. Then call the function using `analysis.hello()`."
   ]
  },
  {
   "cell_type": "code",
   "execution_count": 5,
   "metadata": {},
   "outputs": [],
   "source": [
    "import analysis\n",
    "# analysis.hello()  # uncommment to try running the new function"
   ]
  },
  {
   "cell_type": "markdown",
   "metadata": {},
   "source": [
    "You probably got the same error again. This is because `import` only runs if the module has not been imported already. Python halts importing of previously imported modules because importing takes time, and a module may be imported in multiple places when importing a package. To avoid running the same code multiple times, will only import a module once."
   ]
  },
  {
   "cell_type": "markdown",
   "metadata": {},
   "source": [
    "What should we do then, if we want to work on developing a new module?\n",
    "\n",
    "We can always restart the notebook kernel and re-run all the cells. This takes time, though, and can slow things down when working on a notebook.\n",
    "\n",
    "A better solution is to use the `importlib` module to *reload* a module that has already been imported."
   ]
  },
  {
   "cell_type": "code",
   "execution_count": 6,
   "metadata": {},
   "outputs": [
    {
     "data": {
      "text/plain": [
       "<module 'analysis' from '/Users/morton/VS Code/datascipsych/assignments/assignment8/analysis.py'>"
      ]
     },
     "execution_count": 6,
     "metadata": {},
     "output_type": "execute_result"
    }
   ],
   "source": [
    "import importlib\n",
    "importlib.reload(analysis)\n",
    "# analysis.hello()  # uncomment to try running the new function\n",
    "# help(analysis.hello)  # uncomment to see function docstring"
   ]
  },
  {
   "cell_type": "markdown",
   "metadata": {},
   "source": [
    "The `importlib.reload` function takes a module, looks up the current source code, and updates the imported module to reflect the latest code."
   ]
  },
  {
   "cell_type": "markdown",
   "metadata": {},
   "source": [
    "### Exercise: developing a module\n",
    "\n",
    "Add a function called `ismissing` to `analysis.py` that takes in a `response` NumPy array and returns a boolean array that is `True` for items that are equal to `\"n/a\"`. Make a test array and check that your function works.\n",
    "\n",
    "#### Advanced\n",
    "\n",
    "Extend your function to also work with lists. If one of the inputs to a function may be either a list or a NumPy array, you can use `np.asarray` to either convert to a NumPy array (in case the input is a list) or do nothing (if the input is already a NumPy array)."
   ]
  },
  {
   "cell_type": "code",
   "execution_count": 7,
   "metadata": {},
   "outputs": [],
   "source": [
    "# answer here"
   ]
  },
  {
   "cell_type": "markdown",
   "metadata": {},
   "source": [
    "## The search path\n",
    "\n",
    "Python does not automatically have access to all Python code on your computer. To import a module, it must be in a list of directories called the search path."
   ]
  },
  {
   "cell_type": "markdown",
   "metadata": {},
   "source": [
    "We can see the current path using `sys.path`. The `sys` module provides access to information that is specific to your system."
   ]
  },
  {
   "cell_type": "code",
   "execution_count": 8,
   "metadata": {},
   "outputs": [
    {
     "data": {
      "text/plain": [
       "['/Users/morton/.pyenv/versions/3.12.8/lib/python312.zip',\n",
       " '/Users/morton/.pyenv/versions/3.12.8/lib/python3.12',\n",
       " '/Users/morton/.pyenv/versions/3.12.8/lib/python3.12/lib-dynload',\n",
       " '',\n",
       " '/Users/morton/VS Code/datascipsych/.venv/lib/python3.12/site-packages',\n",
       " '/Users/morton/VS Code/datascipsych/src']"
      ]
     },
     "execution_count": 8,
     "metadata": {},
     "output_type": "execute_result"
    }
   ],
   "source": [
    "import sys\n",
    "sys.path"
   ]
  },
  {
   "cell_type": "markdown",
   "metadata": {},
   "source": [
    "The path shown will depend on your system. Each entry in the list is one directory where Python will look for modules. The empty string indicates the current directory; if it is included, this means that modules in your current directory, like `analysis.py`, can be imported. You should also see a `site-packages` directory; this is where Python packages are installed when you run `pip install`. You may also see the `src` directory of this project. If a project is installed using a command like `pip install -e .`, with the `-e` flag, then the source code will be added to your path so you can make changes and have them immediately \"installed\"."
   ]
  },
  {
   "cell_type": "markdown",
   "metadata": {},
   "source": [
    "We can use the `os` module to see files in a directory. Let's use it to look at the files in the current directory."
   ]
  },
  {
   "cell_type": "code",
   "execution_count": 9,
   "metadata": {},
   "outputs": [
    {
     "data": {
      "text/plain": [
       "['analysis.py', '__pycache__', 'python_packages.ipynb']"
      ]
     },
     "execution_count": 9,
     "metadata": {},
     "output_type": "execute_result"
    }
   ],
   "source": [
    "import os\n",
    "os.listdir(\".\")"
   ]
  },
  {
   "cell_type": "markdown",
   "metadata": {},
   "source": [
    "This should show the `analysis.py` file that we've been working with. Because the current directory is automatically added to the search path, we can import modules from it."
   ]
  },
  {
   "cell_type": "markdown",
   "metadata": {},
   "source": [
    "If we look in the `site-packages` directory, we can see all the packages that have been installed into our virtual environment."
   ]
  },
  {
   "cell_type": "code",
   "execution_count": 10,
   "metadata": {},
   "outputs": [
    {
     "data": {
      "text/plain": [
       "['fastjsonschema',\n",
       " 'polars-1.21.0.dist-info',\n",
       " 'overrides',\n",
       " 'jupyterlab_rise-0.43.1.dist-info',\n",
       " 'arrow-1.3.0.dist-info',\n",
       " 'async_lru-2.0.4.dist-info',\n",
       " 'uri_template-1.3.0.dist-info',\n",
       " 'appnope',\n",
       " 'packaging',\n",
       " 'rfc3339_validator-0.1.4.dist-info']"
      ]
     },
     "execution_count": 10,
     "metadata": {},
     "output_type": "execute_result"
    }
   ],
   "source": [
    "sp = [p for p in sys.path if p.endswith(\"site-packages\")][0]\n",
    "os.listdir(sp)[:10]"
   ]
  },
  {
   "cell_type": "markdown",
   "metadata": {},
   "source": [
    "Finally, if the `datascipsych` package is installed, we will have a `src` directory with that package installed. This setup helps us develop a Python package with one or more modules, which we can import and use in our notebooks."
   ]
  },
  {
   "cell_type": "code",
   "execution_count": 11,
   "metadata": {},
   "outputs": [
    {
     "name": "stdout",
     "output_type": "stream",
     "text": [
      "['datascipsych.egg-info', 'datascipsych']\n"
     ]
    }
   ],
   "source": [
    "sp = [p for p in sys.path if p.endswith(\"src\")]\n",
    "if sp:\n",
    "    print(os.listdir(sp[0]))"
   ]
  },
  {
   "cell_type": "markdown",
   "metadata": {},
   "source": [
    "The `examples` module has the `hello` and `ismissing` functions that we wrote earlier."
   ]
  },
  {
   "cell_type": "code",
   "execution_count": 12,
   "metadata": {},
   "outputs": [
    {
     "name": "stdout",
     "output_type": "stream",
     "text": [
      "Help on module datascipsych.examples in datascipsych:\n",
      "\n",
      "NAME\n",
      "    datascipsych.examples - Module with example functions.\n",
      "\n",
      "FUNCTIONS\n",
      "    hello()\n",
      "        Print a greeting.\n",
      "\n",
      "    ismissing(responses)\n",
      "        Check if responses are n/a.\n",
      "\n",
      "FILE\n",
      "    /Users/morton/VS Code/datascipsych/src/datascipsych/examples.py\n",
      "\n",
      "\n"
     ]
    }
   ],
   "source": [
    "from datascipsych import examples\n",
    "help(examples)"
   ]
  }
 ],
 "metadata": {
  "kernelspec": {
   "display_name": "datascipsych",
   "language": "python",
   "name": "datascipsych"
  },
  "language_info": {
   "codemirror_mode": {
    "name": "ipython",
    "version": 3
   },
   "file_extension": ".py",
   "mimetype": "text/x-python",
   "name": "python",
   "nbconvert_exporter": "python",
   "pygments_lexer": "ipython3",
   "version": "3.12.8"
  }
 },
 "nbformat": 4,
 "nbformat_minor": 2
}
