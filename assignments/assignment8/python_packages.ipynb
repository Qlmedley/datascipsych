{
 "cells": [
  {
   "cell_type": "markdown",
   "metadata": {},
   "source": [
    "# Python Packages\n",
    "\n",
    "Python packages are used for functionality that is not included in the Python standard library. Anyone can write and share Python packages through the Python Package Index (PyPI) or other repositories like GitHub."
   ]
  },
  {
   "cell_type": "markdown",
   "metadata": {},
   "source": [
    "## Python modules\n",
    "\n",
    "Python modules are `.py` files that contain functions and attributes. They can be accessed by importing them. We can import the `analysis` module because it is in the same directory as this notebook."
   ]
  },
  {
   "cell_type": "code",
   "execution_count": 1,
   "metadata": {},
   "outputs": [],
   "source": [
    "import analysis"
   ]
  },
  {
   "cell_type": "markdown",
   "metadata": {},
   "source": [
    "For example, we have a function that can be used to take trial types and responses and calculate d-prime, as measure of response accuracy."
   ]
  },
  {
   "cell_type": "code",
   "execution_count": 2,
   "metadata": {},
   "outputs": [
    {
     "data": {
      "text/plain": [
       "np.float64(0.967421566101701)"
      ]
     },
     "execution_count": 2,
     "metadata": {},
     "output_type": "execute_result"
    }
   ],
   "source": [
    "trial_type = [\"target\", \"lure\", \"lure\", \"target\", \"target\", \"target\"]\n",
    "response = [\"old\", \"old\", \"new\", \"new\", \"old\", \"old\"]\n",
    "analysis.dprime(trial_type, response)"
   ]
  },
  {
   "cell_type": "markdown",
   "metadata": {},
   "source": [
    "We can use help to see docstrings for the module and each function, just like we can do for built-in modules like `math` and third-party modules like `numpy`."
   ]
  },
  {
   "cell_type": "code",
   "execution_count": 3,
   "metadata": {},
   "outputs": [
    {
     "name": "stdout",
     "output_type": "stream",
     "text": [
      "Help on module analysis:\n",
      "\n",
      "NAME\n",
      "    analysis - Sample module with some sample functions for data analysis.\n",
      "\n",
      "FUNCTIONS\n",
      "    dprime(trial_type, response)\n",
      "        Calculate d-prime for recognition memory task responses.\n",
      "\n",
      "        Args:\n",
      "          trial_type:\n",
      "            An iterable with strings, indicating whether each trial is a \"target\"\n",
      "            or \"lure\".\n",
      "          response:\n",
      "            An iterable with strings, indicating whether the response on each trial\n",
      "            was \"old\" or \"new\".\n",
      "\n",
      "        Returns:\n",
      "          The d-prime measure of recognition accuracy.\n",
      "\n",
      "    exclude_fast_responses(response_times, threshold)\n",
      "        Exclude response times that are too fast.\n",
      "\n",
      "        Args:\n",
      "          response_times:\n",
      "            An iterable with response times.\n",
      "          threshold:\n",
      "            Threshold for marking response times. Response times less than or equal\n",
      "            to the threshold will be marked False.\n",
      "\n",
      "        Returns:\n",
      "          filtered:\n",
      "            An array with only the included response times.\n",
      "          is_included:\n",
      "            A boolean array that is False for responses less than the threshold,\n",
      "            and True otherwise.\n",
      "\n",
      "FILE\n",
      "    /Users/morton/VS Code/datascipsych/assignments/assignment8/analysis.py\n",
      "\n",
      "\n"
     ]
    }
   ],
   "source": [
    "help(analysis)"
   ]
  },
  {
   "cell_type": "markdown",
   "metadata": {},
   "source": [
    "Let's try adding a new function. Edit `analysis.py` to add a function called `hello` that takes no inputs and just prints `\"hello world\"` when called. Add a docstring that says `\"Print 'hello world'\"`. Try calling it using `analysis.hello()`."
   ]
  },
  {
   "cell_type": "code",
   "execution_count": 4,
   "metadata": {},
   "outputs": [],
   "source": [
    "# analysis.hello()  # uncommment to try running the new function"
   ]
  },
  {
   "cell_type": "markdown",
   "metadata": {},
   "source": [
    "You probably got an error saying `AttributeError: module 'analysis' has no attribute 'hello'`. This is because Python does not automatically update a module when you change the code. Try importing the module again using `import analysis`. Then call the function using `analysis.hello()`."
   ]
  },
  {
   "cell_type": "code",
   "execution_count": 5,
   "metadata": {},
   "outputs": [],
   "source": [
    "import analysis\n",
    "# analysis.hello()  # uncommment to try running the new function"
   ]
  },
  {
   "cell_type": "markdown",
   "metadata": {},
   "source": [
    "You probably got the same error again. This is because `import` only runs if the module has not been imported already. Python halts importing of previously imported modules because importing takes time, and a module may be imported in multiple places when importing a package. To avoid running the same code multiple times, will only import a module once."
   ]
  },
  {
   "cell_type": "markdown",
   "metadata": {},
   "source": [
    "What should we do then, if we want to work on developing a new module?\n",
    "\n",
    "We can always restart the notebook kernel and re-run all the cells. This takes time, though, and can slow things down when working on a notebook.\n",
    "\n",
    "A better solution is to use the `importlib` module to *reload* a module that has already been imported."
   ]
  },
  {
   "cell_type": "code",
   "execution_count": 6,
   "metadata": {},
   "outputs": [
    {
     "data": {
      "text/plain": [
       "<module 'analysis' from '/Users/morton/VS Code/datascipsych/assignments/assignment8/analysis.py'>"
      ]
     },
     "execution_count": 6,
     "metadata": {},
     "output_type": "execute_result"
    }
   ],
   "source": [
    "import importlib\n",
    "importlib.reload(analysis)\n",
    "# analysis.hello()  # uncomment to try running the new function\n",
    "# help(analysis.hello)  # uncomment to see function docstring"
   ]
  },
  {
   "cell_type": "markdown",
   "metadata": {},
   "source": [
    "The `importlib.reload` function takes a module, looks up the current source code, and updates the imported module to reflect the latest code."
   ]
  },
  {
   "cell_type": "markdown",
   "metadata": {},
   "source": [
    "### Exercise: developing a module\n",
    "\n",
    "Add a function called `ismissing` to `analysis.py` that takes in a `response` NumPy array and returns a boolean array that is `True` for items that are equal to `\"n/a\"`. Make a test array and check that your function works.\n",
    "\n",
    "#### Advanced\n",
    "\n",
    "Extend your function to also work with lists. If one of the inputs to a function may be either a list or a NumPy array, you can use `np.asarray` to either convert to a NumPy array (in case the input is a list) or do nothing (if the input is already a NumPy array)."
   ]
  },
  {
   "cell_type": "code",
   "execution_count": 7,
   "metadata": {},
   "outputs": [],
   "source": [
    "# answer here"
   ]
  }
 ],
 "metadata": {
  "kernelspec": {
   "display_name": "datascipsych",
   "language": "python",
   "name": "datascipsych"
  },
  "language_info": {
   "codemirror_mode": {
    "name": "ipython",
    "version": 3
   },
   "file_extension": ".py",
   "mimetype": "text/x-python",
   "name": "python",
   "nbconvert_exporter": "python",
   "pygments_lexer": "ipython3",
   "version": "3.12.8"
  }
 },
 "nbformat": 4,
 "nbformat_minor": 2
}
