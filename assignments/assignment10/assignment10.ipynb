{
 "cells": [
  {
   "cell_type": "markdown",
   "metadata": {},
   "source": [
    "# Assignment 10 draft (NOT FINALIZED)\n",
    "\n",
    "Please fill in blanks in the *Answer* sections of this notebook. To check your answer for a problem, run the Setup, Answer, and Result sections. DO NOT MODIFY SETUP OR RESULT CELLS. See the [README](https://github.com/mortonne/datascipsych) for instructions on setting up a Python environment to run this notebook.\n",
    "\n",
    "Write your answers for each problem. Then restart the kernel, run all cells, and then save the notebook. Upload your notebook to Canvas.\n",
    "\n",
    "If you get stuck, read through the other notebooks in this directory, ask us for help in class, or ask other students for help in class or on the weekly discussion board."
   ]
  },
  {
   "cell_type": "markdown",
   "metadata": {},
   "source": [
    "## Problem: making a bar plot (2 points)\n",
    "\n",
    "### Calculate mean response by trial type\n",
    "\n",
    "Read the `gen_recog.csv` file into a DataFrame. Calculate the mean response for each combination of subject and trial type. Save the result to a variable called `response`.\n",
    "\n",
    "### Make a bar plot with error bars (1 point)\n",
    "\n",
    "Use Seaborn's `catplot` function to create a bar plot with error bars showing variability across subjects. You should have one bar for each trial type."
   ]
  },
  {
   "cell_type": "markdown",
   "metadata": {},
   "source": [
    "### Setup"
   ]
  },
  {
   "cell_type": "code",
   "execution_count": 1,
   "metadata": {},
   "outputs": [],
   "source": [
    "import polars as pl\n",
    "import seaborn as sns\n",
    "from IPython.display import display\n",
    "response = None"
   ]
  },
  {
   "cell_type": "markdown",
   "metadata": {},
   "source": [
    "### Answer"
   ]
  },
  {
   "cell_type": "code",
   "execution_count": 2,
   "metadata": {},
   "outputs": [
    {
     "data": {
      "image/png": "[encoded data removed]",
      "text/plain": [
       "<Figure size 511.111x500 with 1 Axes>"
      ]
     },
     "metadata": {},
     "output_type": "display_data"
    }
   ],
   "source": [
    "# your code here; it should display a bar plot\n",
    "response = (\n",
    "    pl.read_csv(\"gen_recog.csv\")\n",
    "    .group_by(\"subject\", \"trial_type\")\n",
    "    .agg(pl.col(\"response\").mean())\n",
    ")\n",
    "sns.catplot(data=response, x=\"trial_type\", y=\"response\", kind=\"bar\");"
   ]
  },
  {
   "cell_type": "markdown",
   "metadata": {},
   "source": [
    "### Result"
   ]
  },
  {
   "cell_type": "code",
   "execution_count": 3,
   "metadata": {},
   "outputs": [
    {
     "data": {
      "text/html": [
       "<div><style>\n",
       ".dataframe > thead > tr,\n",
       ".dataframe > tbody > tr {\n",
       "  text-align: right;\n",
       "  white-space: pre-wrap;\n",
       "}\n",
       "</style>\n",
       "<small>shape: (5, 3)</small><table border=\"1\" class=\"dataframe\"><thead><tr><th>subject</th><th>trial_type</th><th>response</th></tr><tr><td>str</td><td>str</td><td>f64</td></tr></thead><tbody><tr><td>&quot;subj01&quot;</td><td>&quot;lure&quot;</td><td>0.208333</td></tr><tr><td>&quot;subj01&quot;</td><td>&quot;target&quot;</td><td>0.745</td></tr><tr><td>&quot;subj02&quot;</td><td>&quot;lure&quot;</td><td>0.156667</td></tr><tr><td>&quot;subj02&quot;</td><td>&quot;target&quot;</td><td>0.716667</td></tr><tr><td>&quot;subj03&quot;</td><td>&quot;lure&quot;</td><td>0.16</td></tr></tbody></table></div>"
      ],
      "text/plain": [
       "shape: (5, 3)\n",
       "┌─────────┬────────────┬──────────┐\n",
       "│ subject ┆ trial_type ┆ response │\n",
       "│ ---     ┆ ---        ┆ ---      │\n",
       "│ str     ┆ str        ┆ f64      │\n",
       "╞═════════╪════════════╪══════════╡\n",
       "│ subj01  ┆ lure       ┆ 0.208333 │\n",
       "│ subj01  ┆ target     ┆ 0.745    │\n",
       "│ subj02  ┆ lure       ┆ 0.156667 │\n",
       "│ subj02  ┆ target     ┆ 0.716667 │\n",
       "│ subj03  ┆ lure       ┆ 0.16     │\n",
       "└─────────┴────────────┴──────────┘"
      ]
     },
     "metadata": {},
     "output_type": "display_data"
    }
   ],
   "source": [
    "vars = [response]\n",
    "if all([v is not None for v in vars]):\n",
    "    # this should print your variables\n",
    "    with pl.Config(tbl_rows=50):\n",
    "        display(response.sort(\"subject\", \"trial_type\").head())\n"
   ]
  }
 ],
 "metadata": {
  "kernelspec": {
   "display_name": "datascipsych",
   "language": "python",
   "name": "datascipsych"
  },
  "language_info": {
   "codemirror_mode": {
    "name": "ipython",
    "version": 3
   },
   "file_extension": ".py",
   "mimetype": "text/x-python",
   "name": "python",
   "nbconvert_exporter": "python",
   "pygments_lexer": "ipython3",
   "version": "3.12.8"
  }
 },
 "nbformat": 4,
 "nbformat_minor": 2
}
