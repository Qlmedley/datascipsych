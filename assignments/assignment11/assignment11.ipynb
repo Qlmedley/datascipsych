{
 "cells": [
  {
   "cell_type": "markdown",
   "id": "5c287930",
   "metadata": {},
   "source": [
    "# Assignment 11\n",
    "\n",
    "Please fill in blanks in the *Answer* sections of this notebook. To check your answer for a problem, run the Setup, Answer, and Result sections. DO NOT MODIFY SETUP OR RESULT CELLS. See the [README](https://github.com/mortonne/datascipsych) for instructions on setting up a Python environment to run this notebook.\n",
    "\n",
    "Write your answers for each problem. Then restart the kernel, run all cells, and then save the notebook. Upload your notebook to Canvas.\n",
    "\n",
    "If you get stuck, read through the other notebooks in this directory, ask us for help in class, or ask other students for help in class or on the weekly discussion board."
   ]
  },
  {
   "cell_type": "markdown",
   "id": "c28c98f4",
   "metadata": {},
   "source": [
    "## Problem: one-sample t-test (3 points)\n",
    "\n",
    "### Run one-sample t-test (2 points)\n",
    "Given the `targets` DataFrame defined below, use `pg.ttest` to run a one-sample t-test assessing whether the mean response is greater than 0.5. Assign the results DataFrame to a variable called `ttest1`.\n",
    "\n",
    "### Interpret the results (1 point)\n",
    "Answer the questions about interpretation of the t-test (0.5 points per question). Edit the markdown cell (you can double-click on it to edit it, or click on the pencil icon) to add your answer below each question. Then click on the check icon to switch back to rendered text."
   ]
  },
  {
   "cell_type": "markdown",
   "id": "de475bad",
   "metadata": {},
   "source": [
    "### Setup"
   ]
  },
  {
   "cell_type": "code",
   "execution_count": 16,
   "id": "340d1544",
   "metadata": {},
   "outputs": [
    {
     "data": {
      "text/html": [
       "<div><style>\n",
       ".dataframe > thead > tr,\n",
       ".dataframe > tbody > tr {\n",
       "  text-align: right;\n",
       "  white-space: pre-wrap;\n",
       "}\n",
       "</style>\n",
       "<small>shape: (5, 2)</small><table border=\"1\" class=\"dataframe\"><thead><tr><th>subject</th><th>response</th></tr><tr><td>str</td><td>f64</td></tr></thead><tbody><tr><td>&quot;subj01&quot;</td><td>0.566667</td></tr><tr><td>&quot;subj02&quot;</td><td>0.566667</td></tr><tr><td>&quot;subj03&quot;</td><td>0.583333</td></tr><tr><td>&quot;subj04&quot;</td><td>0.7</td></tr><tr><td>&quot;subj05&quot;</td><td>0.783333</td></tr></tbody></table></div>"
      ],
      "text/plain": [
       "shape: (5, 2)\n",
       "┌─────────┬──────────┐\n",
       "│ subject ┆ response │\n",
       "│ ---     ┆ ---      │\n",
       "│ str     ┆ f64      │\n",
       "╞═════════╪══════════╡\n",
       "│ subj01  ┆ 0.566667 │\n",
       "│ subj02  ┆ 0.566667 │\n",
       "│ subj03  ┆ 0.583333 │\n",
       "│ subj04  ┆ 0.7      │\n",
       "│ subj05  ┆ 0.783333 │\n",
       "└─────────┴──────────┘"
      ]
     },
     "execution_count": 16,
     "metadata": {},
     "output_type": "execute_result"
    }
   ],
   "source": [
    "import polars as pl\n",
    "import pingouin as pg\n",
    "from IPython.display import display\n",
    "data = pl.read_csv(\"gen_recog2.csv\")\n",
    "targets = (\n",
    "    data.filter(pl.col(\"trial_type\") == \"target\")\n",
    "    .group_by(\"subject\")\n",
    "    .agg(pl.col(\"response\").mean())\n",
    "    .sort(\"subject\")\n",
    ")\n",
    "ttest1 = None\n",
    "targets.head()"
   ]
  },
  {
   "cell_type": "markdown",
   "id": "4ec2c29b",
   "metadata": {},
   "source": [
    "### Answer"
   ]
  },
  {
   "cell_type": "code",
   "execution_count": 17,
   "id": "c900ec1f",
   "metadata": {},
   "outputs": [],
   "source": [
    "ttest1 = pg.ttest(targets[\"response\"], 0.5, alternative= \"greater\")"
   ]
  },
  {
   "cell_type": "markdown",
   "id": "6e0a870b",
   "metadata": {},
   "source": [
    "> Was the mean response significantly greater than 0.5 (yes or no)?\n",
    "\n",
    "yes\n",
    "\n",
    "> What was the effect size?\n",
    "\n",
    "1.356984\n"
   ]
  },
  {
   "cell_type": "markdown",
   "id": "c9eb7759",
   "metadata": {},
   "source": [
    "### Result"
   ]
  },
  {
   "cell_type": "code",
   "execution_count": 18,
   "id": "48fdd032",
   "metadata": {},
   "outputs": [
    {
     "data": {
      "text/html": [
       "<div>\n",
       "<style scoped>\n",
       "    .dataframe tbody tr th:only-of-type {\n",
       "        vertical-align: middle;\n",
       "    }\n",
       "\n",
       "    .dataframe tbody tr th {\n",
       "        vertical-align: top;\n",
       "    }\n",
       "\n",
       "    .dataframe thead th {\n",
       "        text-align: right;\n",
       "    }\n",
       "</style>\n",
       "<table border=\"1\" class=\"dataframe\">\n",
       "  <thead>\n",
       "    <tr style=\"text-align: right;\">\n",
       "      <th></th>\n",
       "      <th>T</th>\n",
       "      <th>dof</th>\n",
       "      <th>alternative</th>\n",
       "      <th>p-val</th>\n",
       "      <th>CI95%</th>\n",
       "      <th>cohen-d</th>\n",
       "      <th>BF10</th>\n",
       "      <th>power</th>\n",
       "    </tr>\n",
       "  </thead>\n",
       "  <tbody>\n",
       "    <tr>\n",
       "      <th>T-test</th>\n",
       "      <td>7.432506</td>\n",
       "      <td>29</td>\n",
       "      <td>greater</td>\n",
       "      <td>1.718330e-08</td>\n",
       "      <td>[0.59, inf]</td>\n",
       "      <td>1.356984</td>\n",
       "      <td>8.155e+05</td>\n",
       "      <td>1.0</td>\n",
       "    </tr>\n",
       "  </tbody>\n",
       "</table>\n",
       "</div>"
      ],
      "text/plain": [
       "               T  dof alternative         p-val        CI95%   cohen-d  \\\n",
       "T-test  7.432506   29     greater  1.718330e-08  [0.59, inf]  1.356984   \n",
       "\n",
       "             BF10  power  \n",
       "T-test  8.155e+05    1.0  "
      ]
     },
     "metadata": {},
     "output_type": "display_data"
    }
   ],
   "source": [
    "vars = [ttest1]\n",
    "if all([v is not None for v in vars]):\n",
    "    # this should print your variables\n",
    "    display(ttest1)\n",
    "    \n",
    "    # this should not throw any errors\n",
    "    assert round(ttest1.loc[\"T-test\", \"T\"], 2) == 7.43\n",
    "    assert ttest1.loc[\"T-test\", \"dof\"] == 29\n",
    "    assert ttest1.loc[\"T-test\", \"alternative\"] == \"greater\""
   ]
  },
  {
   "cell_type": "markdown",
   "id": "9c81f63e",
   "metadata": {},
   "source": [
    "## Problem: two-sample paired t-test (3 points)\n",
    "\n",
    "### Run paired t-test (2 points)\n",
    "Given the `p_old` DataFrame defined below, use `pg.ttest` to run a two-sample paired t-test assessing whether the probability of responding \"old\" was different depending on whether an item was a word or a picture. Assign the results DataFrame to a variable called `ttest2`.\n",
    "\n",
    "### Interpret the results (1 point)\n",
    "Answer the questions about interpretation of the t-test (0.5 points per question). Edit the markdown cell (you can double-click on it to edit it, or click on the pencil icon) to add your answer below each question. Then click on the check icon to switch back to rendered text."
   ]
  },
  {
   "cell_type": "markdown",
   "id": "dfb860fe",
   "metadata": {},
   "source": [
    "### Setup"
   ]
  },
  {
   "cell_type": "code",
   "execution_count": 19,
   "id": "489abd6a",
   "metadata": {},
   "outputs": [
    {
     "data": {
      "text/html": [
       "<div><style>\n",
       ".dataframe > thead > tr,\n",
       ".dataframe > tbody > tr {\n",
       "  text-align: right;\n",
       "  white-space: pre-wrap;\n",
       "}\n",
       "</style>\n",
       "<small>shape: (5, 3)</small><table border=\"1\" class=\"dataframe\"><thead><tr><th>subject</th><th>word</th><th>picture</th></tr><tr><td>str</td><td>f64</td><td>f64</td></tr></thead><tbody><tr><td>&quot;subj01&quot;</td><td>0.733333</td><td>0.4</td></tr><tr><td>&quot;subj02&quot;</td><td>0.533333</td><td>0.6</td></tr><tr><td>&quot;subj03&quot;</td><td>0.566667</td><td>0.6</td></tr><tr><td>&quot;subj04&quot;</td><td>0.666667</td><td>0.733333</td></tr><tr><td>&quot;subj05&quot;</td><td>0.733333</td><td>0.833333</td></tr></tbody></table></div>"
      ],
      "text/plain": [
       "shape: (5, 3)\n",
       "┌─────────┬──────────┬──────────┐\n",
       "│ subject ┆ word     ┆ picture  │\n",
       "│ ---     ┆ ---      ┆ ---      │\n",
       "│ str     ┆ f64      ┆ f64      │\n",
       "╞═════════╪══════════╪══════════╡\n",
       "│ subj01  ┆ 0.733333 ┆ 0.4      │\n",
       "│ subj02  ┆ 0.533333 ┆ 0.6      │\n",
       "│ subj03  ┆ 0.566667 ┆ 0.6      │\n",
       "│ subj04  ┆ 0.666667 ┆ 0.733333 │\n",
       "│ subj05  ┆ 0.733333 ┆ 0.833333 │\n",
       "└─────────┴──────────┴──────────┘"
      ]
     },
     "execution_count": 19,
     "metadata": {},
     "output_type": "execute_result"
    }
   ],
   "source": [
    "p_old = (\n",
    "    data.filter(pl.col(\"trial_type\") == \"target\")\n",
    "    .pivot(\"item_type\", index=\"subject\", values=\"response\", aggregate_function=\"mean\")\n",
    ")\n",
    "ttest2 = None\n",
    "p_old.head()"
   ]
  },
  {
   "cell_type": "markdown",
   "id": "18942056",
   "metadata": {},
   "source": [
    "### Answer"
   ]
  },
  {
   "cell_type": "code",
   "execution_count": 20,
   "id": "b1e5ad53",
   "metadata": {},
   "outputs": [],
   "source": [
    "ttest2 = pg.ttest(p_old[\"word\"], p_old[\"picture\"], paired=True)"
   ]
  },
  {
   "cell_type": "markdown",
   "id": "1ba8d2c5",
   "metadata": {},
   "source": [
    "> Was the probability of responding \"old\" different between words and pictures (yes or no)?\n",
    "\n",
    "yes\n",
    "\n",
    "> What was the t-statistic?\n",
    "\n",
    "-0.393257"
   ]
  },
  {
   "cell_type": "markdown",
   "id": "cd54436b",
   "metadata": {},
   "source": [
    "### Result"
   ]
  },
  {
   "cell_type": "code",
   "execution_count": 21,
   "id": "9536c615",
   "metadata": {},
   "outputs": [
    {
     "data": {
      "text/html": [
       "<div>\n",
       "<style scoped>\n",
       "    .dataframe tbody tr th:only-of-type {\n",
       "        vertical-align: middle;\n",
       "    }\n",
       "\n",
       "    .dataframe tbody tr th {\n",
       "        vertical-align: top;\n",
       "    }\n",
       "\n",
       "    .dataframe thead th {\n",
       "        text-align: right;\n",
       "    }\n",
       "</style>\n",
       "<table border=\"1\" class=\"dataframe\">\n",
       "  <thead>\n",
       "    <tr style=\"text-align: right;\">\n",
       "      <th></th>\n",
       "      <th>T</th>\n",
       "      <th>dof</th>\n",
       "      <th>alternative</th>\n",
       "      <th>p-val</th>\n",
       "      <th>CI95%</th>\n",
       "      <th>cohen-d</th>\n",
       "      <th>BF10</th>\n",
       "      <th>power</th>\n",
       "    </tr>\n",
       "  </thead>\n",
       "  <tbody>\n",
       "    <tr>\n",
       "      <th>T-test</th>\n",
       "      <td>-0.393257</td>\n",
       "      <td>29</td>\n",
       "      <td>two-sided</td>\n",
       "      <td>0.697006</td>\n",
       "      <td>[-0.06, 0.04]</td>\n",
       "      <td>0.093302</td>\n",
       "      <td>0.209</td>\n",
       "      <td>0.078431</td>\n",
       "    </tr>\n",
       "  </tbody>\n",
       "</table>\n",
       "</div>"
      ],
      "text/plain": [
       "               T  dof alternative     p-val          CI95%   cohen-d   BF10  \\\n",
       "T-test -0.393257   29   two-sided  0.697006  [-0.06, 0.04]  0.093302  0.209   \n",
       "\n",
       "           power  \n",
       "T-test  0.078431  "
      ]
     },
     "metadata": {},
     "output_type": "display_data"
    }
   ],
   "source": [
    "vars = [ttest2]\n",
    "if all([v is not None for v in vars]):\n",
    "    # this should print your variables\n",
    "    display(ttest2)\n",
    "    \n",
    "    # this should not throw any errors\n",
    "    assert round(ttest2.loc[\"T-test\", \"T\"], 2) == -0.39\n",
    "    assert ttest2.loc[\"T-test\", \"dof\"] == 29\n",
    "    assert ttest2.loc[\"T-test\", \"alternative\"] == \"two-sided\""
   ]
  },
  {
   "cell_type": "markdown",
   "id": "77622589",
   "metadata": {},
   "source": [
    "## Problem: one-way repeated-measures ANOVA (3 points)\n",
    "\n",
    "### Run one-way ANOVA (2 points)\n",
    "Given the `m_st` DataFrame defined below, use `pg.rm_anova` to run a one-way repeated-measures ANOVA assessing whether performance varies with study time. Assign the result to a variable called `anova1`.\n",
    "\n",
    "### Interpret the results (1 point)\n",
    "Answer the questions about interpretation of the ANOVA (0.5 points per question). Edit the markdown cell (you can double-click on it to edit it, or click on the pencil icon) to add your answer below each question. Then click on the check icon to switch back to rendered text."
   ]
  },
  {
   "cell_type": "markdown",
   "id": "76fff812",
   "metadata": {},
   "source": [
    "### Setup"
   ]
  },
  {
   "cell_type": "code",
   "execution_count": 22,
   "id": "80f8f3b0",
   "metadata": {},
   "outputs": [
    {
     "data": {
      "text/html": [
       "<div><style>\n",
       ".dataframe > thead > tr,\n",
       ".dataframe > tbody > tr {\n",
       "  text-align: right;\n",
       "  white-space: pre-wrap;\n",
       "}\n",
       "</style>\n",
       "<small>shape: (5, 3)</small><table border=\"1\" class=\"dataframe\"><thead><tr><th>subject</th><th>study_time</th><th>performance</th></tr><tr><td>str</td><td>i64</td><td>f64</td></tr></thead><tbody><tr><td>&quot;subj01&quot;</td><td>1</td><td>0.2</td></tr><tr><td>&quot;subj01&quot;</td><td>2</td><td>0.0</td></tr><tr><td>&quot;subj01&quot;</td><td>4</td><td>0.45</td></tr><tr><td>&quot;subj02&quot;</td><td>1</td><td>0.1</td></tr><tr><td>&quot;subj02&quot;</td><td>2</td><td>0.2</td></tr></tbody></table></div>"
      ],
      "text/plain": [
       "shape: (5, 3)\n",
       "┌─────────┬────────────┬─────────────┐\n",
       "│ subject ┆ study_time ┆ performance │\n",
       "│ ---     ┆ ---        ┆ ---         │\n",
       "│ str     ┆ i64        ┆ f64         │\n",
       "╞═════════╪════════════╪═════════════╡\n",
       "│ subj01  ┆ 1          ┆ 0.2         │\n",
       "│ subj01  ┆ 2          ┆ 0.0         │\n",
       "│ subj01  ┆ 4          ┆ 0.45        │\n",
       "│ subj02  ┆ 1          ┆ 0.1         │\n",
       "│ subj02  ┆ 2          ┆ 0.2         │\n",
       "└─────────┴────────────┴─────────────┘"
      ]
     },
     "execution_count": 22,
     "metadata": {},
     "output_type": "execute_result"
    }
   ],
   "source": [
    "m_st = (\n",
    "    data.pivot(\"trial_type\", index=[\"subject\", \"study_time\"], values=\"response\", aggregate_function=\"mean\")\n",
    "    .select(\n",
    "        \"subject\",\n",
    "        \"study_time\",\n",
    "        performance=pl.col(\"target\") - pl.col(\"lure\")\n",
    "    )\n",
    ")\n",
    "anova1 = None\n",
    "m_st.head()"
   ]
  },
  {
   "cell_type": "markdown",
   "id": "39ae35d3",
   "metadata": {},
   "source": [
    "### Answer"
   ]
  },
  {
   "cell_type": "code",
   "execution_count": 23,
   "id": "afb00774",
   "metadata": {},
   "outputs": [],
   "source": [
    "anova1 = pg.rm_anova(m_st.to_pandas(), dv=\"performance\", within=\"study_time\", subject= \"subject\")"
   ]
  },
  {
   "cell_type": "markdown",
   "id": "56b6964d",
   "metadata": {},
   "source": [
    "> Did study time significantly affect performance (yes or no)?\n",
    "\n",
    "no\n",
    "\n",
    "> What was the effect size?\n",
    "\n",
    "0.225539"
   ]
  },
  {
   "cell_type": "markdown",
   "id": "362ab3c7",
   "metadata": {},
   "source": [
    "### Result"
   ]
  },
  {
   "cell_type": "code",
   "execution_count": 24,
   "id": "3cfefa5b",
   "metadata": {},
   "outputs": [
    {
     "data": {
      "text/html": [
       "<div>\n",
       "<style scoped>\n",
       "    .dataframe tbody tr th:only-of-type {\n",
       "        vertical-align: middle;\n",
       "    }\n",
       "\n",
       "    .dataframe tbody tr th {\n",
       "        vertical-align: top;\n",
       "    }\n",
       "\n",
       "    .dataframe thead th {\n",
       "        text-align: right;\n",
       "    }\n",
       "</style>\n",
       "<table border=\"1\" class=\"dataframe\">\n",
       "  <thead>\n",
       "    <tr style=\"text-align: right;\">\n",
       "      <th></th>\n",
       "      <th>Source</th>\n",
       "      <th>ddof1</th>\n",
       "      <th>ddof2</th>\n",
       "      <th>F</th>\n",
       "      <th>p-unc</th>\n",
       "      <th>ng2</th>\n",
       "      <th>eps</th>\n",
       "    </tr>\n",
       "  </thead>\n",
       "  <tbody>\n",
       "    <tr>\n",
       "      <th>0</th>\n",
       "      <td>study_time</td>\n",
       "      <td>2</td>\n",
       "      <td>58</td>\n",
       "      <td>15.573874</td>\n",
       "      <td>0.000004</td>\n",
       "      <td>0.225539</td>\n",
       "      <td>0.965251</td>\n",
       "    </tr>\n",
       "  </tbody>\n",
       "</table>\n",
       "</div>"
      ],
      "text/plain": [
       "       Source  ddof1  ddof2          F     p-unc       ng2       eps\n",
       "0  study_time      2     58  15.573874  0.000004  0.225539  0.965251"
      ]
     },
     "metadata": {},
     "output_type": "display_data"
    }
   ],
   "source": [
    "vars = [anova1]\n",
    "if all([v is not None for v in vars]):\n",
    "    # this should print your variables\n",
    "    display(anova1)\n",
    "    \n",
    "    # this should not throw any errors\n",
    "    assert round(anova1.loc[0, \"F\"], 2) == 15.57\n",
    "    assert anova1.loc[0, \"ddof1\"] == 2\n",
    "    assert anova1.loc[0, \"ddof2\"] == 58"
   ]
  },
  {
   "cell_type": "markdown",
   "id": "9cf0620b",
   "metadata": {},
   "source": [
    "## Problem: two-way repeated-measures ANOVA (3 points)\n",
    "\n",
    "### Run two-way ANOVA (1.5 points) \n",
    "Given the `m_st_it` DataFrame defined below, use `pg.rm_anova` to run a two-way repeated-measures ANOVA assessing whether performance varies with study time and item type. Assign the result to a variable called `anova2`.\n",
    "\n",
    "You will probably get some `FutureWarning` messages printed when you run `pg.rm_anova`. This is normal (it just means that the authors of Pingouin need to make some updates in their code to avoid problems in the future).\n",
    "\n",
    "### Interpret the results (1.5 points)\n",
    "Answer the questions about interpretation of the ANOVA (0.5 points per question). Edit the markdown cell (you can double-click on it to edit it, or click on the pencil icon) to add your answer below each question. Then click on the check icon to switch back to rendered text."
   ]
  },
  {
   "cell_type": "markdown",
   "id": "41774342",
   "metadata": {},
   "source": [
    "### Setup"
   ]
  },
  {
   "cell_type": "code",
   "execution_count": 25,
   "id": "2e9d02aa",
   "metadata": {},
   "outputs": [
    {
     "data": {
      "text/html": [
       "<div><style>\n",
       ".dataframe > thead > tr,\n",
       ".dataframe > tbody > tr {\n",
       "  text-align: right;\n",
       "  white-space: pre-wrap;\n",
       "}\n",
       "</style>\n",
       "<small>shape: (6, 4)</small><table border=\"1\" class=\"dataframe\"><thead><tr><th>subject</th><th>study_time</th><th>item_type</th><th>performance</th></tr><tr><td>str</td><td>i64</td><td>str</td><td>f64</td></tr></thead><tbody><tr><td>&quot;subj01&quot;</td><td>1</td><td>&quot;word&quot;</td><td>0.2</td></tr><tr><td>&quot;subj01&quot;</td><td>1</td><td>&quot;picture&quot;</td><td>0.2</td></tr><tr><td>&quot;subj01&quot;</td><td>2</td><td>&quot;word&quot;</td><td>-0.1</td></tr><tr><td>&quot;subj01&quot;</td><td>2</td><td>&quot;picture&quot;</td><td>0.1</td></tr><tr><td>&quot;subj01&quot;</td><td>4</td><td>&quot;word&quot;</td><td>0.6</td></tr><tr><td>&quot;subj01&quot;</td><td>4</td><td>&quot;picture&quot;</td><td>0.3</td></tr></tbody></table></div>"
      ],
      "text/plain": [
       "shape: (6, 4)\n",
       "┌─────────┬────────────┬───────────┬─────────────┐\n",
       "│ subject ┆ study_time ┆ item_type ┆ performance │\n",
       "│ ---     ┆ ---        ┆ ---       ┆ ---         │\n",
       "│ str     ┆ i64        ┆ str       ┆ f64         │\n",
       "╞═════════╪════════════╪═══════════╪═════════════╡\n",
       "│ subj01  ┆ 1          ┆ word      ┆ 0.2         │\n",
       "│ subj01  ┆ 1          ┆ picture   ┆ 0.2         │\n",
       "│ subj01  ┆ 2          ┆ word      ┆ -0.1        │\n",
       "│ subj01  ┆ 2          ┆ picture   ┆ 0.1         │\n",
       "│ subj01  ┆ 4          ┆ word      ┆ 0.6         │\n",
       "│ subj01  ┆ 4          ┆ picture   ┆ 0.3         │\n",
       "└─────────┴────────────┴───────────┴─────────────┘"
      ]
     },
     "execution_count": 25,
     "metadata": {},
     "output_type": "execute_result"
    }
   ],
   "source": [
    "m_st_it = (\n",
    "    data.pivot(\"trial_type\", index=[\"subject\", \"study_time\", \"item_type\"], values=\"response\", aggregate_function=\"mean\")\n",
    "    .select(\n",
    "        \"subject\",\n",
    "        \"study_time\",\n",
    "        \"item_type\",\n",
    "        performance=pl.col(\"target\") - pl.col(\"lure\")\n",
    "    )\n",
    ")\n",
    "anova2 = None\n",
    "m_st_it.head(6)"
   ]
  },
  {
   "cell_type": "markdown",
   "id": "b599824c",
   "metadata": {},
   "source": [
    "### Answer"
   ]
  },
  {
   "cell_type": "code",
   "execution_count": 37,
   "id": "62dec8d4",
   "metadata": {},
   "outputs": [
    {
     "name": "stderr",
     "output_type": "stream",
     "text": [
      "C:\\Users\\qlmedley\\AppData\\Roaming\\Python\\Python312\\site-packages\\pingouin\\distribution.py:507: FutureWarning: DataFrame.groupby with axis=1 is deprecated. Do `frame.T.groupby(...)` without axis instead.\n",
      "  data.groupby(level=1, axis=1, observed=True, group_keys=False)\n",
      "C:\\Users\\qlmedley\\AppData\\Roaming\\Python\\Python312\\site-packages\\pingouin\\distribution.py:508: FutureWarning: DataFrameGroupBy.diff with axis=1 is deprecated and will be removed in a future version. Operate on the un-grouped DataFrame instead\n",
      "  .diff(axis=1)\n"
     ]
    }
   ],
   "source": [
    "anova2 = pg.rm_anova(m_st_it.to_pandas(), dv=\"performance\", within=[\"study_time\", \"item_type\"], subject= \"subject\")"
   ]
  },
  {
   "cell_type": "markdown",
   "id": "bf0d6e9d",
   "metadata": {},
   "source": [
    "> Did you observe a significant main effect of study time (yes or no)?\n",
    "\n",
    "no\n",
    "\n",
    "> Did you observe a significant main effect of item type (yes or no)?\n",
    "\n",
    "yes\n",
    "\n",
    "> Did you observe a significant interaction effect (yes or no)?\n",
    "\n",
    "yes"
   ]
  },
  {
   "cell_type": "markdown",
   "id": "f19b6bc7",
   "metadata": {},
   "source": [
    "### Result"
   ]
  },
  {
   "cell_type": "code",
   "execution_count": 38,
   "id": "b0d7a7d9",
   "metadata": {},
   "outputs": [
    {
     "data": {
      "text/html": [
       "<div>\n",
       "<style scoped>\n",
       "    .dataframe tbody tr th:only-of-type {\n",
       "        vertical-align: middle;\n",
       "    }\n",
       "\n",
       "    .dataframe tbody tr th {\n",
       "        vertical-align: top;\n",
       "    }\n",
       "\n",
       "    .dataframe thead th {\n",
       "        text-align: right;\n",
       "    }\n",
       "</style>\n",
       "<table border=\"1\" class=\"dataframe\">\n",
       "  <thead>\n",
       "    <tr style=\"text-align: right;\">\n",
       "      <th></th>\n",
       "      <th>Source</th>\n",
       "      <th>SS</th>\n",
       "      <th>ddof1</th>\n",
       "      <th>ddof2</th>\n",
       "      <th>MS</th>\n",
       "      <th>F</th>\n",
       "      <th>p-unc</th>\n",
       "      <th>p-GG-corr</th>\n",
       "      <th>ng2</th>\n",
       "      <th>eps</th>\n",
       "    </tr>\n",
       "  </thead>\n",
       "  <tbody>\n",
       "    <tr>\n",
       "      <th>0</th>\n",
       "      <td>study_time</td>\n",
       "      <td>1.443000</td>\n",
       "      <td>2</td>\n",
       "      <td>58</td>\n",
       "      <td>0.721500</td>\n",
       "      <td>15.573874</td>\n",
       "      <td>0.000004</td>\n",
       "      <td>0.000005</td>\n",
       "      <td>0.140566</td>\n",
       "      <td>0.965251</td>\n",
       "    </tr>\n",
       "    <tr>\n",
       "      <th>1</th>\n",
       "      <td>item_type</td>\n",
       "      <td>0.150222</td>\n",
       "      <td>1</td>\n",
       "      <td>29</td>\n",
       "      <td>0.150222</td>\n",
       "      <td>3.890454</td>\n",
       "      <td>0.058164</td>\n",
       "      <td>0.058164</td>\n",
       "      <td>0.016742</td>\n",
       "      <td>1.000000</td>\n",
       "    </tr>\n",
       "    <tr>\n",
       "      <th>2</th>\n",
       "      <td>study_time * item_type</td>\n",
       "      <td>0.022111</td>\n",
       "      <td>2</td>\n",
       "      <td>58</td>\n",
       "      <td>0.011056</td>\n",
       "      <td>0.233351</td>\n",
       "      <td>0.792616</td>\n",
       "      <td>0.784701</td>\n",
       "      <td>0.002500</td>\n",
       "      <td>0.964082</td>\n",
       "    </tr>\n",
       "  </tbody>\n",
       "</table>\n",
       "</div>"
      ],
      "text/plain": [
       "                   Source        SS  ddof1  ddof2        MS          F  \\\n",
       "0              study_time  1.443000      2     58  0.721500  15.573874   \n",
       "1               item_type  0.150222      1     29  0.150222   3.890454   \n",
       "2  study_time * item_type  0.022111      2     58  0.011056   0.233351   \n",
       "\n",
       "      p-unc  p-GG-corr       ng2       eps  \n",
       "0  0.000004   0.000005  0.140566  0.965251  \n",
       "1  0.058164   0.058164  0.016742  1.000000  \n",
       "2  0.792616   0.784701  0.002500  0.964082  "
      ]
     },
     "metadata": {},
     "output_type": "display_data"
    }
   ],
   "source": [
    "vars = [anova2]\n",
    "if all([v is not None for v in vars]):\n",
    "    # this should print your variables\n",
    "    display(anova2)\n",
    "    \n",
    "    # this should not throw any errors\n",
    "    assert round(anova2.loc[0, \"F\"], 2) == 15.57\n",
    "    assert round(anova2.loc[1, \"F\"], 2) == 3.89\n",
    "    assert round(anova2.loc[2, \"F\"], 2) == 0.23\n",
    "    assert anova2.loc[0, \"ddof1\"] == 2\n",
    "    assert anova2.loc[0, \"ddof2\"] == 58\n",
    "    assert anova2.loc[1, \"ddof1\"] == 1\n",
    "    assert anova2.loc[1, \"ddof2\"] == 29\n",
    "    assert anova2.loc[2, \"ddof1\"] == 2\n",
    "    assert anova2.loc[2, \"ddof2\"] == 58"
   ]
  },
  {
   "cell_type": "markdown",
   "id": "3aae7050",
   "metadata": {},
   "source": [
    "## Problem (graduate students): t-test power analysis (3 points)\n",
    "\n",
    "Read about [power analysis](https://en.wikipedia.org/wiki/Power_(statistics)) and  using the Pingouin `power_ttest` [function](https://pingouin-stats.org/build/html/generated/pingouin.power_ttest.html). The probability of making a false-positive error is often called $\\alpha$. NHST is designed to control this probability. It is also important to consider false-negative errors. The probability of a false-negative error is called $\\beta$. The *statistical power* is the probability of detecting an effect if it is present, defined as $1 - \\beta$. Pingouin, and other statistical packages, allow us to estimate the statistical power of a given inferential test, based on the effect size and sample size.\n",
    "\n",
    "Calculate the statistical power for a two-sample t-test if $d=0.6$ and $n=20$. Assign it to a variable called `power`.\n",
    "\n",
    "Calculate the required sample size for a paired t-test if $d=0.45$ and $\\mathrm{power}=0.8$, and the alternative hypothesis is `\"greater\"`. Assign it to a variable called `n`.\n",
    "\n",
    "Calculate the effect size achieved for a one-sample t-test given $n=30$ and $\\mathrm{power}=0.8$. Assign it to a variable called `d`."
   ]
  },
  {
   "cell_type": "markdown",
   "id": "332b1a6f",
   "metadata": {},
   "source": [
    "### Setup"
   ]
  },
  {
   "cell_type": "code",
   "execution_count": 28,
   "id": "5dbf5a47",
   "metadata": {},
   "outputs": [],
   "source": [
    "power = None\n",
    "n = None\n",
    "d = None"
   ]
  },
  {
   "cell_type": "markdown",
   "id": "7a77fb25",
   "metadata": {},
   "source": [
    "### Answer"
   ]
  },
  {
   "cell_type": "code",
   "execution_count": 29,
   "id": "735d29e1",
   "metadata": {},
   "outputs": [],
   "source": [
    "# your code here"
   ]
  },
  {
   "cell_type": "markdown",
   "id": "65b1c596",
   "metadata": {},
   "source": [
    "### Result"
   ]
  },
  {
   "cell_type": "code",
   "execution_count": 30,
   "id": "89b87c48",
   "metadata": {},
   "outputs": [],
   "source": [
    "vars = [power, n, d]\n",
    "if all([v is not None for v in vars]):\n",
    "    # this should print your variables\n",
    "    print(power, n, d)\n",
    "    \n",
    "    # this should not throw any errors\n",
    "    assert round(power, 2) == 0.46\n",
    "    assert round(n, 2) == 31.93\n",
    "    assert round(d, 2) == 0.53"
   ]
  },
  {
   "cell_type": "markdown",
   "id": "6d3bf31f",
   "metadata": {},
   "source": [
    "## Problem (graduate students): ANOVA power analysis (3 points)\n",
    "\n",
    "Read about the Pingouin `power_rm_anova` [function](https://pingouin-stats.org/build/html/generated/pingouin.power_rm_anova.html). This [documentation](https://cran.r-project.org/web/packages/effectsize/vignettes/anovaES.html) from the R `effectsize` package gives background on the $\\eta^2$ measure of effect size.\n",
    "\n",
    "Calculate the statistical power for a repeated-measures ANOVA where $\\eta^2=0.1$, there are three repeated measurements $m$ (that is, three within-subjects conditions), and 10 participants $n$. Assign it to a variable called `power`.\n",
    "\n",
    "Calculate the required sample size for a repeated-measures ANOVA where $\\eta^2=0.1$, there are four within-subjects conditions $m$, and $\\mathrm{power}=0.8$. Assign it to a variable called `n`.\n",
    "\n",
    "Calculate the required effect size for a repeated-measures ANOVA where there are 25 participants $n$, five within-subjects conditions $m$, and $\\mathrm{power}=0.8$. Assign it to a variable called `eta_squared`."
   ]
  },
  {
   "cell_type": "markdown",
   "id": "601e5bb3",
   "metadata": {},
   "source": [
    "### Setup"
   ]
  },
  {
   "cell_type": "code",
   "execution_count": 31,
   "id": "a760633e",
   "metadata": {},
   "outputs": [],
   "source": [
    "power = None\n",
    "n = None\n",
    "eta_squared = None"
   ]
  },
  {
   "cell_type": "markdown",
   "id": "057c45df",
   "metadata": {},
   "source": [
    "### Answer"
   ]
  },
  {
   "cell_type": "code",
   "execution_count": 32,
   "id": "9e65d51a",
   "metadata": {},
   "outputs": [],
   "source": [
    "# your code here"
   ]
  },
  {
   "cell_type": "markdown",
   "id": "a21782cc",
   "metadata": {},
   "source": [
    "### Result"
   ]
  },
  {
   "cell_type": "code",
   "execution_count": 33,
   "id": "97368d4b",
   "metadata": {},
   "outputs": [],
   "source": [
    "vars = [power, n, eta_squared]\n",
    "if all([v is not None for v in vars]):\n",
    "    # this should print your variables\n",
    "    print(power, n, eta_squared)\n",
    "    \n",
    "    # this should not throw any errors\n",
    "    assert round(power, 2) == 0.56\n",
    "    assert round(n, 2) == 13.61\n",
    "    assert round(eta_squared, 2) == 0.05"
   ]
  },
  {
   "cell_type": "markdown",
   "id": "79d64270",
   "metadata": {},
   "source": [
    "## Problem (graduate students): pairwise tests (2 points)\n",
    "\n",
    "The [pairwise_tests](https://pingouin-stats.org/build/html/generated/pingouin.pairwise_tests.html#pingouin.pairwise_tests) function can be used to compare all individual groups of a given factor. It includes various methods (defined using the `padjust` input) for dealing with the [multiple comparisons problem](https://en.wikipedia.org/wiki/Multiple_comparisons_problem). When many statistical tests are run, the probability of there being at least one false positive increases rapidly. Various methods have been developed to control the rate of false positives while keeping statistical power relatively high.\n",
    "\n",
    "Given the `m_st` DataFrame, which has the average recognition memory performance for each subject and study time (1 2, or 4 seconds), use `pg.pairwise_tests` to test all pairwise comparisons between study time conditions. Use the FDR-BH method (false-discovery rate control using the Benjamini–Hochberg procedure) to calculate adjusted p-values. Assign the resulting DataFrame to a variable called `pw_tests`."
   ]
  },
  {
   "cell_type": "markdown",
   "id": "f7f3a0d5",
   "metadata": {},
   "source": [
    "### Setup"
   ]
  },
  {
   "cell_type": "code",
   "execution_count": 34,
   "id": "cf8621f9",
   "metadata": {},
   "outputs": [
    {
     "data": {
      "text/html": [
       "<div><style>\n",
       ".dataframe > thead > tr,\n",
       ".dataframe > tbody > tr {\n",
       "  text-align: right;\n",
       "  white-space: pre-wrap;\n",
       "}\n",
       "</style>\n",
       "<small>shape: (5, 3)</small><table border=\"1\" class=\"dataframe\"><thead><tr><th>subject</th><th>study_time</th><th>performance</th></tr><tr><td>str</td><td>i64</td><td>f64</td></tr></thead><tbody><tr><td>&quot;subj01&quot;</td><td>1</td><td>0.2</td></tr><tr><td>&quot;subj01&quot;</td><td>2</td><td>0.0</td></tr><tr><td>&quot;subj01&quot;</td><td>4</td><td>0.45</td></tr><tr><td>&quot;subj02&quot;</td><td>1</td><td>0.1</td></tr><tr><td>&quot;subj02&quot;</td><td>2</td><td>0.2</td></tr></tbody></table></div>"
      ],
      "text/plain": [
       "shape: (5, 3)\n",
       "┌─────────┬────────────┬─────────────┐\n",
       "│ subject ┆ study_time ┆ performance │\n",
       "│ ---     ┆ ---        ┆ ---         │\n",
       "│ str     ┆ i64        ┆ f64         │\n",
       "╞═════════╪════════════╪═════════════╡\n",
       "│ subj01  ┆ 1          ┆ 0.2         │\n",
       "│ subj01  ┆ 2          ┆ 0.0         │\n",
       "│ subj01  ┆ 4          ┆ 0.45        │\n",
       "│ subj02  ┆ 1          ┆ 0.1         │\n",
       "│ subj02  ┆ 2          ┆ 0.2         │\n",
       "└─────────┴────────────┴─────────────┘"
      ]
     },
     "execution_count": 34,
     "metadata": {},
     "output_type": "execute_result"
    }
   ],
   "source": [
    "pw_tests = None\n",
    "m_st.head()"
   ]
  },
  {
   "cell_type": "markdown",
   "id": "7fd6a228",
   "metadata": {},
   "source": [
    "### Answer"
   ]
  },
  {
   "cell_type": "code",
   "execution_count": 35,
   "id": "8ed35047",
   "metadata": {},
   "outputs": [],
   "source": [
    "# your code here"
   ]
  },
  {
   "cell_type": "markdown",
   "id": "f00df66b",
   "metadata": {},
   "source": [
    "### Result"
   ]
  },
  {
   "cell_type": "code",
   "execution_count": 36,
   "id": "0fa08037",
   "metadata": {},
   "outputs": [],
   "source": [
    "vars = [pw_tests]\n",
    "if all([v is not None for v in vars]):\n",
    "    # this should print your variables\n",
    "    display(pw_tests)\n",
    "    \n",
    "    # this should not throw any errors\n",
    "    assert (pw_tests[\"p-adjust\"] == \"fdr_bh\").all()\n",
    "    assert round(pw_tests.loc[0, \"T\"], 2) == -3.65\n",
    "    assert pw_tests.loc[0, \"dof\"] == 29\n",
    "    assert round(pw_tests.loc[1, \"T\"], 2) == -5.10\n",
    "    assert pw_tests.loc[1, \"dof\"] == 29\n",
    "    assert round(pw_tests.loc[2, \"T\"], 2) == -1.96\n",
    "    assert pw_tests.loc[0, \"dof\"] == 29"
   ]
  }
 ],
 "metadata": {
  "kernelspec": {
   "display_name": "Python 3",
   "language": "python",
   "name": "python3"
  },
  "language_info": {
   "codemirror_mode": {
    "name": "ipython",
    "version": 3
   },
   "file_extension": ".py",
   "mimetype": "text/x-python",
   "name": "python",
   "nbconvert_exporter": "python",
   "pygments_lexer": "ipython3",
   "version": "3.12.8"
  }
 },
 "nbformat": 4,
 "nbformat_minor": 5
}
