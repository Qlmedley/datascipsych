{
 "cells": [
  {
   "cell_type": "markdown",
   "metadata": {},
   "source": [
    "# Inferential Statistics\n",
    "\n",
    "By calculating descriptive statistics and plotting data visualizations, we may see differences in data observed in different conditions. However, before we conclude that there is a real difference, we must first consider the possibility that we are not observing true differences, but instead differences due to chance. We can test this possibility using inferential statistics."
   ]
  },
  {
   "cell_type": "code",
   "execution_count": 1,
   "metadata": {},
   "outputs": [
    {
     "data": {
      "text/html": [
       "<div><style>\n",
       ".dataframe > thead > tr,\n",
       ".dataframe > tbody > tr {\n",
       "  text-align: right;\n",
       "  white-space: pre-wrap;\n",
       "}\n",
       "</style>\n",
       "<small>shape: (24, 5)</small><table border=\"1\" class=\"dataframe\"><thead><tr><th>participant_id</th><th>trial_type</th><th>item_type</th><th>response</th><th>response_time</th></tr><tr><td>i64</td><td>str</td><td>i64</td><td>i64</td><td>f64</td></tr></thead><tbody><tr><td>1</td><td>&quot;target&quot;</td><td>1</td><td>1</td><td>1.5</td></tr><tr><td>1</td><td>&quot;lure&quot;</td><td>2</td><td>0</td><td>2.3</td></tr><tr><td>1</td><td>&quot;target&quot;</td><td>2</td><td>1</td><td>1.7</td></tr><tr><td>1</td><td>&quot;target&quot;</td><td>1</td><td>0</td><td>2.2</td></tr><tr><td>1</td><td>&quot;lure&quot;</td><td>2</td><td>1</td><td>1.8</td></tr><tr><td>&hellip;</td><td>&hellip;</td><td>&hellip;</td><td>&hellip;</td><td>&hellip;</td></tr><tr><td>3</td><td>&quot;lure&quot;</td><td>2</td><td>1</td><td>2.5</td></tr><tr><td>3</td><td>&quot;target&quot;</td><td>2</td><td>1</td><td>1.6</td></tr><tr><td>3</td><td>&quot;lure&quot;</td><td>2</td><td>0</td><td>2.8</td></tr><tr><td>3</td><td>&quot;lure&quot;</td><td>1</td><td>0</td><td>2.4</td></tr><tr><td>3</td><td>&quot;target&quot;</td><td>1</td><td>1</td><td>1.9</td></tr></tbody></table></div>"
      ],
      "text/plain": [
       "shape: (24, 5)\n",
       "┌────────────────┬────────────┬───────────┬──────────┬───────────────┐\n",
       "│ participant_id ┆ trial_type ┆ item_type ┆ response ┆ response_time │\n",
       "│ ---            ┆ ---        ┆ ---       ┆ ---      ┆ ---           │\n",
       "│ i64            ┆ str        ┆ i64       ┆ i64      ┆ f64           │\n",
       "╞════════════════╪════════════╪═══════════╪══════════╪═══════════════╡\n",
       "│ 1              ┆ target     ┆ 1         ┆ 1        ┆ 1.5           │\n",
       "│ 1              ┆ lure       ┆ 2         ┆ 0        ┆ 2.3           │\n",
       "│ 1              ┆ target     ┆ 2         ┆ 1        ┆ 1.7           │\n",
       "│ 1              ┆ target     ┆ 1         ┆ 0        ┆ 2.2           │\n",
       "│ 1              ┆ lure       ┆ 2         ┆ 1        ┆ 1.8           │\n",
       "│ …              ┆ …          ┆ …         ┆ …        ┆ …             │\n",
       "│ 3              ┆ lure       ┆ 2         ┆ 1        ┆ 2.5           │\n",
       "│ 3              ┆ target     ┆ 2         ┆ 1        ┆ 1.6           │\n",
       "│ 3              ┆ lure       ┆ 2         ┆ 0        ┆ 2.8           │\n",
       "│ 3              ┆ lure       ┆ 1         ┆ 0        ┆ 2.4           │\n",
       "│ 3              ┆ target     ┆ 1         ┆ 1        ┆ 1.9           │\n",
       "└────────────────┴────────────┴───────────┴──────────┴───────────────┘"
      ]
     },
     "execution_count": 1,
     "metadata": {},
     "output_type": "execute_result"
    }
   ],
   "source": [
    "import polars as pl\n",
    "import pingouin as pg\n",
    "study = pl.read_csv(\"../assignment9/study.csv\", null_values=\"n/a\")\n",
    "study"
   ]
  },
  {
   "cell_type": "code",
   "execution_count": 2,
   "metadata": {},
   "outputs": [
    {
     "data": {
      "text/html": [
       "<div><style>\n",
       ".dataframe > thead > tr,\n",
       ".dataframe > tbody > tr {\n",
       "  text-align: right;\n",
       "  white-space: pre-wrap;\n",
       "}\n",
       "</style>\n",
       "<small>shape: (3, 3)</small><table border=\"1\" class=\"dataframe\"><thead><tr><th>participant_id</th><th>target</th><th>lure</th></tr><tr><td>i64</td><td>f64</td><td>f64</td></tr></thead><tbody><tr><td>1</td><td>1.75</td><td>2.1</td></tr><tr><td>2</td><td>1.425</td><td>2.125</td></tr><tr><td>3</td><td>1.766667</td><td>2.525</td></tr></tbody></table></div>"
      ],
      "text/plain": [
       "shape: (3, 3)\n",
       "┌────────────────┬──────────┬───────┐\n",
       "│ participant_id ┆ target   ┆ lure  │\n",
       "│ ---            ┆ ---      ┆ ---   │\n",
       "│ i64            ┆ f64      ┆ f64   │\n",
       "╞════════════════╪══════════╪═══════╡\n",
       "│ 1              ┆ 1.75     ┆ 2.1   │\n",
       "│ 2              ┆ 1.425    ┆ 2.125 │\n",
       "│ 3              ┆ 1.766667 ┆ 2.525 │\n",
       "└────────────────┴──────────┴───────┘"
      ]
     },
     "execution_count": 2,
     "metadata": {},
     "output_type": "execute_result"
    }
   ],
   "source": [
    "df = (\n",
    "    study.drop_nulls()\n",
    "    .pivot(\"trial_type\", index=\"participant_id\", values=\"response_time\", aggregate_function=\"mean\")\n",
    ")\n",
    "df"
   ]
  },
  {
   "cell_type": "code",
   "execution_count": 3,
   "metadata": {},
   "outputs": [
    {
     "data": {
      "application/vnd.microsoft.datawrangler.viewer.v0+json": {
       "columns": [
        {
         "name": "index",
         "rawType": "object",
         "type": "string"
        },
        {
         "name": "T",
         "rawType": "float64",
         "type": "float"
        },
        {
         "name": "dof",
         "rawType": "int64",
         "type": "integer"
        },
        {
         "name": "alternative",
         "rawType": "object",
         "type": "string"
        },
        {
         "name": "p-val",
         "rawType": "float64",
         "type": "float"
        },
        {
         "name": "CI95%",
         "rawType": "object",
         "type": "unknown"
        },
        {
         "name": "cohen-d",
         "rawType": "float64",
         "type": "float"
        },
        {
         "name": "BF10",
         "rawType": "object",
         "type": "string"
        },
        {
         "name": "power",
         "rawType": "float64",
         "type": "float"
        }
       ],
       "conversionMethod": "pd.DataFrame",
       "ref": "b1a05b6e-1549-4c5f-97a9-dc24518bdb21",
       "rows": [
        [
         "T-test",
         "-4.727455680310748",
         "2",
         "two-sided",
         "0.04194960781610974",
         "[-1.15 -0.05]",
         "2.780680475719204",
         "2.839",
         "0.69337359398694"
        ]
       ],
       "shape": {
        "columns": 8,
        "rows": 1
       }
      },
      "text/html": [
       "<div>\n",
       "<style scoped>\n",
       "    .dataframe tbody tr th:only-of-type {\n",
       "        vertical-align: middle;\n",
       "    }\n",
       "\n",
       "    .dataframe tbody tr th {\n",
       "        vertical-align: top;\n",
       "    }\n",
       "\n",
       "    .dataframe thead th {\n",
       "        text-align: right;\n",
       "    }\n",
       "</style>\n",
       "<table border=\"1\" class=\"dataframe\">\n",
       "  <thead>\n",
       "    <tr style=\"text-align: right;\">\n",
       "      <th></th>\n",
       "      <th>T</th>\n",
       "      <th>dof</th>\n",
       "      <th>alternative</th>\n",
       "      <th>p-val</th>\n",
       "      <th>CI95%</th>\n",
       "      <th>cohen-d</th>\n",
       "      <th>BF10</th>\n",
       "      <th>power</th>\n",
       "    </tr>\n",
       "  </thead>\n",
       "  <tbody>\n",
       "    <tr>\n",
       "      <th>T-test</th>\n",
       "      <td>-4.727456</td>\n",
       "      <td>2</td>\n",
       "      <td>two-sided</td>\n",
       "      <td>0.04195</td>\n",
       "      <td>[-1.15, -0.05]</td>\n",
       "      <td>2.78068</td>\n",
       "      <td>2.839</td>\n",
       "      <td>0.693374</td>\n",
       "    </tr>\n",
       "  </tbody>\n",
       "</table>\n",
       "</div>"
      ],
      "text/plain": [
       "               T  dof alternative    p-val           CI95%  cohen-d   BF10  \\\n",
       "T-test -4.727456    2   two-sided  0.04195  [-1.15, -0.05]  2.78068  2.839   \n",
       "\n",
       "           power  \n",
       "T-test  0.693374  "
      ]
     },
     "execution_count": 3,
     "metadata": {},
     "output_type": "execute_result"
    }
   ],
   "source": [
    "pg.ttest(df[\"target\"], df[\"lure\"], paired=True)"
   ]
  },
  {
   "cell_type": "code",
   "execution_count": 4,
   "metadata": {},
   "outputs": [
    {
     "data": {
      "text/plain": [
       "<Axes: xlabel='trial_type', ylabel='response_time'>"
      ]
     },
     "execution_count": 4,
     "metadata": {},
     "output_type": "execute_result"
    },
    {
     "data": {
      "image/png": "[encoded data removed]",
      "text/plain": [
       "<Figure size 640x480 with 1 Axes>"
      ]
     },
     "metadata": {},
     "output_type": "display_data"
    }
   ],
   "source": [
    "import seaborn as sns\n",
    "sns.barplot(data=study, x=\"trial_type\", y=\"response_time\", hue=\"item_type\")"
   ]
  },
  {
   "cell_type": "code",
   "execution_count": 5,
   "metadata": {},
   "outputs": [
    {
     "name": "stderr",
     "output_type": "stream",
     "text": [
      "/Users/nmorton/VSCode/datascipsych/venv/lib/python3.12/site-packages/pingouin/distribution.py:507: FutureWarning: DataFrame.groupby with axis=1 is deprecated. Do `frame.T.groupby(...)` without axis instead.\n",
      "  data.groupby(level=1, axis=1, observed=True, group_keys=False)\n",
      "/Users/nmorton/VSCode/datascipsych/venv/lib/python3.12/site-packages/pingouin/distribution.py:508: FutureWarning: DataFrameGroupBy.diff with axis=1 is deprecated and will be removed in a future version. Operate on the un-grouped DataFrame instead\n",
      "  .diff(axis=1)\n"
     ]
    },
    {
     "data": {
      "application/vnd.microsoft.datawrangler.viewer.v0+json": {
       "columns": [
        {
         "name": "index",
         "rawType": "int64",
         "type": "integer"
        },
        {
         "name": "Source",
         "rawType": "object",
         "type": "string"
        },
        {
         "name": "SS",
         "rawType": "float64",
         "type": "float"
        },
        {
         "name": "ddof1",
         "rawType": "int64",
         "type": "integer"
        },
        {
         "name": "ddof2",
         "rawType": "int64",
         "type": "integer"
        },
        {
         "name": "MS",
         "rawType": "float64",
         "type": "float"
        },
        {
         "name": "F",
         "rawType": "float64",
         "type": "float"
        },
        {
         "name": "p-unc",
         "rawType": "float64",
         "type": "float"
        },
        {
         "name": "p-GG-corr",
         "rawType": "float64",
         "type": "float"
        },
        {
         "name": "ng2",
         "rawType": "float64",
         "type": "float"
        },
        {
         "name": "eps",
         "rawType": "float64",
         "type": "float"
        }
       ],
       "conversionMethod": "pd.DataFrame",
       "ref": "f63a02ce-b896-4e2d-be65-0a6159c87fd1",
       "rows": [
        [
         "0",
         "trial_type",
         "1.1718749999999991",
         "1",
         "2",
         "1.1718749999999991",
         "23.734177215189668",
         "0.03964467962767205",
         "0.03964467962767205",
         "0.7346219145879581",
         "1.0"
        ],
        [
         "1",
         "item_type",
         "0.00020833333333333183",
         "1",
         "2",
         "0.00020833333333333183",
         "0.007874015748031434",
         "0.9373775708914851",
         "0.9373775708914851",
         "0.0004918839153959616",
         "1.0"
        ],
        [
         "2",
         "trial_type * item_type",
         "0.046875000000000035",
         "1",
         "2",
         "0.046875000000000035",
         "3.5714285714285454",
         "0.19935923097456543",
         "0.19935923097456543",
         "0.09968985378821425",
         "1.0"
        ]
       ],
       "shape": {
        "columns": 10,
        "rows": 3
       }
      },
      "text/html": [
       "<div>\n",
       "<style scoped>\n",
       "    .dataframe tbody tr th:only-of-type {\n",
       "        vertical-align: middle;\n",
       "    }\n",
       "\n",
       "    .dataframe tbody tr th {\n",
       "        vertical-align: top;\n",
       "    }\n",
       "\n",
       "    .dataframe thead th {\n",
       "        text-align: right;\n",
       "    }\n",
       "</style>\n",
       "<table border=\"1\" class=\"dataframe\">\n",
       "  <thead>\n",
       "    <tr style=\"text-align: right;\">\n",
       "      <th></th>\n",
       "      <th>Source</th>\n",
       "      <th>SS</th>\n",
       "      <th>ddof1</th>\n",
       "      <th>ddof2</th>\n",
       "      <th>MS</th>\n",
       "      <th>F</th>\n",
       "      <th>p-unc</th>\n",
       "      <th>p-GG-corr</th>\n",
       "      <th>ng2</th>\n",
       "      <th>eps</th>\n",
       "    </tr>\n",
       "  </thead>\n",
       "  <tbody>\n",
       "    <tr>\n",
       "      <th>0</th>\n",
       "      <td>trial_type</td>\n",
       "      <td>1.171875</td>\n",
       "      <td>1</td>\n",
       "      <td>2</td>\n",
       "      <td>1.171875</td>\n",
       "      <td>23.734177</td>\n",
       "      <td>0.039645</td>\n",
       "      <td>0.039645</td>\n",
       "      <td>0.734622</td>\n",
       "      <td>1.0</td>\n",
       "    </tr>\n",
       "    <tr>\n",
       "      <th>1</th>\n",
       "      <td>item_type</td>\n",
       "      <td>0.000208</td>\n",
       "      <td>1</td>\n",
       "      <td>2</td>\n",
       "      <td>0.000208</td>\n",
       "      <td>0.007874</td>\n",
       "      <td>0.937378</td>\n",
       "      <td>0.937378</td>\n",
       "      <td>0.000492</td>\n",
       "      <td>1.0</td>\n",
       "    </tr>\n",
       "    <tr>\n",
       "      <th>2</th>\n",
       "      <td>trial_type * item_type</td>\n",
       "      <td>0.046875</td>\n",
       "      <td>1</td>\n",
       "      <td>2</td>\n",
       "      <td>0.046875</td>\n",
       "      <td>3.571429</td>\n",
       "      <td>0.199359</td>\n",
       "      <td>0.199359</td>\n",
       "      <td>0.099690</td>\n",
       "      <td>1.0</td>\n",
       "    </tr>\n",
       "  </tbody>\n",
       "</table>\n",
       "</div>"
      ],
      "text/plain": [
       "                   Source        SS  ddof1  ddof2        MS          F  \\\n",
       "0              trial_type  1.171875      1      2  1.171875  23.734177   \n",
       "1               item_type  0.000208      1      2  0.000208   0.007874   \n",
       "2  trial_type * item_type  0.046875      1      2  0.046875   3.571429   \n",
       "\n",
       "      p-unc  p-GG-corr       ng2  eps  \n",
       "0  0.039645   0.039645  0.734622  1.0  \n",
       "1  0.937378   0.937378  0.000492  1.0  \n",
       "2  0.199359   0.199359  0.099690  1.0  "
      ]
     },
     "execution_count": 5,
     "metadata": {},
     "output_type": "execute_result"
    }
   ],
   "source": [
    "pg.rm_anova(data=study.to_pandas(), dv=\"response_time\", within=[\"trial_type\", \"item_type\"], subject=\"participant_id\")"
   ]
  }
 ],
 "metadata": {
  "kernelspec": {
   "display_name": "datascipsych",
   "language": "python",
   "name": "datascipsych"
  },
  "language_info": {
   "codemirror_mode": {
    "name": "ipython",
    "version": 3
   },
   "file_extension": ".py",
   "mimetype": "text/x-python",
   "name": "python",
   "nbconvert_exporter": "python",
   "pygments_lexer": "ipython3",
   "version": "3.12.8"
  }
 },
 "nbformat": 4,
 "nbformat_minor": 2
}
